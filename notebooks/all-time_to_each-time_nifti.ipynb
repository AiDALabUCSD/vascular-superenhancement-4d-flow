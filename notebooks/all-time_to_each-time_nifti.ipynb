{
 "cells": [
  {
   "cell_type": "markdown",
   "metadata": {},
   "source": [
    "# need to test out loading a nifti, slicing it into its timepoints and then outputing a nifti for each timepoint"
   ]
  },
  {
   "cell_type": "code",
   "execution_count": 2,
   "metadata": {},
   "outputs": [],
   "source": [
    "cine_path = '/home/ayeluru/vascular-superenhancement-4d-flow/working_dir/sample_patients/patient_data/Bukrukesh/nifti/3d_cine_Bukrukesh.nii.gz'\n",
    "fmag_path = '/home/ayeluru/vascular-superenhancement-4d-flow/working_dir/sample_patients/patient_data/Bukrukesh/nifti/4d_flow_mag_Bukrukesh.nii.gz'\n",
    "f_vx_path = '/home/ayeluru/vascular-superenhancement-4d-flow/working_dir/sample_patients/patient_data/Bukrukesh/nifti/4d_flow_vx_Bukrukesh.nii.gz'\n",
    "f_vy_path = '/home/ayeluru/vascular-superenhancement-4d-flow/working_dir/sample_patients/patient_data/Bukrukesh/nifti/4d_flow_vy_Bukrukesh.nii.gz'\n",
    "f_vz_path = '/home/ayeluru/vascular-superenhancement-4d-flow/working_dir/sample_patients/patient_data/Bukrukesh/nifti/4d_flow_vz_Bukrukesh.nii.gz'"
   ]
  },
  {
   "cell_type": "code",
   "execution_count": 3,
   "metadata": {},
   "outputs": [
    {
     "name": "stdout",
     "output_type": "stream",
     "text": [
      "cine shape: (256, 256, 119, 20)\n",
      "fmag shape: (256, 256, 162, 20)\n",
      "f_vx shape: (256, 256, 162, 20)\n",
      "f_vy shape: (256, 256, 162, 20)\n",
      "f_vz shape: (256, 256, 162, 20)\n"
     ]
    }
   ],
   "source": [
    "import SimpleITK as sitk\n",
    "\n",
    "# Load both as SimpleITK images\n",
    "cine_sitk = sitk.ReadImage(str(cine_path))\n",
    "fmag_sitk = sitk.ReadImage(str(fmag_path))\n",
    "f_vx_sitk = sitk.ReadImage(str(f_vx_path))\n",
    "f_vy_sitk = sitk.ReadImage(str(f_vy_path))\n",
    "f_vz_sitk = sitk.ReadImage(str(f_vz_path))\n",
    "\n",
    "# Check dimensions\n",
    "print(\"cine shape:\", cine_sitk.GetSize())  # Should be 4D (x, y, z, t)\n",
    "print(\"fmag shape:\", fmag_sitk.GetSize())  # Should also be 4D\n",
    "print(\"f_vx shape:\", f_vx_sitk.GetSize())\n",
    "print(\"f_vy shape:\", f_vy_sitk.GetSize())\n",
    "print(\"f_vz shape:\", f_vz_sitk.GetSize())\n",
    "\n"
   ]
  },
  {
   "cell_type": "code",
   "execution_count": null,
   "metadata": {},
   "outputs": [
    {
     "name": "stdout",
     "output_type": "stream",
     "text": [
      "16-bit signed integer\n",
      "16-bit signed integer\n",
      "16-bit signed integer\n",
      "16-bit signed integer\n",
      "16-bit signed integer\n",
      "int16\n"
     ]
    }
   ],
   "source": [
    "print(cine_sitk.GetPixelIDTypeAsString())\n",
    "print(fmag_sitk.GetPixelIDTypeAsString())\n",
    "print(f_vx_sitk.GetPixelIDTypeAsString())\n",
    "print(f_vy_sitk.GetPixelIDTypeAsString())\n",
    "print(f_vz_sitk.GetPixelIDTypeAsString())"
   ]
  },
  {
   "cell_type": "code",
   "execution_count": 8,
   "metadata": {},
   "outputs": [
    {
     "name": "stdout",
     "output_type": "stream",
     "text": [
      "Loaded 20 3D timepoints\n"
     ]
    }
   ],
   "source": [
    "cine_volumes = [cine_sitk[:,:,:,t] for t in range(cine_sitk.GetSize()[3])]\n",
    "print(f\"Loaded {len(cine_volumes)} 3D timepoints\")\n"
   ]
  },
  {
   "cell_type": "code",
   "execution_count": 10,
   "metadata": {},
   "outputs": [
    {
     "name": "stdout",
     "output_type": "stream",
     "text": [
      "(256, 256, 162)\n",
      "Resampled cine timepoint 0\n",
      "(256, 256, 162)\n",
      "Resampled cine timepoint 1\n",
      "(256, 256, 162)\n",
      "Resampled cine timepoint 2\n",
      "(256, 256, 162)\n",
      "Resampled cine timepoint 3\n",
      "(256, 256, 162)\n",
      "Resampled cine timepoint 4\n",
      "(256, 256, 162)\n",
      "Resampled cine timepoint 5\n",
      "(256, 256, 162)\n",
      "Resampled cine timepoint 6\n",
      "(256, 256, 162)\n",
      "Resampled cine timepoint 7\n",
      "(256, 256, 162)\n",
      "Resampled cine timepoint 8\n",
      "(256, 256, 162)\n",
      "Resampled cine timepoint 9\n",
      "(256, 256, 162)\n",
      "Resampled cine timepoint 10\n",
      "(256, 256, 162)\n",
      "Resampled cine timepoint 11\n",
      "(256, 256, 162)\n",
      "Resampled cine timepoint 12\n",
      "(256, 256, 162)\n",
      "Resampled cine timepoint 13\n",
      "(256, 256, 162)\n",
      "Resampled cine timepoint 14\n",
      "(256, 256, 162)\n",
      "Resampled cine timepoint 15\n",
      "(256, 256, 162)\n",
      "Resampled cine timepoint 16\n",
      "(256, 256, 162)\n",
      "Resampled cine timepoint 17\n",
      "(256, 256, 162)\n",
      "Resampled cine timepoint 18\n",
      "(256, 256, 162)\n",
      "Resampled cine timepoint 19\n"
     ]
    }
   ],
   "source": [
    "flow_ref = fmag_sitk[:,:,:,0]  # or just pick any single volume\n",
    "\n",
    "resampled_cine_volumes = []\n",
    "resampler = sitk.ResampleImageFilter()\n",
    "resampler.SetReferenceImage(flow_ref)\n",
    "resampler.SetInterpolator(sitk.sitkLinear)\n",
    "resampler.SetTransform(sitk.Transform())\n",
    "\n",
    "for i, cine_3d in enumerate(cine_volumes):\n",
    "    resampled = resampler.Execute(cine_3d)\n",
    "    resampled_cine_volumes.append(resampled)\n",
    "    print(resampled.GetSize())\n",
    "    print(f\"Resampled cine timepoint {i}\")\n"
   ]
  },
  {
   "cell_type": "code",
   "execution_count": 15,
   "metadata": {},
   "outputs": [],
   "source": [
    "from pathlib import Path\n",
    "\n",
    "cine_split_path = Path('/home/ayeluru/vascular-superenhancement-4d-flow/working_dir/sample_patients/patient_data/Bukrukesh/nifti/test_split_3d_cine')\n",
    "cine_split_path.mkdir(exist_ok=True)\n"
   ]
  },
  {
   "cell_type": "code",
   "execution_count": 16,
   "metadata": {},
   "outputs": [
    {
     "name": "stdout",
     "output_type": "stream",
     "text": [
      "Saved /home/ayeluru/vascular-superenhancement-4d-flow/working_dir/sample_patients/patient_data/Bukrukesh/nifti/test_split_3d_cine/cine_frame_00.nii.gz\n",
      "Saved /home/ayeluru/vascular-superenhancement-4d-flow/working_dir/sample_patients/patient_data/Bukrukesh/nifti/test_split_3d_cine/cine_frame_01.nii.gz\n",
      "Saved /home/ayeluru/vascular-superenhancement-4d-flow/working_dir/sample_patients/patient_data/Bukrukesh/nifti/test_split_3d_cine/cine_frame_02.nii.gz\n",
      "Saved /home/ayeluru/vascular-superenhancement-4d-flow/working_dir/sample_patients/patient_data/Bukrukesh/nifti/test_split_3d_cine/cine_frame_03.nii.gz\n",
      "Saved /home/ayeluru/vascular-superenhancement-4d-flow/working_dir/sample_patients/patient_data/Bukrukesh/nifti/test_split_3d_cine/cine_frame_04.nii.gz\n",
      "Saved /home/ayeluru/vascular-superenhancement-4d-flow/working_dir/sample_patients/patient_data/Bukrukesh/nifti/test_split_3d_cine/cine_frame_05.nii.gz\n",
      "Saved /home/ayeluru/vascular-superenhancement-4d-flow/working_dir/sample_patients/patient_data/Bukrukesh/nifti/test_split_3d_cine/cine_frame_06.nii.gz\n",
      "Saved /home/ayeluru/vascular-superenhancement-4d-flow/working_dir/sample_patients/patient_data/Bukrukesh/nifti/test_split_3d_cine/cine_frame_07.nii.gz\n",
      "Saved /home/ayeluru/vascular-superenhancement-4d-flow/working_dir/sample_patients/patient_data/Bukrukesh/nifti/test_split_3d_cine/cine_frame_08.nii.gz\n",
      "Saved /home/ayeluru/vascular-superenhancement-4d-flow/working_dir/sample_patients/patient_data/Bukrukesh/nifti/test_split_3d_cine/cine_frame_09.nii.gz\n",
      "Saved /home/ayeluru/vascular-superenhancement-4d-flow/working_dir/sample_patients/patient_data/Bukrukesh/nifti/test_split_3d_cine/cine_frame_10.nii.gz\n",
      "Saved /home/ayeluru/vascular-superenhancement-4d-flow/working_dir/sample_patients/patient_data/Bukrukesh/nifti/test_split_3d_cine/cine_frame_11.nii.gz\n",
      "Saved /home/ayeluru/vascular-superenhancement-4d-flow/working_dir/sample_patients/patient_data/Bukrukesh/nifti/test_split_3d_cine/cine_frame_12.nii.gz\n",
      "Saved /home/ayeluru/vascular-superenhancement-4d-flow/working_dir/sample_patients/patient_data/Bukrukesh/nifti/test_split_3d_cine/cine_frame_13.nii.gz\n",
      "Saved /home/ayeluru/vascular-superenhancement-4d-flow/working_dir/sample_patients/patient_data/Bukrukesh/nifti/test_split_3d_cine/cine_frame_14.nii.gz\n",
      "Saved /home/ayeluru/vascular-superenhancement-4d-flow/working_dir/sample_patients/patient_data/Bukrukesh/nifti/test_split_3d_cine/cine_frame_15.nii.gz\n",
      "Saved /home/ayeluru/vascular-superenhancement-4d-flow/working_dir/sample_patients/patient_data/Bukrukesh/nifti/test_split_3d_cine/cine_frame_16.nii.gz\n",
      "Saved /home/ayeluru/vascular-superenhancement-4d-flow/working_dir/sample_patients/patient_data/Bukrukesh/nifti/test_split_3d_cine/cine_frame_17.nii.gz\n",
      "Saved /home/ayeluru/vascular-superenhancement-4d-flow/working_dir/sample_patients/patient_data/Bukrukesh/nifti/test_split_3d_cine/cine_frame_18.nii.gz\n",
      "Saved /home/ayeluru/vascular-superenhancement-4d-flow/working_dir/sample_patients/patient_data/Bukrukesh/nifti/test_split_3d_cine/cine_frame_19.nii.gz\n"
     ]
    }
   ],
   "source": [
    "\n",
    "for i, vol in enumerate(resampled_cine_volumes):\n",
    "    out_path = cine_split_path / f'cine_frame_{i:02d}.nii.gz'\n",
    "    sitk.WriteImage(vol, str(out_path))\n",
    "    print(f\"Saved {out_path}\")\n",
    "\n"
   ]
  }
 ],
 "metadata": {
  "kernelspec": {
   "display_name": "Python 3 (ipykernel)",
   "language": "python",
   "name": "python3"
  },
  "language_info": {
   "codemirror_mode": {
    "name": "ipython",
    "version": 3
   },
   "file_extension": ".py",
   "mimetype": "text/x-python",
   "name": "python",
   "nbconvert_exporter": "python",
   "pygments_lexer": "ipython3",
   "version": "3.10.16"
  }
 },
 "nbformat": 4,
 "nbformat_minor": 2
}
