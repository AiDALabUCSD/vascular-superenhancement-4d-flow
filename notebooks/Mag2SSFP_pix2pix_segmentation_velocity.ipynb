{
 "cells": [
  {
   "cell_type": "code",
   "execution_count": 1,
   "id": "595793f0",
   "metadata": {},
   "outputs": [
    {
     "name": "stderr",
     "output_type": "stream",
     "text": [
      "2025-04-03 09:05:14.888285: I tensorflow/stream_executor/platform/default/dso_loader.cc:53] Successfully opened dynamic library libcudart.so.11.0\n"
     ]
    },
    {
     "name": "stdout",
     "output_type": "stream",
     "text": [
      "INFO:tensorflow:Mixed precision compatibility check (mixed_float16): OK\n",
      "Your GPU will likely run quickly with dtype policy mixed_float16 as it has compute capability of at least 7.0. Your GPU: NVIDIA RTX A6000, compute capability 8.6\n"
     ]
    },
    {
     "name": "stderr",
     "output_type": "stream",
     "text": [
      "2025-04-03 09:05:15.718959: I tensorflow/stream_executor/platform/default/dso_loader.cc:53] Successfully opened dynamic library libcuda.so.1\n",
      "2025-04-03 09:05:15.746886: I tensorflow/stream_executor/cuda/cuda_gpu_executor.cc:937] successful NUMA node read from SysFS had negative value (-1), but there must be at least one NUMA node, so returning NUMA node zero\n",
      "2025-04-03 09:05:15.750045: I tensorflow/core/common_runtime/gpu/gpu_device.cc:1733] Found device 0 with properties: \n",
      "pciBusID: 0000:09:00.0 name: NVIDIA RTX A6000 computeCapability: 8.6\n",
      "coreClock: 1.8GHz coreCount: 84 deviceMemorySize: 47.43GiB deviceMemoryBandwidth: 715.34GiB/s\n",
      "2025-04-03 09:05:15.750059: I tensorflow/stream_executor/platform/default/dso_loader.cc:53] Successfully opened dynamic library libcudart.so.11.0\n",
      "2025-04-03 09:05:15.770381: I tensorflow/stream_executor/platform/default/dso_loader.cc:53] Successfully opened dynamic library libcublas.so.11\n",
      "2025-04-03 09:05:15.770411: I tensorflow/stream_executor/platform/default/dso_loader.cc:53] Successfully opened dynamic library libcublasLt.so.11\n",
      "2025-04-03 09:05:15.773215: I tensorflow/stream_executor/platform/default/dso_loader.cc:53] Successfully opened dynamic library libcufft.so.10\n",
      "2025-04-03 09:05:15.773432: I tensorflow/stream_executor/platform/default/dso_loader.cc:53] Successfully opened dynamic library libcurand.so.10\n",
      "2025-04-03 09:05:15.773896: I tensorflow/stream_executor/platform/default/dso_loader.cc:53] Successfully opened dynamic library libcusolver.so.11\n",
      "2025-04-03 09:05:15.774510: I tensorflow/stream_executor/platform/default/dso_loader.cc:53] Successfully opened dynamic library libcusparse.so.11\n",
      "2025-04-03 09:05:15.774603: I tensorflow/stream_executor/platform/default/dso_loader.cc:53] Successfully opened dynamic library libcudnn.so.8\n",
      "2025-04-03 09:05:15.774688: I tensorflow/stream_executor/cuda/cuda_gpu_executor.cc:937] successful NUMA node read from SysFS had negative value (-1), but there must be at least one NUMA node, so returning NUMA node zero\n",
      "2025-04-03 09:05:15.777514: I tensorflow/stream_executor/cuda/cuda_gpu_executor.cc:937] successful NUMA node read from SysFS had negative value (-1), but there must be at least one NUMA node, so returning NUMA node zero\n",
      "2025-04-03 09:05:15.780141: I tensorflow/core/common_runtime/gpu/gpu_device.cc:1871] Adding visible gpu devices: 0\n",
      "2025-04-03 09:05:15.780319: I tensorflow/stream_executor/cuda/cuda_gpu_executor.cc:937] successful NUMA node read from SysFS had negative value (-1), but there must be at least one NUMA node, so returning NUMA node zero\n"
     ]
    }
   ],
   "source": [
    "# 📦 1. Imports\n",
    "import tensorflow as tf\n",
    "import h5py\n",
    "import numpy as np\n",
    "import matplotlib.pyplot as plt\n",
    "from tensorflow_examples.models.pix2pix import pix2pix\n",
    "from tensorflow.keras import mixed_precision\n",
    "\n",
    "# Enable mixed precision\n",
    "mixed_precision.set_global_policy('mixed_float16')"
   ]
  },
  {
   "cell_type": "code",
   "execution_count": 2,
   "id": "b42e634c",
   "metadata": {},
   "outputs": [],
   "source": [
    "# 🔑 2. Open HDF5 File\n",
    "hdf5_path = '/data/evmasuta/mag2ssfp/seg_dset.hdf5'  # Update this path to your HDF5 file\n",
    "h5file = h5py.File(hdf5_path, \"r\")\n",
    "\n",
    "train_data = h5file['training']      # shape (N, 256, 256, 8)\n",
    "valid_data = h5file['validation']\n",
    "test_data  = h5file['testing']"
   ]
  },
  {
   "cell_type": "code",
   "execution_count": 3,
   "id": "02a3c885",
   "metadata": {},
   "outputs": [
    {
     "name": "stderr",
     "output_type": "stream",
     "text": [
      "2025-04-03 09:05:15.792803: I tensorflow/core/platform/cpu_feature_guard.cc:142] This TensorFlow binary is optimized with oneAPI Deep Neural Network Library (oneDNN) to use the following CPU instructions in performance-critical operations:  AVX2 FMA\n",
      "To enable them in other operations, rebuild TensorFlow with the appropriate compiler flags.\n",
      "2025-04-03 09:05:15.793446: I tensorflow/stream_executor/cuda/cuda_gpu_executor.cc:937] successful NUMA node read from SysFS had negative value (-1), but there must be at least one NUMA node, so returning NUMA node zero\n",
      "2025-04-03 09:05:15.796168: I tensorflow/core/common_runtime/gpu/gpu_device.cc:1733] Found device 0 with properties: \n",
      "pciBusID: 0000:09:00.0 name: NVIDIA RTX A6000 computeCapability: 8.6\n",
      "coreClock: 1.8GHz coreCount: 84 deviceMemorySize: 47.43GiB deviceMemoryBandwidth: 715.34GiB/s\n",
      "2025-04-03 09:05:15.796212: I tensorflow/stream_executor/cuda/cuda_gpu_executor.cc:937] successful NUMA node read from SysFS had negative value (-1), but there must be at least one NUMA node, so returning NUMA node zero\n",
      "2025-04-03 09:05:15.798847: I tensorflow/stream_executor/cuda/cuda_gpu_executor.cc:937] successful NUMA node read from SysFS had negative value (-1), but there must be at least one NUMA node, so returning NUMA node zero\n",
      "2025-04-03 09:05:15.801451: I tensorflow/core/common_runtime/gpu/gpu_device.cc:1871] Adding visible gpu devices: 0\n",
      "2025-04-03 09:05:15.801472: I tensorflow/stream_executor/platform/default/dso_loader.cc:53] Successfully opened dynamic library libcudart.so.11.0\n",
      "2025-04-03 09:05:15.919601: I tensorflow/core/common_runtime/gpu/gpu_device.cc:1258] Device interconnect StreamExecutor with strength 1 edge matrix:\n",
      "2025-04-03 09:05:15.919621: I tensorflow/core/common_runtime/gpu/gpu_device.cc:1264]      0 \n",
      "2025-04-03 09:05:15.919627: I tensorflow/core/common_runtime/gpu/gpu_device.cc:1277] 0:   N \n",
      "2025-04-03 09:05:15.919810: I tensorflow/stream_executor/cuda/cuda_gpu_executor.cc:937] successful NUMA node read from SysFS had negative value (-1), but there must be at least one NUMA node, so returning NUMA node zero\n",
      "2025-04-03 09:05:15.920953: I tensorflow/stream_executor/cuda/cuda_gpu_executor.cc:937] successful NUMA node read from SysFS had negative value (-1), but there must be at least one NUMA node, so returning NUMA node zero\n",
      "2025-04-03 09:05:15.922008: I tensorflow/stream_executor/cuda/cuda_gpu_executor.cc:937] successful NUMA node read from SysFS had negative value (-1), but there must be at least one NUMA node, so returning NUMA node zero\n",
      "2025-04-03 09:05:15.923223: I tensorflow/core/common_runtime/gpu/gpu_device.cc:1418] Created TensorFlow device (/job:localhost/replica:0/task:0/device:GPU:0 with 45923 MB memory) -> physical GPU (device: 0, name: NVIDIA RTX A6000, pci bus id: 0000:09:00.0, compute capability: 8.6)\n"
     ]
    }
   ],
   "source": [
    "# 🔄 3. HDF5-Based tf.data.Dataset\n",
    "def load_pair(index, source):\n",
    "    img = source[index.numpy()]        # shape: (256, 256, 8)\n",
    "    x = tf.convert_to_tensor(img[64:-64,64:-64, 1:2], dtype=tf.float32)  # input: channel 1 mag\n",
    "    x_vel = tf.convert_to_tensor(img[64:-64,64:-64, 5:8], dtype=tf.float32)  # input: channel 5,6,7 velocity\n",
    "    x = tf.concat([x, x_vel], axis=-1)\n",
    "    \n",
    "    y = tf.convert_to_tensor(img[64:-64,64:-64, 0:1], dtype=tf.float32)  # target: channel 0 ssfp\n",
    "\n",
    "    return x, y\n",
    "\n",
    "def get_dataset(source, batch_size=64, shuffle=True):\n",
    "    indices = tf.data.Dataset.from_tensor_slices(tf.range(len(source)))\n",
    "    \n",
    "    def tf_wrapper(idx):\n",
    "        return tf.py_function(func=lambda i: load_pair(i, source), inp=[idx], Tout=[tf.float32, tf.float32])\n",
    "    \n",
    "    ds = indices.map(tf_wrapper, num_parallel_calls=tf.data.AUTOTUNE)\n",
    "    ds = ds.map(lambda x, y: (tf.ensure_shape(x, [128, 128, 4]),\n",
    "                              tf.ensure_shape(y, [128, 128, 1])))\n",
    "    if shuffle:\n",
    "        ds = ds.shuffle(1000)\n",
    "    return ds.batch(batch_size).prefetch(tf.data.AUTOTUNE)\n",
    "\n",
    "train_dataset = get_dataset(train_data)\n",
    "valid_dataset = get_dataset(valid_data, shuffle=False)"
   ]
  },
  {
   "cell_type": "code",
   "execution_count": 4,
   "id": "801024ae",
   "metadata": {},
   "outputs": [],
   "source": [
    "import tensorflow as tf\n",
    "from tensorflow.keras import layers\n",
    "\n",
    "def downsample(filters, size, apply_batchnorm=True):\n",
    "    initializer = tf.random_normal_initializer(0., 0.02)\n",
    "    result = tf.keras.Sequential()\n",
    "    result.add(layers.Conv2D(filters, size, strides=2, padding='same',\n",
    "                             kernel_initializer=initializer, use_bias=not apply_batchnorm))\n",
    "    if apply_batchnorm:\n",
    "        result.add(layers.BatchNormalization())\n",
    "    result.add(layers.LeakyReLU())\n",
    "    return result\n",
    "\n",
    "def upsample(filters, size, apply_dropout=False):\n",
    "    initializer = tf.random_normal_initializer(0., 0.02)\n",
    "    result = tf.keras.Sequential()\n",
    "    result.add(layers.Conv2DTranspose(filters, size, strides=2,\n",
    "                                      padding='same',\n",
    "                                      kernel_initializer=initializer,\n",
    "                                      use_bias=False))\n",
    "    result.add(layers.BatchNormalization())\n",
    "    if apply_dropout:\n",
    "        result.add(layers.Dropout(0.5))\n",
    "    result.add(layers.ReLU())\n",
    "    return result\n",
    "\n",
    "def Generator():\n",
    "    inputs = layers.Input(shape=[128, 128, 4])\n",
    "\n",
    "    # Downsampling\n",
    "    down_stack = [\n",
    "        downsample(64, 4, apply_batchnorm=False),  # (64x64)\n",
    "        downsample(128, 4),  # (32x32)\n",
    "        downsample(256, 4),  # (16x16)\n",
    "        downsample(512, 4),  # (8x8)\n",
    "        downsample(512, 4),  # (4x4)\n",
    "        downsample(512, 4),  # (2x2)\n",
    "#         downsample(64, 4, apply_batchnorm=False),  # (96x96)\n",
    "#         downsample(128, 4),  # (48x48)\n",
    "#         downsample(256, 4),  # (24x24)\n",
    "#         downsample(512, 4),  # (12x12)\n",
    "#         downsample(512, 4),  # (6x6)\n",
    "#         downsample(512, 4),  # (3x3)\n",
    "    ]\n",
    "\n",
    "    # Upsampling\n",
    "    up_stack = [\n",
    "        upsample(512, 4, apply_dropout=True),  # (4x4)\n",
    "        upsample(512, 4, apply_dropout=True),  # (8x8)\n",
    "        upsample(256, 4, apply_dropout=True),  # (16x16)\n",
    "        upsample(128, 4),  # (32x32)\n",
    "        upsample(64, 4),   # (64x64)\n",
    "#         upsample(512, 4, apply_dropout=True),  # (6x6)\n",
    "#         upsample(512, 4, apply_dropout=True),  # (12x12)\n",
    "#         upsample(256, 4, apply_dropout=True),  # (24x24)\n",
    "#         upsample(128, 4),  # (48x48)\n",
    "#         upsample(64, 4),   # (96x96)\n",
    "    ]\n",
    "\n",
    "    initializer = tf.random_normal_initializer(0., 0.02)\n",
    "    last = layers.Conv2DTranspose(1, 4,\n",
    "                                  strides=2,\n",
    "                                  padding='same',\n",
    "                                  kernel_initializer=initializer,\n",
    "                                  activation='tanh', dtype='float32')  # (192x192x3)\n",
    "\n",
    "    x = inputs\n",
    "    skips = []\n",
    "    for down in down_stack:\n",
    "        x = down(x)\n",
    "        skips.append(x)\n",
    "\n",
    "    skips = reversed(skips[:-1])\n",
    "    for up, skip in zip(up_stack, skips):\n",
    "        x = up(x)\n",
    "        x = layers.Concatenate()([x, skip])\n",
    "\n",
    "    x = last(x)\n",
    "    return tf.keras.Model(inputs=inputs, outputs=x)"
   ]
  },
  {
   "cell_type": "code",
   "execution_count": 5,
   "id": "0d107080",
   "metadata": {},
   "outputs": [],
   "source": [
    "def Discriminator():\n",
    "    initializer = tf.random_normal_initializer(0., 0.02)\n",
    "\n",
    "    inp = layers.Input(shape=[128, 128, 1], name='input_image')\n",
    "    tar = layers.Input(shape=[128, 128, 1], name='target_image')\n",
    "\n",
    "    x = layers.Concatenate()([inp, tar])  # (128x128x6)\n",
    "\n",
    "    down1 = downsample(64, 4, False)(x)   # (96x96x64)\n",
    "    down2 = downsample(128, 4)(down1)     # (48x48x128)\n",
    "    down3 = downsample(256, 4)(down2)     # (24x24x256)\n",
    "\n",
    "    zero_pad1 = layers.ZeroPadding2D()(down3)  # (26x26)\n",
    "    conv = layers.Conv2D(512, 4, strides=1,\n",
    "                         kernel_initializer=initializer,\n",
    "                         use_bias=False)(zero_pad1)  # (23x23x512)\n",
    "\n",
    "    batchnorm1 = layers.BatchNormalization()(conv)\n",
    "    leaky_relu = layers.LeakyReLU()(batchnorm1)\n",
    "    zero_pad2 = layers.ZeroPadding2D()(leaky_relu)  # (25x25)\n",
    "\n",
    "    last = layers.Conv2D(1, 4, strides=1,\n",
    "                         kernel_initializer=initializer, dtype='float32')(zero_pad2)  # (22x22x1)\n",
    "\n",
    "    return tf.keras.Model(inputs=[inp, tar], outputs=last)\n"
   ]
  },
  {
   "cell_type": "code",
   "execution_count": 6,
   "id": "1a94ce93",
   "metadata": {},
   "outputs": [],
   "source": [
    "\"\"\"\n",
    "Myocardial segmentation loss\n",
    "\"\"\"\n",
    "def dice_loss(y_true, y_pred):\n",
    "    smooth = tf.cast(1., dtype=tf.float32)\n",
    "\n",
    "    y_true = tf.cast(y_true, dtype=tf.float32)\n",
    "    y_pred = tf.cast(y_pred, dtype=tf.float32)\n",
    "    \n",
    "    # Flatten across batch and spatial dims, keep channels\n",
    "    y_true_f = K.batch_flatten(y_true)\n",
    "    y_pred_f = K.batch_flatten(y_pred)\n",
    "\n",
    "    intersection = y_true_f * y_pred_f\n",
    "    union = y_true_f + y_pred_f\n",
    "\n",
    "    # Sum over pixels, keep channel dim\n",
    "    intersection_sum = tf.reduce_sum(intersection, axis=1)\n",
    "    union_sum = tf.reduce_sum(union, axis=1)\n",
    "\n",
    "    dice = (2.0 * intersection_sum + smooth) / (union_sum + smooth)\n",
    "    dice_loss = 1.0 - dice  # shape: (batch_size, channels)\n",
    "\n",
    "    # Mean over channels and batch\n",
    "    return tf.cast(tf.reduce_mean(dice_loss), dtype=tf.float16)\n",
    "\n",
    "seg_unet = tf.keras.models.load_model(\"/data/evmasuta/mag2ssfp/myo_seg_128_sax_3ch.hdf5\", custom_objects={\"dice_loss\":dice_loss})\n",
    "seg_unet.trainable = False\n",
    "\n",
    "def segmentation_consistency_loss(fake_output, real_output, epsilon = 1.0):\n",
    "    seg_fake = seg_unet(fake_output, training=False)['outputs_images']\n",
    "    seg_real = seg_unet(real_output, training=False)['outputs_images']\n",
    "    # Flatten for Dice computation\n",
    "    seg_fake_flat = tf.reshape(seg_fake, [seg_fake.shape[0], -1])\n",
    "    seg_real_flat = tf.reshape(seg_real, [seg_real.shape[0], -1])\n",
    "\n",
    "    intersection = tf.reduce_sum(seg_fake_flat * seg_real_flat, axis=1)\n",
    "    denominator = tf.reduce_sum(seg_fake_flat, axis=1) + tf.reduce_sum(seg_real_flat, axis=1)\n",
    "\n",
    "    dice_score = (2. * intersection + epsilon) / (denominator + epsilon)\n",
    "    dice_loss = 1 - dice_score\n",
    "    dice_loss = tf.clip_by_value(dice_loss, 0.0, 1.0)\n",
    "    return tf.cast(tf.reduce_mean(dice_loss), dtype=tf.float32)\n",
    "#     return tf.cast(tf.reduce_mean(tf.abs(seg_fake - seg_real)), dtype=tf.float32)  # Or Dice, SSIM, etc."
   ]
  },
  {
   "cell_type": "code",
   "execution_count": 7,
   "id": "b1ff7b6e",
   "metadata": {},
   "outputs": [],
   "source": [
    "# 🧠 4. Build Generator and Discriminator\n",
    "\n",
    "generator = Generator()\n",
    "discriminator = Discriminator()"
   ]
  },
  {
   "cell_type": "code",
   "execution_count": 8,
   "id": "073c5cb9",
   "metadata": {},
   "outputs": [],
   "source": [
    "# ⚙️ 5. Loss Functions & Optimizers\n",
    "loss_obj = tf.keras.losses.BinaryCrossentropy(from_logits=True)\n",
    "\n",
    "def generator_loss(disc_generated_output, gen_output, target, seg_weight=5.0):\n",
    "    gan_loss = loss_obj(tf.ones_like(disc_generated_output), disc_generated_output)\n",
    "    l1_loss = tf.reduce_mean(tf.abs(target - gen_output))\n",
    "    seg_loss = segmentation_consistency_loss(gen_output, target)\n",
    "    gan_loss = tf.cast(gan_loss, tf.float32)\n",
    "    l1_loss = tf.cast(l1_loss, tf.float32)\n",
    "    seg_loss = tf.cast(seg_loss, tf.float32)\n",
    "    total_gen_loss = gan_loss + (100 * l1_loss) + (seg_weight * seg_loss)\n",
    "    return total_gen_loss\n",
    "\n",
    "def discriminator_loss(disc_real_output, disc_generated_output):\n",
    "    real_loss = loss_obj(tf.ones_like(disc_real_output), disc_real_output)\n",
    "    generated_loss = loss_obj(tf.zeros_like(disc_generated_output), disc_generated_output)\n",
    "    return real_loss + generated_loss\n",
    "\n",
    "base_generator_optimizer = tf.keras.optimizers.Adam(3e-5, beta_1=0.5)\n",
    "base_discriminator_optimizer = tf.keras.optimizers.Adam(3e-5, beta_1=0.5)\n",
    "\n",
    "gen_optimizer = mixed_precision.LossScaleOptimizer(base_generator_optimizer)\n",
    "disc_optimizer = mixed_precision.LossScaleOptimizer(base_discriminator_optimizer)"
   ]
  },
  {
   "cell_type": "code",
   "execution_count": 9,
   "id": "1dc4e40c",
   "metadata": {},
   "outputs": [],
   "source": [
    "# 🔁 6. Training Step\n",
    "@tf.function\n",
    "def train_step(input_image, target):\n",
    "    # Extract the magnitude channel (assuming it's channel 0)\n",
    "    mag_only = input_image[..., :1]\n",
    "    \n",
    "    with tf.GradientTape() as gen_tape, tf.GradientTape() as disc_tape:\n",
    "        gen_output = generator(input_image, training=True)\n",
    "\n",
    "        disc_real_output = discriminator([mag_only, target], training=True)\n",
    "        disc_generated_output = discriminator([mag_only, gen_output], training=True)\n",
    "\n",
    "        gen_loss = generator_loss(disc_generated_output, gen_output, target)\n",
    "        disc_loss = discriminator_loss(disc_real_output, disc_generated_output)\n",
    "\n",
    "        # Scale the losses\n",
    "        scaled_gen_loss = gen_optimizer.get_scaled_loss(gen_loss)\n",
    "        scaled_disc_loss = disc_optimizer.get_scaled_loss(disc_loss)\n",
    "\n",
    "    # Compute gradients\n",
    "    scaled_gen_grads = gen_tape.gradient(scaled_gen_loss, generator.trainable_variables)\n",
    "    scaled_disc_grads = disc_tape.gradient(scaled_disc_loss, discriminator.trainable_variables)\n",
    "\n",
    "    # Unscale them\n",
    "    gen_grads = gen_optimizer.get_unscaled_gradients(scaled_gen_grads)\n",
    "    disc_grads = disc_optimizer.get_unscaled_gradients(scaled_disc_grads)\n",
    "\n",
    "    # Apply gradients\n",
    "    gen_optimizer.apply_gradients(zip(gen_grads, generator.trainable_variables))\n",
    "    disc_optimizer.apply_gradients(zip(disc_grads, discriminator.trainable_variables))\n",
    "#     return gen_loss, disc_loss\n",
    "    return tf.reduce_mean(gen_loss), tf.reduce_mean(disc_loss)"
   ]
  },
  {
   "cell_type": "code",
   "execution_count": 10,
   "id": "173ad21f",
   "metadata": {},
   "outputs": [],
   "source": [
    "def evaluate_dice_ssim(generator, val_dataset, seg_model, alpha=0.5):\n",
    "    total_dice = 0.0\n",
    "    total_ssim = 0.0\n",
    "    count = 0\n",
    "\n",
    "    for input_image, target in val_dataset:\n",
    "        prediction = generator(input_image, training=False)\n",
    "\n",
    "        # --- Dice score via seg_unet ---\n",
    "        seg_pred = seg_model(prediction, training=False)\n",
    "        seg_target = seg_model(target, training=False)\n",
    "\n",
    "        if isinstance(seg_pred, dict):   seg_pred = list(seg_pred.values())[0]\n",
    "        if isinstance(seg_target, dict): seg_target = list(seg_target.values())[0]\n",
    "        pred_flat = tf.reshape(seg_pred, [seg_pred.shape[0], -1])\n",
    "        target_flat = tf.reshape(seg_target, [seg_target.shape[0], -1])\n",
    "        intersection = tf.reduce_sum(pred_flat * target_flat, axis=1)\n",
    "        denominator = tf.reduce_sum(pred_flat, axis=1) + tf.reduce_sum(target_flat, axis=1)\n",
    "        dice_score = (2. * intersection + 1.) / (denominator + 1.)\n",
    "        total_dice += tf.reduce_sum(dice_score) # <-- reduce mean for multichannel segmentation\n",
    "\n",
    "        # --- SSIM score ---\n",
    "        ssim_score = tf.image.ssim(prediction, target, max_val=1.0)  # Inputs in [-1, 1], range = 2\n",
    "        total_ssim += tf.reduce_sum(ssim_score)\n",
    "\n",
    "        count += prediction.shape[0]\n",
    "\n",
    "    avg_dice = tf.cast(total_dice / count, dtype=tf.float32)\n",
    "    avg_ssim = tf.cast(total_ssim / count, dtype=tf.float32)\n",
    "    composite = alpha * avg_dice + (1 - alpha) * avg_ssim\n",
    "\n",
    "    return avg_dice, avg_ssim, composite"
   ]
  },
  {
   "cell_type": "code",
   "execution_count": 11,
   "id": "28097ed7",
   "metadata": {},
   "outputs": [],
   "source": [
    "# import time\n",
    "# from IPython.display import clear_output\n",
    "\n",
    "# def generate_and_show_sample(generator, dataset, num=3):\n",
    "#     for input_image, target in dataset.take(num):\n",
    "#         prediction = generator(input_image, training=False)\n",
    "        \n",
    "#         plt.figure(figsize=(12, 4))\n",
    "#         titles = [\"Input (Ch.1)\", \"Target (Ch.0)\", \"Generated\"]\n",
    "#         for i, img in enumerate([input_image[0], target[0], prediction[0]]):\n",
    "#             plt.subplot(1, 3, i + 1)\n",
    "#             plt.imshow(img[..., 0], cmap='gray')\n",
    "#             plt.title(titles[i])\n",
    "#             plt.axis('off')\n",
    "#         plt.show()"
   ]
  },
  {
   "cell_type": "code",
   "execution_count": 12,
   "id": "68542360",
   "metadata": {},
   "outputs": [],
   "source": [
    "def generate_and_save_sample(generator, dataset, seg_model, save_dir, epoch, num=3):\n",
    "    os.makedirs(save_dir, exist_ok=True)\n",
    "\n",
    "    titles = [\"Input (Ch.1)\", \"Generated\", \"Target (Ch.0)\"]\n",
    "    seg_titles = [\"Seg(Input)\", \"Seg(Generated)\", \"Seg(Target)\"]\n",
    "\n",
    "    fig, axs = plt.subplots(2 * num, 3, figsize=(12, 4 * num))  # 2 rows per sample\n",
    "\n",
    "    for idx, (input_image, target) in enumerate(dataset.take(num)):\n",
    "        mag_only = input_image[..., :1]\n",
    "        prediction = generator(input_image, training=False)\n",
    "\n",
    "        # Run all images through the frozen segmentation model\n",
    "        seg_input = seg_model(mag_only, training=False)\n",
    "        seg_target = seg_model(target, training=False)\n",
    "        seg_pred = seg_model(prediction, training=False)\n",
    "\n",
    "        # Handle dict outputs\n",
    "        if isinstance(seg_input, dict):  seg_input = list(seg_input.values())[0]\n",
    "        if isinstance(seg_target, dict): seg_target = list(seg_target.values())[0]\n",
    "        if isinstance(seg_pred, dict):   seg_pred = list(seg_pred.values())[0]\n",
    "\n",
    "        images = [mag_only[0], prediction[0], target[0]]\n",
    "        segs = [seg_input[0][..., 1], seg_pred[0][..., 1], seg_target[0][..., 1]]\n",
    "\n",
    "        # Plot top row: input, generated, target\n",
    "        for i in range(3):\n",
    "            ax = axs[2 * idx][i] if num > 1 else axs[2 * idx + 0, i]\n",
    "            ax.imshow(tf.squeeze(images[i]), cmap='gray')\n",
    "            ax.set_title(titles[i])\n",
    "            ax.axis('off')\n",
    "\n",
    "        # Plot bottom row: seg(input), seg(pred), seg(target)\n",
    "        for i in range(3):\n",
    "            ax = axs[2 * idx + 1][i] if num > 1 else axs[2 * idx + 1, i]\n",
    "            ax.imshow(tf.squeeze(segs[i]), cmap='gray')\n",
    "            ax.set_title(seg_titles[i])\n",
    "            ax.axis('off')\n",
    "\n",
    "    plt.tight_layout()\n",
    "    filename = os.path.join(save_dir, f\"epoch_{epoch:03d}.png\")\n",
    "    plt.savefig(filename, bbox_inches='tight', dpi=150)\n",
    "    plt.close()"
   ]
  },
  {
   "cell_type": "code",
   "execution_count": 13,
   "id": "e41a2bf1",
   "metadata": {},
   "outputs": [],
   "source": [
    "import os\n",
    "checkpoint_dir = \"checkpoints_mag2ssfp_pix2pix\"\n",
    "os.makedirs(checkpoint_dir, exist_ok=True)\n",
    "\n",
    "best_dice = 0.0  # Higher is better\n",
    "best_composite_score = 0.0"
   ]
  },
  {
   "cell_type": "code",
   "execution_count": 14,
   "id": "6c5c60dc",
   "metadata": {
    "scrolled": true
   },
   "outputs": [
    {
     "name": "stdout",
     "output_type": "stream",
     "text": [
      "🔥 Starting training for up to 200 epochs with early stopping after 40 epochs of no improvement.\n"
     ]
    },
    {
     "data": {
      "text/html": [
       "\n",
       "      <iframe id=\"tensorboard-frame-fe8a7ccced09b0f6\" width=\"100%\" height=\"800\" frameborder=\"0\">\n",
       "      </iframe>\n",
       "      <script>\n",
       "        (function() {\n",
       "          const frame = document.getElementById(\"tensorboard-frame-fe8a7ccced09b0f6\");\n",
       "          const url = new URL(\"/\", window.location);\n",
       "          const port = 8111;\n",
       "          if (port) {\n",
       "            url.port = port;\n",
       "          }\n",
       "          frame.src = url;\n",
       "        })();\n",
       "      </script>\n",
       "    "
      ],
      "text/plain": [
       "<IPython.core.display.HTML object>"
      ]
     },
     "metadata": {},
     "output_type": "display_data"
    },
    {
     "name": "stdout",
     "output_type": "stream",
     "text": [
      "\n",
      "🌀 Epoch 1/200\n"
     ]
    },
    {
     "name": "stderr",
     "output_type": "stream",
     "text": [
      "Training:   0%|                                                                                                                                                                                                      | 0/236 [00:00<?, ?it/s]2025-04-03 09:05:18.999956: I tensorflow/compiler/mlir/mlir_graph_optimization_pass.cc:176] None of the MLIR Optimization Passes are enabled (registered 2)\n",
      "2025-04-03 09:05:19.000274: I tensorflow/core/platform/profile_utils/cpu_utils.cc:114] CPU Frequency: 3792685000 Hz\n",
      "2025-04-03 09:05:22.183046: I tensorflow/stream_executor/platform/default/dso_loader.cc:53] Successfully opened dynamic library libcudnn.so.8\n",
      "2025-04-03 09:05:22.212988: I tensorflow/stream_executor/cuda/cuda_dnn.cc:359] Loaded cuDNN version 8907\n",
      "2025-04-03 09:05:22.254492: E tensorflow/core/platform/default/subprocess.cc:304] Start cannot spawn child process: No such file or directory\n",
      "2025-04-03 09:05:22.254515: W tensorflow/stream_executor/gpu/asm_compiler.cc:56] Couldn't invoke ptxas --version\n",
      "2025-04-03 09:05:22.254860: E tensorflow/core/platform/default/subprocess.cc:304] Start cannot spawn child process: No such file or directory\n",
      "2025-04-03 09:05:22.254913: W tensorflow/stream_executor/gpu/redzone_allocator.cc:314] Internal: Failed to launch ptxas\n",
      "Relying on driver to perform ptx compilation. \n",
      "Modify $PATH to customize ptxas location.\n",
      "This message will be only logged once.\n",
      "2025-04-03 09:05:22.261872: I tensorflow/stream_executor/platform/default/dso_loader.cc:53] Successfully opened dynamic library libcublas.so.11\n",
      "2025-04-03 09:05:22.262097: I tensorflow/stream_executor/platform/default/dso_loader.cc:53] Successfully opened dynamic library libcublasLt.so.11\n",
      "                                                                                                                                                                                                                                             \r"
     ]
    },
    {
     "name": "stdout",
     "output_type": "stream",
     "text": [
      "📏 Dice: 0.6719 | SSIM: 0.4559 | Composite: 0.5639\n",
      "WARNING:tensorflow:Compiled the loaded model, but the compiled metrics have yet to be built. `model.compile_metrics` will be empty until you train or evaluate the model.\n",
      "✅ Saved best generator (composite: 0.5639) to checkpoints_mag2ssfp_pix2pix/generator_best_composite_epoch_1.h5\n",
      "\n",
      "🌀 Epoch 2/200\n"
     ]
    },
    {
     "name": "stderr",
     "output_type": "stream",
     "text": [
      "                                                                                                                                                                                                                                             \r"
     ]
    },
    {
     "name": "stdout",
     "output_type": "stream",
     "text": [
      "📏 Dice: 0.7856 | SSIM: 0.4277 | Composite: 0.6067\n",
      "WARNING:tensorflow:Compiled the loaded model, but the compiled metrics have yet to be built. `model.compile_metrics` will be empty until you train or evaluate the model.\n",
      "✅ Saved best generator (composite: 0.6067) to checkpoints_mag2ssfp_pix2pix/generator_best_composite_epoch_2.h5\n",
      "\n",
      "🌀 Epoch 3/200\n"
     ]
    },
    {
     "name": "stderr",
     "output_type": "stream",
     "text": [
      "                                                                                                                                                                                                                                             \r"
     ]
    },
    {
     "name": "stdout",
     "output_type": "stream",
     "text": [
      "📏 Dice: 0.8276 | SSIM: 0.4962 | Composite: 0.6619\n",
      "WARNING:tensorflow:Compiled the loaded model, but the compiled metrics have yet to be built. `model.compile_metrics` will be empty until you train or evaluate the model.\n",
      "✅ Saved best generator (composite: 0.6619) to checkpoints_mag2ssfp_pix2pix/generator_best_composite_epoch_3.h5\n",
      "\n",
      "🌀 Epoch 4/200\n"
     ]
    },
    {
     "name": "stderr",
     "output_type": "stream",
     "text": [
      "                                                                                                                                                                                                                                             \r"
     ]
    },
    {
     "name": "stdout",
     "output_type": "stream",
     "text": [
      "📏 Dice: 0.8613 | SSIM: 0.4801 | Composite: 0.6707\n",
      "WARNING:tensorflow:Compiled the loaded model, but the compiled metrics have yet to be built. `model.compile_metrics` will be empty until you train or evaluate the model.\n",
      "✅ Saved best generator (composite: 0.6707) to checkpoints_mag2ssfp_pix2pix/generator_best_composite_epoch_4.h5\n",
      "\n",
      "🌀 Epoch 5/200\n"
     ]
    },
    {
     "name": "stderr",
     "output_type": "stream",
     "text": [
      "                                                                                                                                                                                                                                             \r"
     ]
    },
    {
     "name": "stdout",
     "output_type": "stream",
     "text": [
      "📏 Dice: 0.8638 | SSIM: 0.4880 | Composite: 0.6759\n",
      "WARNING:tensorflow:Compiled the loaded model, but the compiled metrics have yet to be built. `model.compile_metrics` will be empty until you train or evaluate the model.\n",
      "✅ Saved best generator (composite: 0.6759) to checkpoints_mag2ssfp_pix2pix/generator_best_composite_epoch_5.h5\n",
      "\n",
      "🌀 Epoch 6/200\n"
     ]
    },
    {
     "name": "stderr",
     "output_type": "stream",
     "text": [
      "                                                                                                                                                                                                                                             \r"
     ]
    },
    {
     "name": "stdout",
     "output_type": "stream",
     "text": [
      "📏 Dice: 0.8657 | SSIM: 0.5018 | Composite: 0.6838\n",
      "WARNING:tensorflow:Compiled the loaded model, but the compiled metrics have yet to be built. `model.compile_metrics` will be empty until you train or evaluate the model.\n",
      "✅ Saved best generator (composite: 0.6838) to checkpoints_mag2ssfp_pix2pix/generator_best_composite_epoch_6.h5\n",
      "\n",
      "🌀 Epoch 7/200\n"
     ]
    },
    {
     "name": "stderr",
     "output_type": "stream",
     "text": [
      "                                                                                                                                                                                                                                             \r"
     ]
    },
    {
     "name": "stdout",
     "output_type": "stream",
     "text": [
      "📏 Dice: 0.8618 | SSIM: 0.5003 | Composite: 0.6811\n",
      "📉 No improvement for 1 epoch(s)\n",
      "\n",
      "🌀 Epoch 8/200\n"
     ]
    },
    {
     "name": "stderr",
     "output_type": "stream",
     "text": [
      "                                                                                                                                                                                                                                             \r"
     ]
    },
    {
     "name": "stdout",
     "output_type": "stream",
     "text": [
      "📏 Dice: 0.8584 | SSIM: 0.5176 | Composite: 0.6880\n",
      "WARNING:tensorflow:Compiled the loaded model, but the compiled metrics have yet to be built. `model.compile_metrics` will be empty until you train or evaluate the model.\n",
      "✅ Saved best generator (composite: 0.6880) to checkpoints_mag2ssfp_pix2pix/generator_best_composite_epoch_8.h5\n",
      "\n",
      "🌀 Epoch 9/200\n"
     ]
    },
    {
     "name": "stderr",
     "output_type": "stream",
     "text": [
      "                                                                                                                                                                                                                                             \r"
     ]
    },
    {
     "name": "stdout",
     "output_type": "stream",
     "text": [
      "📏 Dice: 0.8647 | SSIM: 0.5259 | Composite: 0.6953\n",
      "WARNING:tensorflow:Compiled the loaded model, but the compiled metrics have yet to be built. `model.compile_metrics` will be empty until you train or evaluate the model.\n",
      "✅ Saved best generator (composite: 0.6953) to checkpoints_mag2ssfp_pix2pix/generator_best_composite_epoch_9.h5\n",
      "\n",
      "🌀 Epoch 10/200\n"
     ]
    },
    {
     "name": "stderr",
     "output_type": "stream",
     "text": [
      "                                                                                                                                                                                                                                             \r"
     ]
    },
    {
     "name": "stdout",
     "output_type": "stream",
     "text": [
      "📏 Dice: 0.8657 | SSIM: 0.5127 | Composite: 0.6892\n",
      "📉 No improvement for 1 epoch(s)\n",
      "\n",
      "🌀 Epoch 11/200\n"
     ]
    },
    {
     "name": "stderr",
     "output_type": "stream",
     "text": [
      "                                                                                                                                                                                                                                             \r"
     ]
    },
    {
     "name": "stdout",
     "output_type": "stream",
     "text": [
      "📏 Dice: 0.8623 | SSIM: 0.5379 | Composite: 0.7001\n",
      "WARNING:tensorflow:Compiled the loaded model, but the compiled metrics have yet to be built. `model.compile_metrics` will be empty until you train or evaluate the model.\n",
      "✅ Saved best generator (composite: 0.7001) to checkpoints_mag2ssfp_pix2pix/generator_best_composite_epoch_11.h5\n",
      "\n",
      "🌀 Epoch 12/200\n"
     ]
    },
    {
     "name": "stderr",
     "output_type": "stream",
     "text": [
      "                                                                                                                                                                                                                                             \r"
     ]
    },
    {
     "name": "stdout",
     "output_type": "stream",
     "text": [
      "📏 Dice: 0.8623 | SSIM: 0.5349 | Composite: 0.6986\n",
      "📉 No improvement for 1 epoch(s)\n",
      "\n",
      "🌀 Epoch 13/200\n"
     ]
    },
    {
     "name": "stderr",
     "output_type": "stream",
     "text": [
      "                                                                                                                                                                                                                                             \r"
     ]
    },
    {
     "name": "stdout",
     "output_type": "stream",
     "text": [
      "📏 Dice: 0.8716 | SSIM: 0.5292 | Composite: 0.7004\n",
      "WARNING:tensorflow:Compiled the loaded model, but the compiled metrics have yet to be built. `model.compile_metrics` will be empty until you train or evaluate the model.\n",
      "✅ Saved best generator (composite: 0.7004) to checkpoints_mag2ssfp_pix2pix/generator_best_composite_epoch_13.h5\n",
      "\n",
      "🌀 Epoch 14/200\n"
     ]
    },
    {
     "name": "stderr",
     "output_type": "stream",
     "text": [
      "                                                                                                                                                                                                                                             \r"
     ]
    },
    {
     "name": "stdout",
     "output_type": "stream",
     "text": [
      "📏 Dice: 0.8613 | SSIM: 0.5471 | Composite: 0.7042\n",
      "WARNING:tensorflow:Compiled the loaded model, but the compiled metrics have yet to be built. `model.compile_metrics` will be empty until you train or evaluate the model.\n",
      "✅ Saved best generator (composite: 0.7042) to checkpoints_mag2ssfp_pix2pix/generator_best_composite_epoch_14.h5\n",
      "\n",
      "🌀 Epoch 15/200\n"
     ]
    },
    {
     "name": "stderr",
     "output_type": "stream",
     "text": [
      "                                                                                                                                                                                                                                             \r"
     ]
    },
    {
     "name": "stdout",
     "output_type": "stream",
     "text": [
      "📏 Dice: 0.8628 | SSIM: 0.5376 | Composite: 0.7002\n",
      "📉 No improvement for 1 epoch(s)\n",
      "\n",
      "🌀 Epoch 16/200\n"
     ]
    },
    {
     "name": "stderr",
     "output_type": "stream",
     "text": [
      "                                                                                                                                                                                                                                             \r"
     ]
    },
    {
     "name": "stdout",
     "output_type": "stream",
     "text": [
      "📏 Dice: 0.8628 | SSIM: 0.5394 | Composite: 0.7011\n",
      "📉 No improvement for 2 epoch(s)\n",
      "\n",
      "🌀 Epoch 17/200\n"
     ]
    },
    {
     "name": "stderr",
     "output_type": "stream",
     "text": [
      "                                                                                                                                                                                                                                             \r"
     ]
    },
    {
     "name": "stdout",
     "output_type": "stream",
     "text": [
      "📏 Dice: 0.8594 | SSIM: 0.5279 | Composite: 0.6937\n",
      "📉 No improvement for 3 epoch(s)\n",
      "\n",
      "🌀 Epoch 18/200\n"
     ]
    },
    {
     "name": "stderr",
     "output_type": "stream",
     "text": [
      "                                                                                                                                                                                                                                             \r"
     ]
    },
    {
     "name": "stdout",
     "output_type": "stream",
     "text": [
      "📏 Dice: 0.8682 | SSIM: 0.5458 | Composite: 0.7070\n",
      "WARNING:tensorflow:Compiled the loaded model, but the compiled metrics have yet to be built. `model.compile_metrics` will be empty until you train or evaluate the model.\n",
      "✅ Saved best generator (composite: 0.7070) to checkpoints_mag2ssfp_pix2pix/generator_best_composite_epoch_18.h5\n",
      "\n",
      "🌀 Epoch 19/200\n"
     ]
    },
    {
     "name": "stderr",
     "output_type": "stream",
     "text": [
      "                                                                                                                                                                                                                                             \r"
     ]
    },
    {
     "name": "stdout",
     "output_type": "stream",
     "text": [
      "📏 Dice: 0.8667 | SSIM: 0.5373 | Composite: 0.7020\n",
      "📉 No improvement for 1 epoch(s)\n",
      "\n",
      "🌀 Epoch 20/200\n"
     ]
    },
    {
     "name": "stderr",
     "output_type": "stream",
     "text": [
      "                                                                                                                                                                                                                                             \r"
     ]
    },
    {
     "name": "stdout",
     "output_type": "stream",
     "text": [
      "📏 Dice: 0.8652 | SSIM: 0.5414 | Composite: 0.7033\n",
      "📉 No improvement for 2 epoch(s)\n",
      "\n",
      "🌀 Epoch 21/200\n"
     ]
    },
    {
     "name": "stderr",
     "output_type": "stream",
     "text": [
      "                                                                                                                                                                                                                                             \r"
     ]
    },
    {
     "name": "stdout",
     "output_type": "stream",
     "text": [
      "📏 Dice: 0.8696 | SSIM: 0.5300 | Composite: 0.6998\n",
      "📉 No improvement for 3 epoch(s)\n",
      "\n",
      "🌀 Epoch 22/200\n"
     ]
    },
    {
     "name": "stderr",
     "output_type": "stream",
     "text": [
      "                                                                                                                                                                                                                                             \r"
     ]
    },
    {
     "name": "stdout",
     "output_type": "stream",
     "text": [
      "📏 Dice: 0.8730 | SSIM: 0.5416 | Composite: 0.7073\n",
      "WARNING:tensorflow:Compiled the loaded model, but the compiled metrics have yet to be built. `model.compile_metrics` will be empty until you train or evaluate the model.\n",
      "✅ Saved best generator (composite: 0.7073) to checkpoints_mag2ssfp_pix2pix/generator_best_composite_epoch_22.h5\n",
      "\n",
      "🌀 Epoch 23/200\n"
     ]
    },
    {
     "name": "stderr",
     "output_type": "stream",
     "text": [
      "                                                                                                                                                                                                                                             \r"
     ]
    },
    {
     "name": "stdout",
     "output_type": "stream",
     "text": [
      "📏 Dice: 0.8667 | SSIM: 0.5390 | Composite: 0.7029\n",
      "📉 No improvement for 1 epoch(s)\n",
      "\n",
      "🌀 Epoch 24/200\n"
     ]
    },
    {
     "name": "stderr",
     "output_type": "stream",
     "text": [
      "                                                                                                                                                                                                                                             \r"
     ]
    },
    {
     "name": "stdout",
     "output_type": "stream",
     "text": [
      "📏 Dice: 0.8687 | SSIM: 0.5405 | Composite: 0.7046\n",
      "📉 No improvement for 2 epoch(s)\n",
      "\n",
      "🌀 Epoch 25/200\n"
     ]
    },
    {
     "name": "stderr",
     "output_type": "stream",
     "text": [
      "                                                                                                                                                                                                                                             \r"
     ]
    },
    {
     "name": "stdout",
     "output_type": "stream",
     "text": [
      "📏 Dice: 0.8730 | SSIM: 0.5203 | Composite: 0.6967\n",
      "📉 No improvement for 3 epoch(s)\n",
      "\n",
      "🌀 Epoch 26/200\n"
     ]
    },
    {
     "name": "stderr",
     "output_type": "stream",
     "text": [
      "                                                                                                                                                                                                                                             \r"
     ]
    },
    {
     "name": "stdout",
     "output_type": "stream",
     "text": [
      "📏 Dice: 0.8687 | SSIM: 0.5438 | Composite: 0.7062\n",
      "📉 No improvement for 4 epoch(s)\n",
      "\n",
      "🌀 Epoch 27/200\n"
     ]
    },
    {
     "name": "stderr",
     "output_type": "stream",
     "text": [
      "                                                                                                                                                                                                                                             \r"
     ]
    },
    {
     "name": "stdout",
     "output_type": "stream",
     "text": [
      "📏 Dice: 0.8696 | SSIM: 0.5199 | Composite: 0.6948\n",
      "📉 No improvement for 5 epoch(s)\n",
      "\n",
      "🌀 Epoch 28/200\n"
     ]
    },
    {
     "name": "stderr",
     "output_type": "stream",
     "text": [
      "                                                                                                                                                                                                                                             \r"
     ]
    },
    {
     "name": "stdout",
     "output_type": "stream",
     "text": [
      "📏 Dice: 0.8682 | SSIM: 0.5261 | Composite: 0.6971\n",
      "📉 No improvement for 6 epoch(s)\n",
      "\n",
      "🌀 Epoch 29/200\n"
     ]
    },
    {
     "name": "stderr",
     "output_type": "stream",
     "text": [
      "                                                                                                                                                                                                                                             \r"
     ]
    },
    {
     "name": "stdout",
     "output_type": "stream",
     "text": [
      "📏 Dice: 0.8672 | SSIM: 0.5427 | Composite: 0.7049\n",
      "📉 No improvement for 7 epoch(s)\n",
      "\n",
      "🌀 Epoch 30/200\n"
     ]
    },
    {
     "name": "stderr",
     "output_type": "stream",
     "text": [
      "                                                                                                                                                                                                                                             \r"
     ]
    },
    {
     "name": "stdout",
     "output_type": "stream",
     "text": [
      "📏 Dice: 0.8672 | SSIM: 0.5258 | Composite: 0.6965\n",
      "📉 No improvement for 8 epoch(s)\n",
      "\n",
      "🌀 Epoch 31/200\n"
     ]
    },
    {
     "name": "stderr",
     "output_type": "stream",
     "text": [
      "                                                                                                                                                                                                                                             \r"
     ]
    },
    {
     "name": "stdout",
     "output_type": "stream",
     "text": [
      "📏 Dice: 0.8711 | SSIM: 0.5394 | Composite: 0.7052\n",
      "📉 No improvement for 9 epoch(s)\n",
      "\n",
      "🌀 Epoch 32/200\n"
     ]
    },
    {
     "name": "stderr",
     "output_type": "stream",
     "text": [
      "                                                                                                                                                                                                                                             \r"
     ]
    },
    {
     "name": "stdout",
     "output_type": "stream",
     "text": [
      "📏 Dice: 0.8682 | SSIM: 0.5375 | Composite: 0.7028\n",
      "📉 No improvement for 10 epoch(s)\n",
      "\n",
      "🌀 Epoch 33/200\n"
     ]
    },
    {
     "name": "stderr",
     "output_type": "stream",
     "text": [
      "                                                                                                                                                                                                                                             \r"
     ]
    },
    {
     "name": "stdout",
     "output_type": "stream",
     "text": [
      "📏 Dice: 0.8726 | SSIM: 0.5280 | Composite: 0.7003\n",
      "📉 No improvement for 11 epoch(s)\n",
      "\n",
      "🌀 Epoch 34/200\n"
     ]
    },
    {
     "name": "stderr",
     "output_type": "stream",
     "text": [
      "                                                                                                                                                                                                                                             \r"
     ]
    },
    {
     "name": "stdout",
     "output_type": "stream",
     "text": [
      "📏 Dice: 0.8730 | SSIM: 0.5272 | Composite: 0.7001\n",
      "📉 No improvement for 12 epoch(s)\n",
      "\n",
      "🌀 Epoch 35/200\n"
     ]
    },
    {
     "name": "stderr",
     "output_type": "stream",
     "text": [
      "                                                                                                                                                                                                                                             \r"
     ]
    },
    {
     "name": "stdout",
     "output_type": "stream",
     "text": [
      "📏 Dice: 0.8735 | SSIM: 0.5377 | Composite: 0.7056\n",
      "📉 No improvement for 13 epoch(s)\n",
      "\n",
      "🌀 Epoch 36/200\n"
     ]
    },
    {
     "name": "stderr",
     "output_type": "stream",
     "text": [
      "                                                                                                                                                                                                                                             \r"
     ]
    },
    {
     "name": "stdout",
     "output_type": "stream",
     "text": [
      "📏 Dice: 0.8682 | SSIM: 0.5320 | Composite: 0.7001\n",
      "📉 No improvement for 14 epoch(s)\n",
      "\n",
      "🌀 Epoch 37/200\n"
     ]
    },
    {
     "name": "stderr",
     "output_type": "stream",
     "text": [
      "                                                                                                                                                                                                                                             \r"
     ]
    },
    {
     "name": "stdout",
     "output_type": "stream",
     "text": [
      "📏 Dice: 0.8711 | SSIM: 0.5382 | Composite: 0.7046\n",
      "📉 No improvement for 15 epoch(s)\n",
      "\n",
      "🌀 Epoch 38/200\n"
     ]
    },
    {
     "name": "stderr",
     "output_type": "stream",
     "text": [
      "                                                                                                                                                                                                                                             \r"
     ]
    },
    {
     "name": "stdout",
     "output_type": "stream",
     "text": [
      "📏 Dice: 0.8716 | SSIM: 0.5339 | Composite: 0.7028\n",
      "📉 No improvement for 16 epoch(s)\n",
      "\n",
      "🌀 Epoch 39/200\n"
     ]
    },
    {
     "name": "stderr",
     "output_type": "stream",
     "text": [
      "                                                                                                                                                                                                                                             \r"
     ]
    },
    {
     "name": "stdout",
     "output_type": "stream",
     "text": [
      "📏 Dice: 0.8706 | SSIM: 0.5406 | Composite: 0.7056\n",
      "📉 No improvement for 17 epoch(s)\n",
      "\n",
      "🌀 Epoch 40/200\n"
     ]
    },
    {
     "name": "stderr",
     "output_type": "stream",
     "text": [
      "                                                                                                                                                                                                                                             \r"
     ]
    },
    {
     "name": "stdout",
     "output_type": "stream",
     "text": [
      "📏 Dice: 0.8706 | SSIM: 0.5339 | Composite: 0.7023\n",
      "📉 No improvement for 18 epoch(s)\n",
      "\n",
      "🌀 Epoch 41/200\n"
     ]
    },
    {
     "name": "stderr",
     "output_type": "stream",
     "text": [
      "                                                                                                                                                                                                                                             \r"
     ]
    },
    {
     "name": "stdout",
     "output_type": "stream",
     "text": [
      "📏 Dice: 0.8716 | SSIM: 0.5425 | Composite: 0.7071\n",
      "📉 No improvement for 19 epoch(s)\n",
      "\n",
      "🌀 Epoch 42/200\n"
     ]
    },
    {
     "name": "stderr",
     "output_type": "stream",
     "text": [
      "                                                                                                                                                                                                                                             \r"
     ]
    },
    {
     "name": "stdout",
     "output_type": "stream",
     "text": [
      "📏 Dice: 0.8735 | SSIM: 0.5463 | Composite: 0.7099\n",
      "WARNING:tensorflow:Compiled the loaded model, but the compiled metrics have yet to be built. `model.compile_metrics` will be empty until you train or evaluate the model.\n",
      "✅ Saved best generator (composite: 0.7099) to checkpoints_mag2ssfp_pix2pix/generator_best_composite_epoch_42.h5\n",
      "\n",
      "🌀 Epoch 43/200\n"
     ]
    },
    {
     "name": "stderr",
     "output_type": "stream",
     "text": [
      "                                                                                                                                                                                                                                             \r"
     ]
    },
    {
     "name": "stdout",
     "output_type": "stream",
     "text": [
      "📏 Dice: 0.8711 | SSIM: 0.5498 | Composite: 0.7104\n",
      "WARNING:tensorflow:Compiled the loaded model, but the compiled metrics have yet to be built. `model.compile_metrics` will be empty until you train or evaluate the model.\n",
      "✅ Saved best generator (composite: 0.7104) to checkpoints_mag2ssfp_pix2pix/generator_best_composite_epoch_43.h5\n",
      "\n",
      "🌀 Epoch 44/200\n"
     ]
    },
    {
     "name": "stderr",
     "output_type": "stream",
     "text": [
      "                                                                                                                                                                                                                                             \r"
     ]
    },
    {
     "name": "stdout",
     "output_type": "stream",
     "text": [
      "📏 Dice: 0.8657 | SSIM: 0.5587 | Composite: 0.7122\n",
      "WARNING:tensorflow:Compiled the loaded model, but the compiled metrics have yet to be built. `model.compile_metrics` will be empty until you train or evaluate the model.\n",
      "✅ Saved best generator (composite: 0.7122) to checkpoints_mag2ssfp_pix2pix/generator_best_composite_epoch_44.h5\n",
      "\n",
      "🌀 Epoch 45/200\n"
     ]
    },
    {
     "name": "stderr",
     "output_type": "stream",
     "text": [
      "                                                                                                                                                                                                                                             \r"
     ]
    },
    {
     "name": "stdout",
     "output_type": "stream",
     "text": [
      "📏 Dice: 0.8770 | SSIM: 0.5417 | Composite: 0.7093\n",
      "📉 No improvement for 1 epoch(s)\n",
      "\n",
      "🌀 Epoch 46/200\n"
     ]
    },
    {
     "name": "stderr",
     "output_type": "stream",
     "text": [
      "                                                                                                                                                                                                                                             \r"
     ]
    },
    {
     "name": "stdout",
     "output_type": "stream",
     "text": [
      "📏 Dice: 0.8726 | SSIM: 0.5549 | Composite: 0.7138\n",
      "WARNING:tensorflow:Compiled the loaded model, but the compiled metrics have yet to be built. `model.compile_metrics` will be empty until you train or evaluate the model.\n",
      "✅ Saved best generator (composite: 0.7138) to checkpoints_mag2ssfp_pix2pix/generator_best_composite_epoch_46.h5\n",
      "\n",
      "🌀 Epoch 47/200\n"
     ]
    },
    {
     "name": "stderr",
     "output_type": "stream",
     "text": [
      "                                                                                                                                                                                                                                             \r"
     ]
    },
    {
     "name": "stdout",
     "output_type": "stream",
     "text": [
      "📏 Dice: 0.8760 | SSIM: 0.5467 | Composite: 0.7113\n",
      "📉 No improvement for 1 epoch(s)\n",
      "\n",
      "🌀 Epoch 48/200\n"
     ]
    },
    {
     "name": "stderr",
     "output_type": "stream",
     "text": [
      "                                                                                                                                                                                                                                             \r"
     ]
    },
    {
     "name": "stdout",
     "output_type": "stream",
     "text": [
      "📏 Dice: 0.8740 | SSIM: 0.5454 | Composite: 0.7097\n",
      "📉 No improvement for 2 epoch(s)\n",
      "\n",
      "🌀 Epoch 49/200\n"
     ]
    },
    {
     "name": "stderr",
     "output_type": "stream",
     "text": [
      "                                                                                                                                                                                                                                             \r"
     ]
    },
    {
     "name": "stdout",
     "output_type": "stream",
     "text": [
      "📏 Dice: 0.8716 | SSIM: 0.5451 | Composite: 0.7084\n",
      "📉 No improvement for 3 epoch(s)\n",
      "\n",
      "🌀 Epoch 50/200\n"
     ]
    },
    {
     "name": "stderr",
     "output_type": "stream",
     "text": [
      "                                                                                                                                                                                                                                             \r"
     ]
    },
    {
     "name": "stdout",
     "output_type": "stream",
     "text": [
      "📏 Dice: 0.8735 | SSIM: 0.5512 | Composite: 0.7124\n",
      "📉 No improvement for 4 epoch(s)\n",
      "\n",
      "🌀 Epoch 51/200\n"
     ]
    },
    {
     "name": "stderr",
     "output_type": "stream",
     "text": [
      "                                                                                                                                                                                                                                             \r"
     ]
    },
    {
     "name": "stdout",
     "output_type": "stream",
     "text": [
      "📏 Dice: 0.8774 | SSIM: 0.5505 | Composite: 0.7140\n",
      "WARNING:tensorflow:Compiled the loaded model, but the compiled metrics have yet to be built. `model.compile_metrics` will be empty until you train or evaluate the model.\n",
      "✅ Saved best generator (composite: 0.7140) to checkpoints_mag2ssfp_pix2pix/generator_best_composite_epoch_51.h5\n",
      "\n",
      "🌀 Epoch 52/200\n"
     ]
    },
    {
     "name": "stderr",
     "output_type": "stream",
     "text": [
      "                                                                                                                                                                                                                                             \r"
     ]
    },
    {
     "name": "stdout",
     "output_type": "stream",
     "text": [
      "📏 Dice: 0.8730 | SSIM: 0.5529 | Composite: 0.7129\n",
      "📉 No improvement for 1 epoch(s)\n",
      "\n",
      "🌀 Epoch 53/200\n"
     ]
    },
    {
     "name": "stderr",
     "output_type": "stream",
     "text": [
      "                                                                                                                                                                                                                                             \r"
     ]
    },
    {
     "name": "stdout",
     "output_type": "stream",
     "text": [
      "📏 Dice: 0.8735 | SSIM: 0.5460 | Composite: 0.7098\n",
      "📉 No improvement for 2 epoch(s)\n",
      "\n",
      "🌀 Epoch 54/200\n"
     ]
    },
    {
     "name": "stderr",
     "output_type": "stream",
     "text": [
      "                                                                                                                                                                                                                                             \r"
     ]
    },
    {
     "name": "stdout",
     "output_type": "stream",
     "text": [
      "📏 Dice: 0.8760 | SSIM: 0.5443 | Composite: 0.7102\n",
      "📉 No improvement for 3 epoch(s)\n",
      "\n",
      "🌀 Epoch 55/200\n"
     ]
    },
    {
     "name": "stderr",
     "output_type": "stream",
     "text": [
      "                                                                                                                                                                                                                                             \r"
     ]
    },
    {
     "name": "stdout",
     "output_type": "stream",
     "text": [
      "📏 Dice: 0.8745 | SSIM: 0.5565 | Composite: 0.7155\n",
      "WARNING:tensorflow:Compiled the loaded model, but the compiled metrics have yet to be built. `model.compile_metrics` will be empty until you train or evaluate the model.\n",
      "✅ Saved best generator (composite: 0.7155) to checkpoints_mag2ssfp_pix2pix/generator_best_composite_epoch_55.h5\n",
      "\n",
      "🌀 Epoch 56/200\n"
     ]
    },
    {
     "name": "stderr",
     "output_type": "stream",
     "text": [
      "                                                                                                                                                                                                                                             \r"
     ]
    },
    {
     "name": "stdout",
     "output_type": "stream",
     "text": [
      "📏 Dice: 0.8774 | SSIM: 0.5466 | Composite: 0.7120\n",
      "📉 No improvement for 1 epoch(s)\n",
      "\n",
      "🌀 Epoch 57/200\n"
     ]
    },
    {
     "name": "stderr",
     "output_type": "stream",
     "text": [
      "                                                                                                                                                                                                                                             \r"
     ]
    },
    {
     "name": "stdout",
     "output_type": "stream",
     "text": [
      "📏 Dice: 0.8789 | SSIM: 0.5536 | Composite: 0.7163\n",
      "WARNING:tensorflow:Compiled the loaded model, but the compiled metrics have yet to be built. `model.compile_metrics` will be empty until you train or evaluate the model.\n",
      "✅ Saved best generator (composite: 0.7163) to checkpoints_mag2ssfp_pix2pix/generator_best_composite_epoch_57.h5\n",
      "\n",
      "🌀 Epoch 58/200\n"
     ]
    },
    {
     "name": "stderr",
     "output_type": "stream",
     "text": [
      "                                                                                                                                                                                                                                             \r"
     ]
    },
    {
     "name": "stdout",
     "output_type": "stream",
     "text": [
      "📏 Dice: 0.8755 | SSIM: 0.5467 | Composite: 0.7111\n",
      "📉 No improvement for 1 epoch(s)\n",
      "\n",
      "🌀 Epoch 59/200\n"
     ]
    },
    {
     "name": "stderr",
     "output_type": "stream",
     "text": [
      "                                                                                                                                                                                                                                             \r"
     ]
    },
    {
     "name": "stdout",
     "output_type": "stream",
     "text": [
      "📏 Dice: 0.8770 | SSIM: 0.5478 | Composite: 0.7124\n",
      "📉 No improvement for 2 epoch(s)\n",
      "\n",
      "🌀 Epoch 60/200\n"
     ]
    },
    {
     "name": "stderr",
     "output_type": "stream",
     "text": [
      "                                                                                                                                                                                                                                             \r"
     ]
    },
    {
     "name": "stdout",
     "output_type": "stream",
     "text": [
      "📏 Dice: 0.8765 | SSIM: 0.5455 | Composite: 0.7110\n",
      "📉 No improvement for 3 epoch(s)\n",
      "\n",
      "🌀 Epoch 61/200\n"
     ]
    },
    {
     "name": "stderr",
     "output_type": "stream",
     "text": [
      "                                                                                                                                                                                                                                             \r"
     ]
    },
    {
     "name": "stdout",
     "output_type": "stream",
     "text": [
      "📏 Dice: 0.8755 | SSIM: 0.5531 | Composite: 0.7143\n",
      "📉 No improvement for 4 epoch(s)\n",
      "\n",
      "🌀 Epoch 62/200\n"
     ]
    },
    {
     "name": "stderr",
     "output_type": "stream",
     "text": [
      "                                                                                                                                                                                                                                             \r"
     ]
    },
    {
     "name": "stdout",
     "output_type": "stream",
     "text": [
      "📏 Dice: 0.8794 | SSIM: 0.5511 | Composite: 0.7153\n",
      "📉 No improvement for 5 epoch(s)\n",
      "\n",
      "🌀 Epoch 63/200\n"
     ]
    },
    {
     "name": "stderr",
     "output_type": "stream",
     "text": [
      "                                                                                                                                                                                                                                             \r"
     ]
    },
    {
     "name": "stdout",
     "output_type": "stream",
     "text": [
      "📏 Dice: 0.8774 | SSIM: 0.5534 | Composite: 0.7154\n",
      "📉 No improvement for 6 epoch(s)\n",
      "\n",
      "🌀 Epoch 64/200\n"
     ]
    },
    {
     "name": "stderr",
     "output_type": "stream",
     "text": [
      "                                                                                                                                                                                                                                             \r"
     ]
    },
    {
     "name": "stdout",
     "output_type": "stream",
     "text": [
      "📏 Dice: 0.8784 | SSIM: 0.5453 | Composite: 0.7119\n",
      "📉 No improvement for 7 epoch(s)\n",
      "\n",
      "🌀 Epoch 65/200\n"
     ]
    },
    {
     "name": "stderr",
     "output_type": "stream",
     "text": [
      "                                                                                                                                                                                                                                             \r"
     ]
    },
    {
     "name": "stdout",
     "output_type": "stream",
     "text": [
      "📏 Dice: 0.8774 | SSIM: 0.5507 | Composite: 0.7140\n",
      "📉 No improvement for 8 epoch(s)\n",
      "\n",
      "🌀 Epoch 66/200\n"
     ]
    },
    {
     "name": "stderr",
     "output_type": "stream",
     "text": [
      "                                                                                                                                                                                                                                             \r"
     ]
    },
    {
     "name": "stdout",
     "output_type": "stream",
     "text": [
      "📏 Dice: 0.8799 | SSIM: 0.5548 | Composite: 0.7173\n",
      "WARNING:tensorflow:Compiled the loaded model, but the compiled metrics have yet to be built. `model.compile_metrics` will be empty until you train or evaluate the model.\n",
      "✅ Saved best generator (composite: 0.7173) to checkpoints_mag2ssfp_pix2pix/generator_best_composite_epoch_66.h5\n",
      "\n",
      "🌀 Epoch 67/200\n"
     ]
    },
    {
     "name": "stderr",
     "output_type": "stream",
     "text": [
      "                                                                                                                                                                                                                                             \r"
     ]
    },
    {
     "name": "stdout",
     "output_type": "stream",
     "text": [
      "📏 Dice: 0.8789 | SSIM: 0.5453 | Composite: 0.7121\n",
      "📉 No improvement for 1 epoch(s)\n",
      "\n",
      "🌀 Epoch 68/200\n"
     ]
    },
    {
     "name": "stderr",
     "output_type": "stream",
     "text": [
      "                                                                                                                                                                                                                                             \r"
     ]
    },
    {
     "name": "stdout",
     "output_type": "stream",
     "text": [
      "📏 Dice: 0.8794 | SSIM: 0.5535 | Composite: 0.7164\n",
      "📉 No improvement for 2 epoch(s)\n",
      "\n",
      "🌀 Epoch 69/200\n"
     ]
    },
    {
     "name": "stderr",
     "output_type": "stream",
     "text": [
      "                                                                                                                                                                                                                                             \r"
     ]
    },
    {
     "name": "stdout",
     "output_type": "stream",
     "text": [
      "📏 Dice: 0.8770 | SSIM: 0.5456 | Composite: 0.7113\n",
      "📉 No improvement for 3 epoch(s)\n",
      "\n",
      "🌀 Epoch 70/200\n"
     ]
    },
    {
     "name": "stderr",
     "output_type": "stream",
     "text": [
      "                                                                                                                                                                                                                                             \r"
     ]
    },
    {
     "name": "stdout",
     "output_type": "stream",
     "text": [
      "📏 Dice: 0.8789 | SSIM: 0.5537 | Composite: 0.7163\n",
      "📉 No improvement for 4 epoch(s)\n",
      "\n",
      "🌀 Epoch 71/200\n"
     ]
    },
    {
     "name": "stderr",
     "output_type": "stream",
     "text": [
      "                                                                                                                                                                                                                                             \r"
     ]
    },
    {
     "name": "stdout",
     "output_type": "stream",
     "text": [
      "📏 Dice: 0.8770 | SSIM: 0.5432 | Composite: 0.7101\n",
      "📉 No improvement for 5 epoch(s)\n",
      "\n",
      "🌀 Epoch 72/200\n"
     ]
    },
    {
     "name": "stderr",
     "output_type": "stream",
     "text": [
      "                                                                                                                                                                                                                                             \r"
     ]
    },
    {
     "name": "stdout",
     "output_type": "stream",
     "text": [
      "📏 Dice: 0.8774 | SSIM: 0.5495 | Composite: 0.7135\n",
      "📉 No improvement for 6 epoch(s)\n",
      "\n",
      "🌀 Epoch 73/200\n"
     ]
    },
    {
     "name": "stderr",
     "output_type": "stream",
     "text": [
      "                                                                                                                                                                                                                                             \r"
     ]
    },
    {
     "name": "stdout",
     "output_type": "stream",
     "text": [
      "📏 Dice: 0.8726 | SSIM: 0.5457 | Composite: 0.7092\n",
      "📉 No improvement for 7 epoch(s)\n",
      "\n",
      "🌀 Epoch 74/200\n"
     ]
    },
    {
     "name": "stderr",
     "output_type": "stream",
     "text": [
      "                                                                                                                                                                                                                                             \r"
     ]
    },
    {
     "name": "stdout",
     "output_type": "stream",
     "text": [
      "📏 Dice: 0.8745 | SSIM: 0.5598 | Composite: 0.7172\n",
      "📉 No improvement for 8 epoch(s)\n",
      "\n",
      "🌀 Epoch 75/200\n"
     ]
    },
    {
     "name": "stderr",
     "output_type": "stream",
     "text": [
      "                                                                                                                                                                                                                                             \r"
     ]
    },
    {
     "name": "stdout",
     "output_type": "stream",
     "text": [
      "📏 Dice: 0.8765 | SSIM: 0.5560 | Composite: 0.7162\n",
      "📉 No improvement for 9 epoch(s)\n",
      "\n",
      "🌀 Epoch 76/200\n"
     ]
    },
    {
     "name": "stderr",
     "output_type": "stream",
     "text": [
      "                                                                                                                                                                                                                                             \r"
     ]
    },
    {
     "name": "stdout",
     "output_type": "stream",
     "text": [
      "📏 Dice: 0.8774 | SSIM: 0.5577 | Composite: 0.7176\n",
      "WARNING:tensorflow:Compiled the loaded model, but the compiled metrics have yet to be built. `model.compile_metrics` will be empty until you train or evaluate the model.\n",
      "✅ Saved best generator (composite: 0.7176) to checkpoints_mag2ssfp_pix2pix/generator_best_composite_epoch_76.h5\n",
      "\n",
      "🌀 Epoch 77/200\n"
     ]
    },
    {
     "name": "stderr",
     "output_type": "stream",
     "text": [
      "                                                                                                                                                                                                                                             \r"
     ]
    },
    {
     "name": "stdout",
     "output_type": "stream",
     "text": [
      "📏 Dice: 0.8794 | SSIM: 0.5594 | Composite: 0.7194\n",
      "WARNING:tensorflow:Compiled the loaded model, but the compiled metrics have yet to be built. `model.compile_metrics` will be empty until you train or evaluate the model.\n",
      "✅ Saved best generator (composite: 0.7194) to checkpoints_mag2ssfp_pix2pix/generator_best_composite_epoch_77.h5\n",
      "\n",
      "🌀 Epoch 78/200\n"
     ]
    },
    {
     "name": "stderr",
     "output_type": "stream",
     "text": [
      "                                                                                                                                                                                                                                             \r"
     ]
    },
    {
     "name": "stdout",
     "output_type": "stream",
     "text": [
      "📏 Dice: 0.8794 | SSIM: 0.5541 | Composite: 0.7167\n",
      "📉 No improvement for 1 epoch(s)\n",
      "\n",
      "🌀 Epoch 79/200\n"
     ]
    },
    {
     "name": "stderr",
     "output_type": "stream",
     "text": [
      "                                                                                                                                                                                                                                             \r"
     ]
    },
    {
     "name": "stdout",
     "output_type": "stream",
     "text": [
      "📏 Dice: 0.8770 | SSIM: 0.5520 | Composite: 0.7145\n",
      "📉 No improvement for 2 epoch(s)\n",
      "\n",
      "🌀 Epoch 80/200\n"
     ]
    },
    {
     "name": "stderr",
     "output_type": "stream",
     "text": [
      "                                                                                                                                                                                                                                             \r"
     ]
    },
    {
     "name": "stdout",
     "output_type": "stream",
     "text": [
      "📏 Dice: 0.8774 | SSIM: 0.5440 | Composite: 0.7107\n",
      "📉 No improvement for 3 epoch(s)\n",
      "\n",
      "🌀 Epoch 81/200\n"
     ]
    },
    {
     "name": "stderr",
     "output_type": "stream",
     "text": [
      "                                                                                                                                                                                                                                             \r"
     ]
    },
    {
     "name": "stdout",
     "output_type": "stream",
     "text": [
      "📏 Dice: 0.8765 | SSIM: 0.5554 | Composite: 0.7159\n",
      "📉 No improvement for 4 epoch(s)\n",
      "\n",
      "🌀 Epoch 82/200\n"
     ]
    },
    {
     "name": "stderr",
     "output_type": "stream",
     "text": [
      "                                                                                                                                                                                                                                             \r"
     ]
    },
    {
     "name": "stdout",
     "output_type": "stream",
     "text": [
      "📏 Dice: 0.8765 | SSIM: 0.5577 | Composite: 0.7171\n",
      "📉 No improvement for 5 epoch(s)\n",
      "\n",
      "🌀 Epoch 83/200\n"
     ]
    },
    {
     "name": "stderr",
     "output_type": "stream",
     "text": [
      "                                                                                                                                                                                                                                             \r"
     ]
    },
    {
     "name": "stdout",
     "output_type": "stream",
     "text": [
      "📏 Dice: 0.8770 | SSIM: 0.5494 | Composite: 0.7132\n",
      "📉 No improvement for 6 epoch(s)\n",
      "\n",
      "🌀 Epoch 84/200\n"
     ]
    },
    {
     "name": "stderr",
     "output_type": "stream",
     "text": [
      "                                                                                                                                                                                                                                             \r"
     ]
    },
    {
     "name": "stdout",
     "output_type": "stream",
     "text": [
      "📏 Dice: 0.8760 | SSIM: 0.5529 | Composite: 0.7144\n",
      "📉 No improvement for 7 epoch(s)\n",
      "\n",
      "🌀 Epoch 85/200\n"
     ]
    },
    {
     "name": "stderr",
     "output_type": "stream",
     "text": [
      "                                                                                                                                                                                                                                             \r"
     ]
    },
    {
     "name": "stdout",
     "output_type": "stream",
     "text": [
      "📏 Dice: 0.8735 | SSIM: 0.5543 | Composite: 0.7139\n",
      "📉 No improvement for 8 epoch(s)\n",
      "\n",
      "🌀 Epoch 86/200\n"
     ]
    },
    {
     "name": "stderr",
     "output_type": "stream",
     "text": [
      "                                                                                                                                                                                                                                             \r"
     ]
    },
    {
     "name": "stdout",
     "output_type": "stream",
     "text": [
      "📏 Dice: 0.8784 | SSIM: 0.5596 | Composite: 0.7190\n",
      "📉 No improvement for 9 epoch(s)\n",
      "\n",
      "🌀 Epoch 87/200\n"
     ]
    },
    {
     "name": "stderr",
     "output_type": "stream",
     "text": [
      "                                                                                                                                                                                                                                             \r"
     ]
    },
    {
     "name": "stdout",
     "output_type": "stream",
     "text": [
      "📏 Dice: 0.8740 | SSIM: 0.5580 | Composite: 0.7160\n",
      "📉 No improvement for 10 epoch(s)\n",
      "\n",
      "🌀 Epoch 88/200\n"
     ]
    },
    {
     "name": "stderr",
     "output_type": "stream",
     "text": [
      "                                                                                                                                                                                                                                             \r"
     ]
    },
    {
     "name": "stdout",
     "output_type": "stream",
     "text": [
      "📏 Dice: 0.8774 | SSIM: 0.5467 | Composite: 0.7120\n",
      "📉 No improvement for 11 epoch(s)\n",
      "\n",
      "🌀 Epoch 89/200\n"
     ]
    },
    {
     "name": "stderr",
     "output_type": "stream",
     "text": [
      "                                                                                                                                                                                                                                             \r"
     ]
    },
    {
     "name": "stdout",
     "output_type": "stream",
     "text": [
      "📏 Dice: 0.8784 | SSIM: 0.5527 | Composite: 0.7156\n",
      "📉 No improvement for 12 epoch(s)\n",
      "\n",
      "🌀 Epoch 90/200\n"
     ]
    },
    {
     "name": "stderr",
     "output_type": "stream",
     "text": [
      "                                                                                                                                                                                                                                             \r"
     ]
    },
    {
     "name": "stdout",
     "output_type": "stream",
     "text": [
      "📏 Dice: 0.8784 | SSIM: 0.5484 | Composite: 0.7134\n",
      "📉 No improvement for 13 epoch(s)\n",
      "\n",
      "🌀 Epoch 91/200\n"
     ]
    },
    {
     "name": "stderr",
     "output_type": "stream",
     "text": [
      "                                                                                                                                                                                                                                             \r"
     ]
    },
    {
     "name": "stdout",
     "output_type": "stream",
     "text": [
      "📏 Dice: 0.8765 | SSIM: 0.5535 | Composite: 0.7150\n",
      "📉 No improvement for 14 epoch(s)\n",
      "\n",
      "🌀 Epoch 92/200\n"
     ]
    },
    {
     "name": "stderr",
     "output_type": "stream",
     "text": [
      "                                                                                                                                                                                                                                             \r"
     ]
    },
    {
     "name": "stdout",
     "output_type": "stream",
     "text": [
      "📏 Dice: 0.8770 | SSIM: 0.5563 | Composite: 0.7166\n",
      "📉 No improvement for 15 epoch(s)\n",
      "\n",
      "🌀 Epoch 93/200\n"
     ]
    },
    {
     "name": "stderr",
     "output_type": "stream",
     "text": [
      "                                                                                                                                                                                                                                             \r"
     ]
    },
    {
     "name": "stdout",
     "output_type": "stream",
     "text": [
      "📏 Dice: 0.8774 | SSIM: 0.5547 | Composite: 0.7161\n",
      "📉 No improvement for 16 epoch(s)\n",
      "\n",
      "🌀 Epoch 94/200\n"
     ]
    },
    {
     "name": "stderr",
     "output_type": "stream",
     "text": [
      "                                                                                                                                                                                                                                             \r"
     ]
    },
    {
     "name": "stdout",
     "output_type": "stream",
     "text": [
      "📏 Dice: 0.8799 | SSIM: 0.5645 | Composite: 0.7222\n",
      "WARNING:tensorflow:Compiled the loaded model, but the compiled metrics have yet to be built. `model.compile_metrics` will be empty until you train or evaluate the model.\n",
      "✅ Saved best generator (composite: 0.7222) to checkpoints_mag2ssfp_pix2pix/generator_best_composite_epoch_94.h5\n",
      "\n",
      "🌀 Epoch 95/200\n"
     ]
    },
    {
     "name": "stderr",
     "output_type": "stream",
     "text": [
      "                                                                                                                                                                                                                                             \r"
     ]
    },
    {
     "name": "stdout",
     "output_type": "stream",
     "text": [
      "📏 Dice: 0.8726 | SSIM: 0.5615 | Composite: 0.7170\n",
      "📉 No improvement for 1 epoch(s)\n",
      "\n",
      "🌀 Epoch 96/200\n"
     ]
    },
    {
     "name": "stderr",
     "output_type": "stream",
     "text": [
      "                                                                                                                                                                                                                                             \r"
     ]
    },
    {
     "name": "stdout",
     "output_type": "stream",
     "text": [
      "📏 Dice: 0.8726 | SSIM: 0.5573 | Composite: 0.7149\n",
      "📉 No improvement for 2 epoch(s)\n",
      "\n",
      "🌀 Epoch 97/200\n"
     ]
    },
    {
     "name": "stderr",
     "output_type": "stream",
     "text": [
      "                                                                                                                                                                                                                                             \r"
     ]
    },
    {
     "name": "stdout",
     "output_type": "stream",
     "text": [
      "📏 Dice: 0.8765 | SSIM: 0.5609 | Composite: 0.7187\n",
      "📉 No improvement for 3 epoch(s)\n",
      "\n",
      "🌀 Epoch 98/200\n"
     ]
    },
    {
     "name": "stderr",
     "output_type": "stream",
     "text": [
      "                                                                                                                                                                                                                                             \r"
     ]
    },
    {
     "name": "stdout",
     "output_type": "stream",
     "text": [
      "📏 Dice: 0.8726 | SSIM: 0.5605 | Composite: 0.7165\n",
      "📉 No improvement for 4 epoch(s)\n",
      "\n",
      "🌀 Epoch 99/200\n"
     ]
    },
    {
     "name": "stderr",
     "output_type": "stream",
     "text": [
      "                                                                                                                                                                                                                                             \r"
     ]
    },
    {
     "name": "stdout",
     "output_type": "stream",
     "text": [
      "📏 Dice: 0.8745 | SSIM: 0.5610 | Composite: 0.7178\n",
      "📉 No improvement for 5 epoch(s)\n",
      "\n",
      "🌀 Epoch 100/200\n"
     ]
    },
    {
     "name": "stderr",
     "output_type": "stream",
     "text": [
      "                                                                                                                                                                                                                                             \r"
     ]
    },
    {
     "name": "stdout",
     "output_type": "stream",
     "text": [
      "📏 Dice: 0.8735 | SSIM: 0.5543 | Composite: 0.7139\n",
      "📉 No improvement for 6 epoch(s)\n",
      "\n",
      "🌀 Epoch 101/200\n"
     ]
    },
    {
     "name": "stderr",
     "output_type": "stream",
     "text": [
      "                                                                                                                                                                                                                                             \r"
     ]
    },
    {
     "name": "stdout",
     "output_type": "stream",
     "text": [
      "📏 Dice: 0.8774 | SSIM: 0.5601 | Composite: 0.7188\n",
      "📉 No improvement for 7 epoch(s)\n",
      "\n",
      "🌀 Epoch 102/200\n"
     ]
    },
    {
     "name": "stderr",
     "output_type": "stream",
     "text": [
      "                                                                                                                                                                                                                                             \r"
     ]
    },
    {
     "name": "stdout",
     "output_type": "stream",
     "text": [
      "📏 Dice: 0.8755 | SSIM: 0.5604 | Composite: 0.7180\n",
      "📉 No improvement for 8 epoch(s)\n",
      "\n",
      "🌀 Epoch 103/200\n"
     ]
    },
    {
     "name": "stderr",
     "output_type": "stream",
     "text": [
      "                                                                                                                                                                                                                                             \r"
     ]
    },
    {
     "name": "stdout",
     "output_type": "stream",
     "text": [
      "📏 Dice: 0.8755 | SSIM: 0.5683 | Composite: 0.7219\n",
      "📉 No improvement for 9 epoch(s)\n",
      "\n",
      "🌀 Epoch 104/200\n"
     ]
    },
    {
     "name": "stderr",
     "output_type": "stream",
     "text": [
      "                                                                                                                                                                                                                                             \r"
     ]
    },
    {
     "name": "stdout",
     "output_type": "stream",
     "text": [
      "📏 Dice: 0.8789 | SSIM: 0.5663 | Composite: 0.7226\n",
      "WARNING:tensorflow:Compiled the loaded model, but the compiled metrics have yet to be built. `model.compile_metrics` will be empty until you train or evaluate the model.\n",
      "✅ Saved best generator (composite: 0.7226) to checkpoints_mag2ssfp_pix2pix/generator_best_composite_epoch_104.h5\n",
      "\n",
      "🌀 Epoch 105/200\n"
     ]
    },
    {
     "name": "stderr",
     "output_type": "stream",
     "text": [
      "                                                                                                                                                                                                                                             \r"
     ]
    },
    {
     "name": "stdout",
     "output_type": "stream",
     "text": [
      "📏 Dice: 0.8755 | SSIM: 0.5681 | Composite: 0.7218\n",
      "📉 No improvement for 1 epoch(s)\n",
      "\n",
      "🌀 Epoch 106/200\n"
     ]
    },
    {
     "name": "stderr",
     "output_type": "stream",
     "text": [
      "                                                                                                                                                                                                                                             \r"
     ]
    },
    {
     "name": "stdout",
     "output_type": "stream",
     "text": [
      "📏 Dice: 0.8726 | SSIM: 0.5713 | Composite: 0.7219\n",
      "📉 No improvement for 2 epoch(s)\n",
      "\n",
      "🌀 Epoch 107/200\n"
     ]
    },
    {
     "name": "stderr",
     "output_type": "stream",
     "text": [
      "                                                                                                                                                                                                                                             \r"
     ]
    },
    {
     "name": "stdout",
     "output_type": "stream",
     "text": [
      "📏 Dice: 0.8745 | SSIM: 0.5677 | Composite: 0.7211\n",
      "📉 No improvement for 3 epoch(s)\n",
      "\n",
      "🌀 Epoch 108/200\n"
     ]
    },
    {
     "name": "stderr",
     "output_type": "stream",
     "text": [
      "                                                                                                                                                                                                                                             \r"
     ]
    },
    {
     "name": "stdout",
     "output_type": "stream",
     "text": [
      "📏 Dice: 0.8770 | SSIM: 0.5658 | Composite: 0.7214\n",
      "📉 No improvement for 4 epoch(s)\n",
      "\n",
      "🌀 Epoch 109/200\n"
     ]
    },
    {
     "name": "stderr",
     "output_type": "stream",
     "text": [
      "                                                                                                                                                                                                                                             \r"
     ]
    },
    {
     "name": "stdout",
     "output_type": "stream",
     "text": [
      "📏 Dice: 0.8735 | SSIM: 0.5704 | Composite: 0.7220\n",
      "📉 No improvement for 5 epoch(s)\n",
      "\n",
      "🌀 Epoch 110/200\n"
     ]
    },
    {
     "name": "stderr",
     "output_type": "stream",
     "text": [
      "                                                                                                                                                                                                                                             \r"
     ]
    },
    {
     "name": "stdout",
     "output_type": "stream",
     "text": [
      "📏 Dice: 0.8784 | SSIM: 0.5638 | Composite: 0.7211\n",
      "📉 No improvement for 6 epoch(s)\n",
      "\n",
      "🌀 Epoch 111/200\n"
     ]
    },
    {
     "name": "stderr",
     "output_type": "stream",
     "text": [
      "                                                                                                                                                                                                                                             \r"
     ]
    },
    {
     "name": "stdout",
     "output_type": "stream",
     "text": [
      "📏 Dice: 0.8789 | SSIM: 0.5734 | Composite: 0.7261\n",
      "WARNING:tensorflow:Compiled the loaded model, but the compiled metrics have yet to be built. `model.compile_metrics` will be empty until you train or evaluate the model.\n",
      "✅ Saved best generator (composite: 0.7261) to checkpoints_mag2ssfp_pix2pix/generator_best_composite_epoch_111.h5\n",
      "\n",
      "🌀 Epoch 112/200\n"
     ]
    },
    {
     "name": "stderr",
     "output_type": "stream",
     "text": [
      "                                                                                                                                                                                                                                             \r"
     ]
    },
    {
     "name": "stdout",
     "output_type": "stream",
     "text": [
      "📏 Dice: 0.8760 | SSIM: 0.5698 | Composite: 0.7229\n",
      "📉 No improvement for 1 epoch(s)\n",
      "\n",
      "🌀 Epoch 113/200\n"
     ]
    },
    {
     "name": "stderr",
     "output_type": "stream",
     "text": [
      "                                                                                                                                                                                                                                             \r"
     ]
    },
    {
     "name": "stdout",
     "output_type": "stream",
     "text": [
      "📏 Dice: 0.8745 | SSIM: 0.5658 | Composite: 0.7202\n",
      "📉 No improvement for 2 epoch(s)\n",
      "\n",
      "🌀 Epoch 114/200\n"
     ]
    },
    {
     "name": "stderr",
     "output_type": "stream",
     "text": [
      "                                                                                                                                                                                                                                             \r"
     ]
    },
    {
     "name": "stdout",
     "output_type": "stream",
     "text": [
      "📏 Dice: 0.8755 | SSIM: 0.5652 | Composite: 0.7203\n",
      "📉 No improvement for 3 epoch(s)\n",
      "\n",
      "🌀 Epoch 115/200\n"
     ]
    },
    {
     "name": "stderr",
     "output_type": "stream",
     "text": [
      "                                                                                                                                                                                                                                             \r"
     ]
    },
    {
     "name": "stdout",
     "output_type": "stream",
     "text": [
      "📏 Dice: 0.8765 | SSIM: 0.5689 | Composite: 0.7227\n",
      "📉 No improvement for 4 epoch(s)\n",
      "\n",
      "🌀 Epoch 116/200\n"
     ]
    },
    {
     "name": "stderr",
     "output_type": "stream",
     "text": [
      "                                                                                                                                                                                                                                             \r"
     ]
    },
    {
     "name": "stdout",
     "output_type": "stream",
     "text": [
      "📏 Dice: 0.8755 | SSIM: 0.5725 | Composite: 0.7240\n",
      "📉 No improvement for 5 epoch(s)\n",
      "\n",
      "🌀 Epoch 117/200\n"
     ]
    },
    {
     "name": "stderr",
     "output_type": "stream",
     "text": [
      "                                                                                                                                                                                                                                             \r"
     ]
    },
    {
     "name": "stdout",
     "output_type": "stream",
     "text": [
      "📏 Dice: 0.8789 | SSIM: 0.5631 | Composite: 0.7210\n",
      "📉 No improvement for 6 epoch(s)\n",
      "\n",
      "🌀 Epoch 118/200\n"
     ]
    },
    {
     "name": "stderr",
     "output_type": "stream",
     "text": [
      "                                                                                                                                                                                                                                             \r"
     ]
    },
    {
     "name": "stdout",
     "output_type": "stream",
     "text": [
      "📏 Dice: 0.8755 | SSIM: 0.5735 | Composite: 0.7245\n",
      "📉 No improvement for 7 epoch(s)\n",
      "\n",
      "🌀 Epoch 119/200\n"
     ]
    },
    {
     "name": "stderr",
     "output_type": "stream",
     "text": [
      "                                                                                                                                                                                                                                             \r"
     ]
    },
    {
     "name": "stdout",
     "output_type": "stream",
     "text": [
      "📏 Dice: 0.8740 | SSIM: 0.5649 | Composite: 0.7195\n",
      "📉 No improvement for 8 epoch(s)\n",
      "\n",
      "🌀 Epoch 120/200\n"
     ]
    },
    {
     "name": "stderr",
     "output_type": "stream",
     "text": [
      "                                                                                                                                                                                                                                             \r"
     ]
    },
    {
     "name": "stdout",
     "output_type": "stream",
     "text": [
      "📏 Dice: 0.8745 | SSIM: 0.5735 | Composite: 0.7240\n",
      "📉 No improvement for 9 epoch(s)\n",
      "\n",
      "🌀 Epoch 121/200\n"
     ]
    },
    {
     "name": "stderr",
     "output_type": "stream",
     "text": [
      "                                                                                                                                                                                                                                             \r"
     ]
    },
    {
     "name": "stdout",
     "output_type": "stream",
     "text": [
      "📏 Dice: 0.8774 | SSIM: 0.5653 | Composite: 0.7214\n",
      "📉 No improvement for 10 epoch(s)\n",
      "\n",
      "🌀 Epoch 122/200\n"
     ]
    },
    {
     "name": "stderr",
     "output_type": "stream",
     "text": [
      "                                                                                                                                                                                                                                             \r"
     ]
    },
    {
     "name": "stdout",
     "output_type": "stream",
     "text": [
      "📏 Dice: 0.8745 | SSIM: 0.5684 | Composite: 0.7214\n",
      "📉 No improvement for 11 epoch(s)\n",
      "\n",
      "🌀 Epoch 123/200\n"
     ]
    },
    {
     "name": "stderr",
     "output_type": "stream",
     "text": [
      "                                                                                                                                                                                                                                             \r"
     ]
    },
    {
     "name": "stdout",
     "output_type": "stream",
     "text": [
      "📏 Dice: 0.8726 | SSIM: 0.5640 | Composite: 0.7183\n",
      "📉 No improvement for 12 epoch(s)\n",
      "\n",
      "🌀 Epoch 124/200\n"
     ]
    },
    {
     "name": "stderr",
     "output_type": "stream",
     "text": [
      "                                                                                                                                                                                                                                             \r"
     ]
    },
    {
     "name": "stdout",
     "output_type": "stream",
     "text": [
      "📏 Dice: 0.8765 | SSIM: 0.5723 | Composite: 0.7244\n",
      "📉 No improvement for 13 epoch(s)\n",
      "\n",
      "🌀 Epoch 125/200\n"
     ]
    },
    {
     "name": "stderr",
     "output_type": "stream",
     "text": [
      "                                                                                                                                                                                                                                             \r"
     ]
    },
    {
     "name": "stdout",
     "output_type": "stream",
     "text": [
      "📏 Dice: 0.8760 | SSIM: 0.5644 | Composite: 0.7202\n",
      "📉 No improvement for 14 epoch(s)\n",
      "\n",
      "🌀 Epoch 126/200\n"
     ]
    },
    {
     "name": "stderr",
     "output_type": "stream",
     "text": [
      "                                                                                                                                                                                                                                             \r"
     ]
    },
    {
     "name": "stdout",
     "output_type": "stream",
     "text": [
      "📏 Dice: 0.8765 | SSIM: 0.5673 | Composite: 0.7219\n",
      "📉 No improvement for 15 epoch(s)\n",
      "\n",
      "🌀 Epoch 127/200\n"
     ]
    },
    {
     "name": "stderr",
     "output_type": "stream",
     "text": [
      "                                                                                                                                                                                                                                             \r"
     ]
    },
    {
     "name": "stdout",
     "output_type": "stream",
     "text": [
      "📏 Dice: 0.8774 | SSIM: 0.5681 | Composite: 0.7228\n",
      "📉 No improvement for 16 epoch(s)\n",
      "\n",
      "🌀 Epoch 128/200\n"
     ]
    },
    {
     "name": "stderr",
     "output_type": "stream",
     "text": [
      "                                                                                                                                                                                                                                             \r"
     ]
    },
    {
     "name": "stdout",
     "output_type": "stream",
     "text": [
      "📏 Dice: 0.8770 | SSIM: 0.5711 | Composite: 0.7240\n",
      "📉 No improvement for 17 epoch(s)\n",
      "\n",
      "🌀 Epoch 129/200\n"
     ]
    },
    {
     "name": "stderr",
     "output_type": "stream",
     "text": [
      "                                                                                                                                                                                                                                             \r"
     ]
    },
    {
     "name": "stdout",
     "output_type": "stream",
     "text": [
      "📏 Dice: 0.8765 | SSIM: 0.5699 | Composite: 0.7232\n",
      "📉 No improvement for 18 epoch(s)\n",
      "\n",
      "🌀 Epoch 130/200\n"
     ]
    },
    {
     "name": "stderr",
     "output_type": "stream",
     "text": [
      "                                                                                                                                                                                                                                             \r"
     ]
    },
    {
     "name": "stdout",
     "output_type": "stream",
     "text": [
      "📏 Dice: 0.8755 | SSIM: 0.5638 | Composite: 0.7196\n",
      "📉 No improvement for 19 epoch(s)\n",
      "\n",
      "🌀 Epoch 131/200\n"
     ]
    },
    {
     "name": "stderr",
     "output_type": "stream",
     "text": [
      "                                                                                                                                                                                                                                             \r"
     ]
    },
    {
     "name": "stdout",
     "output_type": "stream",
     "text": [
      "📏 Dice: 0.8682 | SSIM: 0.5734 | Composite: 0.7208\n",
      "📉 No improvement for 20 epoch(s)\n",
      "\n",
      "🌀 Epoch 132/200\n"
     ]
    },
    {
     "name": "stderr",
     "output_type": "stream",
     "text": [
      "                                                                                                                                                                                                                                             \r"
     ]
    },
    {
     "name": "stdout",
     "output_type": "stream",
     "text": [
      "📏 Dice: 0.8735 | SSIM: 0.5760 | Composite: 0.7248\n",
      "📉 No improvement for 21 epoch(s)\n",
      "\n",
      "🌀 Epoch 133/200\n"
     ]
    },
    {
     "name": "stderr",
     "output_type": "stream",
     "text": [
      "                                                                                                                                                                                                                                             \r"
     ]
    },
    {
     "name": "stdout",
     "output_type": "stream",
     "text": [
      "📏 Dice: 0.8765 | SSIM: 0.5699 | Composite: 0.7232\n",
      "📉 No improvement for 22 epoch(s)\n",
      "\n",
      "🌀 Epoch 134/200\n"
     ]
    },
    {
     "name": "stderr",
     "output_type": "stream",
     "text": [
      "                                                                                                                                                                                                                                             \r"
     ]
    },
    {
     "name": "stdout",
     "output_type": "stream",
     "text": [
      "📏 Dice: 0.8755 | SSIM: 0.5715 | Composite: 0.7235\n",
      "📉 No improvement for 23 epoch(s)\n",
      "\n",
      "🌀 Epoch 135/200\n"
     ]
    },
    {
     "name": "stderr",
     "output_type": "stream",
     "text": [
      "                                                                                                                                                                                                                                             \r"
     ]
    },
    {
     "name": "stdout",
     "output_type": "stream",
     "text": [
      "📏 Dice: 0.8765 | SSIM: 0.5697 | Composite: 0.7231\n",
      "📉 No improvement for 24 epoch(s)\n",
      "\n",
      "🌀 Epoch 136/200\n"
     ]
    },
    {
     "name": "stderr",
     "output_type": "stream",
     "text": [
      "                                                                                                                                                                                                                                             \r"
     ]
    },
    {
     "name": "stdout",
     "output_type": "stream",
     "text": [
      "📏 Dice: 0.8770 | SSIM: 0.5673 | Composite: 0.7221\n",
      "📉 No improvement for 25 epoch(s)\n",
      "\n",
      "🌀 Epoch 137/200\n"
     ]
    },
    {
     "name": "stderr",
     "output_type": "stream",
     "text": [
      "                                                                                                                                                                                                                                             \r"
     ]
    },
    {
     "name": "stdout",
     "output_type": "stream",
     "text": [
      "📏 Dice: 0.8774 | SSIM: 0.5710 | Composite: 0.7242\n",
      "📉 No improvement for 26 epoch(s)\n",
      "\n",
      "🌀 Epoch 138/200\n"
     ]
    },
    {
     "name": "stderr",
     "output_type": "stream",
     "text": [
      "                                                                                                                                                                                                                                             \r"
     ]
    },
    {
     "name": "stdout",
     "output_type": "stream",
     "text": [
      "📏 Dice: 0.8760 | SSIM: 0.5701 | Composite: 0.7230\n",
      "📉 No improvement for 27 epoch(s)\n",
      "\n",
      "🌀 Epoch 139/200\n"
     ]
    },
    {
     "name": "stderr",
     "output_type": "stream",
     "text": [
      "                                                                                                                                                                                                                                             \r"
     ]
    },
    {
     "name": "stdout",
     "output_type": "stream",
     "text": [
      "📏 Dice: 0.8784 | SSIM: 0.5736 | Composite: 0.7260\n",
      "📉 No improvement for 28 epoch(s)\n",
      "\n",
      "🌀 Epoch 140/200\n"
     ]
    },
    {
     "name": "stderr",
     "output_type": "stream",
     "text": [
      "                                                                                                                                                                                                                                             \r"
     ]
    },
    {
     "name": "stdout",
     "output_type": "stream",
     "text": [
      "📏 Dice: 0.8760 | SSIM: 0.5670 | Composite: 0.7215\n",
      "📉 No improvement for 29 epoch(s)\n",
      "\n",
      "🌀 Epoch 141/200\n"
     ]
    },
    {
     "name": "stderr",
     "output_type": "stream",
     "text": [
      "                                                                                                                                                                                                                                             \r"
     ]
    },
    {
     "name": "stdout",
     "output_type": "stream",
     "text": [
      "📏 Dice: 0.8755 | SSIM: 0.5722 | Composite: 0.7239\n",
      "📉 No improvement for 30 epoch(s)\n",
      "\n",
      "🌀 Epoch 142/200\n"
     ]
    },
    {
     "name": "stderr",
     "output_type": "stream",
     "text": [
      "                                                                                                                                                                                                                                             \r"
     ]
    },
    {
     "name": "stdout",
     "output_type": "stream",
     "text": [
      "📏 Dice: 0.8760 | SSIM: 0.5676 | Composite: 0.7218\n",
      "📉 No improvement for 31 epoch(s)\n",
      "\n",
      "🌀 Epoch 143/200\n"
     ]
    },
    {
     "name": "stderr",
     "output_type": "stream",
     "text": [
      "                                                                                                                                                                                                                                             \r"
     ]
    },
    {
     "name": "stdout",
     "output_type": "stream",
     "text": [
      "📏 Dice: 0.8784 | SSIM: 0.5688 | Composite: 0.7236\n",
      "📉 No improvement for 32 epoch(s)\n",
      "\n",
      "🌀 Epoch 144/200\n"
     ]
    },
    {
     "name": "stderr",
     "output_type": "stream",
     "text": [
      "                                                                                                                                                                                                                                             \r"
     ]
    },
    {
     "name": "stdout",
     "output_type": "stream",
     "text": [
      "📏 Dice: 0.8726 | SSIM: 0.5740 | Composite: 0.7233\n",
      "📉 No improvement for 33 epoch(s)\n",
      "\n",
      "🌀 Epoch 145/200\n"
     ]
    },
    {
     "name": "stderr",
     "output_type": "stream",
     "text": [
      "                                                                                                                                                                                                                                             \r"
     ]
    },
    {
     "name": "stdout",
     "output_type": "stream",
     "text": [
      "📏 Dice: 0.8765 | SSIM: 0.5718 | Composite: 0.7241\n",
      "📉 No improvement for 34 epoch(s)\n",
      "\n",
      "🌀 Epoch 146/200\n"
     ]
    },
    {
     "name": "stderr",
     "output_type": "stream",
     "text": [
      "                                                                                                                                                                                                                                             \r"
     ]
    },
    {
     "name": "stdout",
     "output_type": "stream",
     "text": [
      "📏 Dice: 0.8789 | SSIM: 0.5719 | Composite: 0.7254\n",
      "📉 No improvement for 35 epoch(s)\n",
      "\n",
      "🌀 Epoch 147/200\n"
     ]
    },
    {
     "name": "stderr",
     "output_type": "stream",
     "text": [
      "                                                                                                                                                                                                                                             \r"
     ]
    },
    {
     "name": "stdout",
     "output_type": "stream",
     "text": [
      "📏 Dice: 0.8745 | SSIM: 0.5653 | Composite: 0.7199\n",
      "📉 No improvement for 36 epoch(s)\n",
      "\n",
      "🌀 Epoch 148/200\n"
     ]
    },
    {
     "name": "stderr",
     "output_type": "stream",
     "text": [
      "                                                                                                                                                                                                                                             \r"
     ]
    },
    {
     "name": "stdout",
     "output_type": "stream",
     "text": [
      "📏 Dice: 0.8726 | SSIM: 0.5720 | Composite: 0.7223\n",
      "📉 No improvement for 37 epoch(s)\n",
      "\n",
      "🌀 Epoch 149/200\n"
     ]
    },
    {
     "name": "stderr",
     "output_type": "stream",
     "text": [
      "                                                                                                                                                                                                                                             \r"
     ]
    },
    {
     "name": "stdout",
     "output_type": "stream",
     "text": [
      "📏 Dice: 0.8726 | SSIM: 0.5731 | Composite: 0.7228\n",
      "📉 No improvement for 38 epoch(s)\n",
      "\n",
      "🌀 Epoch 150/200\n"
     ]
    },
    {
     "name": "stderr",
     "output_type": "stream",
     "text": [
      "                                                                                                                                                                                                                                             \r"
     ]
    },
    {
     "name": "stdout",
     "output_type": "stream",
     "text": [
      "📏 Dice: 0.8745 | SSIM: 0.5714 | Composite: 0.7229\n",
      "📉 No improvement for 39 epoch(s)\n",
      "\n",
      "🌀 Epoch 151/200\n"
     ]
    },
    {
     "name": "stderr",
     "output_type": "stream",
     "text": [
      "                                                                                                                                                                                                                                             \r"
     ]
    },
    {
     "name": "stdout",
     "output_type": "stream",
     "text": [
      "📏 Dice: 0.8735 | SSIM: 0.5740 | Composite: 0.7238\n",
      "📉 No improvement for 40 epoch(s)\n",
      "🛑 Early stopping triggered after 40 epochs without improvement.\n"
     ]
    }
   ],
   "source": [
    "# 🏃 7. Training Loop\n",
    "from tqdm import tqdm\n",
    "EPOCHS = 200\n",
    "EARLY_STOPPING_PATIENCE = 40\n",
    "\n",
    "print(f\"🔥 Starting training for up to {EPOCHS} epochs with early stopping after {EARLY_STOPPING_PATIENCE} epochs of no improvement.\")\n",
    "\n",
    "import datetime\n",
    "\n",
    "log_dir = \"logs/pix2pix/\" + datetime.datetime.now().strftime(\"%Y%m%d-%H%M%S\")\n",
    "train_summary_writer = tf.summary.create_file_writer(log_dir + \"/train\")\n",
    "val_summary_writer   = tf.summary.create_file_writer(log_dir + \"/val\")\n",
    "\n",
    "\n",
    "%load_ext tensorboard\n",
    "%tensorboard --logdir logs/pix2pix --port 8111\n",
    "\n",
    "for epoch in range(EPOCHS):\n",
    "    print(f\"\\n🌀 Epoch {epoch + 1}/{EPOCHS}\")\n",
    "    step_bar = tqdm(train_dataset, desc=\"Training\", leave=False)\n",
    "    \n",
    "    for input_image, target in step_bar:\n",
    "        gen_loss, disc_loss = train_step(input_image, target)\n",
    "        step_bar.set_postfix({\"G Loss\": float(gen_loss), \"D Loss\": float(disc_loss)})\n",
    "\n",
    "    # 📊 Evaluate validation\n",
    "    avg_dice, avg_ssim, composite = evaluate_dice_ssim(generator, valid_dataset, seg_unet, alpha=0.5)\n",
    "    print(f\"📏 Dice: {avg_dice:.4f} | SSIM: {avg_ssim:.4f} | Composite: {composite:.4f}\")\n",
    "\n",
    "    # 💾 Save if composite improves\n",
    "    if composite > best_composite_score:\n",
    "        best_composite_score = composite\n",
    "        epochs_since_improvement = 0\n",
    "        save_path = os.path.join(checkpoint_dir, f\"generator_best_composite_epoch_{epoch+1}.h5\")\n",
    "        generator.save(save_path)\n",
    "        print(f\"✅ Saved best generator (composite: {composite:.4f}) to {save_path}\")\n",
    "    else:\n",
    "        epochs_since_improvement += 1\n",
    "        print(f\"📉 No improvement for {epochs_since_improvement} epoch(s)\")\n",
    "\n",
    "    # 🛑 Early stopping\n",
    "    if epochs_since_improvement >= EARLY_STOPPING_PATIENCE:\n",
    "        print(f\"🛑 Early stopping triggered after {EARLY_STOPPING_PATIENCE} epochs without improvement.\")\n",
    "        break\n",
    "\n",
    "    # 📊 Show a sample output at the end of each epoch\n",
    "    generate_and_save_sample(generator, valid_dataset, seg_unet, '{}_epoch_viz/'.format('mag2ssfp_pix2pix'), epoch=epoch, num=7)\n",
    "    # Log training losses\n",
    "    with train_summary_writer.as_default():\n",
    "        tf.summary.scalar(\"Generator Loss\", gen_loss, step=epoch)\n",
    "        tf.summary.scalar(\"Discriminator Loss\", disc_loss, step=epoch)\n",
    "\n",
    "    # Log validation metrics\n",
    "    with val_summary_writer.as_default():\n",
    "        tf.summary.scalar(\"Validation Dice\", avg_dice, step=epoch)\n",
    "        tf.summary.scalar(\"Validation SSIM\", avg_ssim, step=epoch)\n",
    "        tf.summary.scalar(\"Validation Composite Score\", composite, step=epoch)"
   ]
  },
  {
   "cell_type": "code",
   "execution_count": 33,
   "id": "b53c0641",
   "metadata": {},
   "outputs": [
    {
     "data": {
      "image/png": "[encoded data removed]",
      "text/plain": [
       "<Figure size 1600x400 with 4 Axes>"
      ]
     },
     "metadata": {},
     "output_type": "display_data"
    }
   ],
   "source": [
    "# 🖼️ 8. Visualize Sample Prediction\n",
    "def display_sample(input_image, target):\n",
    "    prediction = generator(tf.expand_dims(input_image, 0), training=False)[0]\n",
    "    plt.figure(figsize=(16, 4))\n",
    "    titles = ['Input (Channel 1)', 'Target (Channel 0)', 'Generated', 'Overlay']\n",
    "    for i, img in enumerate([input_image, target, prediction]):\n",
    "        if i == 0:\n",
    "            img = img[:,:,0,:]\n",
    "        plt.subplot(1, 4, i+1)\n",
    "        plt.imshow(img[..., 0], cmap='gray')\n",
    "        plt.title(titles[i])\n",
    "        plt.axis('off')\n",
    "    plt.subplot(1,4,4)\n",
    "#     plt.imshow(input_image[:,:,0], cmap='PRGn', alpha=0.4)\n",
    "#     plt.imshow(prediction[:,:,0], cmap='gray', alpha=0.6)\n",
    "    plt.imshow(np.abs(input_image[:,:,0,0]-prediction[:,:,0]), cmap='gray')\n",
    "    plt.title('overlay')\n",
    "    plt.axis('off')\n",
    "    plt.show()\n",
    "\n",
    "# Run on a validation sample\n",
    "sample = valid_data[115]\n",
    "input_sample = np.concatenate([sample[64:-64,64:-64, 1:2], sample[64:-64,64:-64, 5:8]], axis=-1)\n",
    "target_sample = sample[64:-64,64:-64, 0]\n",
    "display_sample(input_sample[..., np.newaxis], target_sample[..., np.newaxis])"
   ]
  },
  {
   "cell_type": "code",
   "execution_count": 40,
   "id": "1c79479c",
   "metadata": {},
   "outputs": [
    {
     "name": "stdout",
     "output_type": "stream",
     "text": [
      "WARNING:tensorflow:No training configuration found in the save file, so the model was *not* compiled. Compile it manually.\n",
      "✅ Loaded best generator from generator_best_composite_epoch_111.h5\n",
      "🖼️ Saved sample_0.png | Dice: 0.8843 | SSIM: 0.7705\n",
      "🖼️ Saved sample_1.png | Dice: 0.8740 | SSIM: 0.7639\n",
      "🖼️ Saved sample_2.png | Dice: 0.8618 | SSIM: 0.7415\n",
      "🖼️ Saved sample_3.png | Dice: 0.8486 | SSIM: 0.7126\n",
      "🖼️ Saved sample_4.png | Dice: 0.7905 | SSIM: 0.7079\n",
      "🖼️ Saved sample_5.png | Dice: 0.7812 | SSIM: 0.7133\n",
      "🖼️ Saved sample_6.png | Dice: 0.7891 | SSIM: 0.7122\n",
      "🖼️ Saved sample_7.png | Dice: 0.7974 | SSIM: 0.7190\n",
      "🖼️ Saved sample_8.png | Dice: 0.8096 | SSIM: 0.7225\n",
      "🖼️ Saved sample_9.png | Dice: 0.7686 | SSIM: 0.7218\n",
      "🖼️ Saved sample_10.png | Dice: 0.7539 | SSIM: 0.7230\n",
      "🖼️ Saved sample_11.png | Dice: 0.7935 | SSIM: 0.7272\n",
      "🖼️ Saved sample_12.png | Dice: 0.8496 | SSIM: 0.7303\n",
      "🖼️ Saved sample_13.png | Dice: 0.8994 | SSIM: 0.7316\n",
      "🖼️ Saved sample_14.png | Dice: 0.8911 | SSIM: 0.7281\n",
      "🖼️ Saved sample_15.png | Dice: 0.8950 | SSIM: 0.7436\n",
      "🖼️ Saved sample_16.png | Dice: 0.8911 | SSIM: 0.7488\n",
      "🖼️ Saved sample_17.png | Dice: 0.8887 | SSIM: 0.7623\n",
      "🖼️ Saved sample_18.png | Dice: 0.8975 | SSIM: 0.7619\n",
      "🖼️ Saved sample_19.png | Dice: 0.8892 | SSIM: 0.7611\n",
      "🖼️ Saved sample_20.png | Dice: 0.8691 | SSIM: 0.7591\n",
      "🖼️ Saved sample_21.png | Dice: 0.8604 | SSIM: 0.7598\n",
      "🖼️ Saved sample_22.png | Dice: 0.8672 | SSIM: 0.7539\n",
      "🖼️ Saved sample_23.png | Dice: 0.8770 | SSIM: 0.7413\n",
      "🖼️ Saved sample_24.png | Dice: 0.9053 | SSIM: 0.7465\n",
      "🖼️ Saved sample_25.png | Dice: 0.9028 | SSIM: 0.7562\n",
      "🖼️ Saved sample_26.png | Dice: 0.8701 | SSIM: 0.7556\n",
      "🖼️ Saved sample_27.png | Dice: 0.8628 | SSIM: 0.7566\n",
      "🖼️ Saved sample_28.png | Dice: 0.8501 | SSIM: 0.7537\n",
      "🖼️ Saved sample_29.png | Dice: 0.8301 | SSIM: 0.7394\n",
      "🖼️ Saved sample_30.png | Dice: 0.8311 | SSIM: 0.7405\n",
      "🖼️ Saved sample_31.png | Dice: 0.8857 | SSIM: 0.7476\n",
      "🖼️ Saved sample_32.png | Dice: 0.8872 | SSIM: 0.7521\n",
      "🖼️ Saved sample_33.png | Dice: 0.8550 | SSIM: 0.7520\n",
      "🖼️ Saved sample_34.png | Dice: 0.8809 | SSIM: 0.7527\n",
      "🖼️ Saved sample_35.png | Dice: 0.8984 | SSIM: 0.7556\n",
      "🖼️ Saved sample_36.png | Dice: 0.8828 | SSIM: 0.7500\n",
      "🖼️ Saved sample_37.png | Dice: 0.8857 | SSIM: 0.7543\n",
      "🖼️ Saved sample_38.png | Dice: 0.8643 | SSIM: 0.7531\n",
      "🖼️ Saved sample_39.png | Dice: 0.8604 | SSIM: 0.7480\n",
      "🖼️ Saved sample_40.png | Dice: 0.8550 | SSIM: 0.7734\n",
      "🖼️ Saved sample_41.png | Dice: 0.8540 | SSIM: 0.7680\n",
      "🖼️ Saved sample_42.png | Dice: 0.8867 | SSIM: 0.7642\n",
      "🖼️ Saved sample_43.png | Dice: 0.8540 | SSIM: 0.7526\n",
      "🖼️ Saved sample_44.png | Dice: 0.8208 | SSIM: 0.7482\n",
      "🖼️ Saved sample_45.png | Dice: 0.8101 | SSIM: 0.7452\n",
      "🖼️ Saved sample_46.png | Dice: 0.8198 | SSIM: 0.7541\n",
      "🖼️ Saved sample_47.png | Dice: 0.8633 | SSIM: 0.7620\n",
      "🖼️ Saved sample_48.png | Dice: 0.8896 | SSIM: 0.7711\n",
      "🖼️ Saved sample_49.png | Dice: 0.8691 | SSIM: 0.7724\n",
      "🖼️ Saved sample_50.png | Dice: 0.8374 | SSIM: 0.7774\n",
      "🖼️ Saved sample_51.png | Dice: 0.8594 | SSIM: 0.7867\n",
      "🖼️ Saved sample_52.png | Dice: 0.9106 | SSIM: 0.7866\n",
      "🖼️ Saved sample_53.png | Dice: 0.8994 | SSIM: 0.7802\n",
      "🖼️ Saved sample_54.png | Dice: 0.8867 | SSIM: 0.7785\n",
      "🖼️ Saved sample_55.png | Dice: 0.8901 | SSIM: 0.7777\n",
      "🖼️ Saved sample_56.png | Dice: 0.8955 | SSIM: 0.7793\n",
      "🖼️ Saved sample_57.png | Dice: 0.9019 | SSIM: 0.7856\n",
      "🖼️ Saved sample_58.png | Dice: 0.8862 | SSIM: 0.7796\n",
      "🖼️ Saved sample_59.png | Dice: 0.8706 | SSIM: 0.7718\n",
      "🖼️ Saved sample_60.png | Dice: 0.2598 | SSIM: 0.6784\n",
      "🖼️ Saved sample_61.png | Dice: 0.2788 | SSIM: 0.6800\n",
      "🖼️ Saved sample_62.png | Dice: 0.2473 | SSIM: 0.6800\n",
      "🖼️ Saved sample_63.png | Dice: 0.2725 | SSIM: 0.6816\n",
      "🖼️ Saved sample_64.png | Dice: 0.2947 | SSIM: 0.6833\n",
      "🖼️ Saved sample_65.png | Dice: 0.2808 | SSIM: 0.6848\n",
      "🖼️ Saved sample_66.png | Dice: 0.3142 | SSIM: 0.6941\n",
      "🖼️ Saved sample_67.png | Dice: 0.3442 | SSIM: 0.6960\n",
      "🖼️ Saved sample_68.png | Dice: 0.3438 | SSIM: 0.6949\n",
      "🖼️ Saved sample_69.png | Dice: 0.3530 | SSIM: 0.6978\n",
      "🖼️ Saved sample_70.png | Dice: 0.3372 | SSIM: 0.6976\n",
      "🖼️ Saved sample_71.png | Dice: 0.3103 | SSIM: 0.7051\n",
      "🖼️ Saved sample_72.png | Dice: 0.2761 | SSIM: 0.7096\n",
      "🖼️ Saved sample_73.png | Dice: 0.2527 | SSIM: 0.7054\n",
      "🖼️ Saved sample_74.png | Dice: 0.2747 | SSIM: 0.6967\n",
      "🖼️ Saved sample_75.png | Dice: 0.3054 | SSIM: 0.7002\n",
      "🖼️ Saved sample_76.png | Dice: 0.3289 | SSIM: 0.6971\n",
      "🖼️ Saved sample_77.png | Dice: 0.2722 | SSIM: 0.6939\n",
      "🖼️ Saved sample_78.png | Dice: 0.2666 | SSIM: 0.6848\n",
      "🖼️ Saved sample_79.png | Dice: 0.2678 | SSIM: 0.6820\n",
      "🖼️ Saved sample_80.png | Dice: 0.8306 | SSIM: 0.7944\n",
      "🖼️ Saved sample_81.png | Dice: 0.8281 | SSIM: 0.7904\n",
      "🖼️ Saved sample_82.png | Dice: 0.8555 | SSIM: 0.7952\n",
      "🖼️ Saved sample_83.png | Dice: 0.8506 | SSIM: 0.7937\n",
      "🖼️ Saved sample_84.png | Dice: 0.8130 | SSIM: 0.7946\n",
      "🖼️ Saved sample_85.png | Dice: 0.7881 | SSIM: 0.7957\n",
      "🖼️ Saved sample_86.png | Dice: 0.7881 | SSIM: 0.7987\n",
      "🖼️ Saved sample_87.png | Dice: 0.8027 | SSIM: 0.7994\n",
      "🖼️ Saved sample_88.png | Dice: 0.8311 | SSIM: 0.7986\n",
      "🖼️ Saved sample_89.png | Dice: 0.8237 | SSIM: 0.7978\n",
      "🖼️ Saved sample_90.png | Dice: 0.8159 | SSIM: 0.8023\n",
      "🖼️ Saved sample_91.png | Dice: 0.8374 | SSIM: 0.8111\n",
      "🖼️ Saved sample_92.png | Dice: 0.8423 | SSIM: 0.8162\n",
      "🖼️ Saved sample_93.png | Dice: 0.8730 | SSIM: 0.8253\n",
      "🖼️ Saved sample_94.png | Dice: 0.8833 | SSIM: 0.8221\n",
      "🖼️ Saved sample_95.png | Dice: 0.8809 | SSIM: 0.8183\n",
      "🖼️ Saved sample_96.png | Dice: 0.8735 | SSIM: 0.8108\n",
      "🖼️ Saved sample_97.png | Dice: 0.8809 | SSIM: 0.8061\n",
      "🖼️ Saved sample_98.png | Dice: 0.8789 | SSIM: 0.8033\n",
      "🖼️ Saved sample_99.png | Dice: 0.8574 | SSIM: 0.7976\n",
      "🖼️ Saved sample_100.png | Dice: 0.8789 | SSIM: 0.7119\n",
      "🖼️ Saved sample_101.png | Dice: 0.8730 | SSIM: 0.7039\n",
      "🖼️ Saved sample_102.png | Dice: 0.8687 | SSIM: 0.7130\n",
      "🖼️ Saved sample_103.png | Dice: 0.8779 | SSIM: 0.6987\n",
      "🖼️ Saved sample_104.png | Dice: 0.8901 | SSIM: 0.6929\n",
      "🖼️ Saved sample_105.png | Dice: 0.8877 | SSIM: 0.6857\n",
      "🖼️ Saved sample_106.png | Dice: 0.8760 | SSIM: 0.6877\n",
      "🖼️ Saved sample_107.png | Dice: 0.8604 | SSIM: 0.6876\n",
      "🖼️ Saved sample_108.png | Dice: 0.8511 | SSIM: 0.6915\n",
      "🖼️ Saved sample_109.png | Dice: 0.8594 | SSIM: 0.7075\n",
      "🖼️ Saved sample_110.png | Dice: 0.8843 | SSIM: 0.7225\n",
      "🖼️ Saved sample_111.png | Dice: 0.9146 | SSIM: 0.7358\n",
      "🖼️ Saved sample_112.png | Dice: 0.9155 | SSIM: 0.7304\n",
      "🖼️ Saved sample_113.png | Dice: 0.9146 | SSIM: 0.7240\n",
      "🖼️ Saved sample_114.png | Dice: 0.9028 | SSIM: 0.7224\n",
      "🖼️ Saved sample_115.png | Dice: 0.9019 | SSIM: 0.7163\n",
      "🖼️ Saved sample_116.png | Dice: 0.8960 | SSIM: 0.7206\n",
      "🖼️ Saved sample_117.png | Dice: 0.9028 | SSIM: 0.7231\n",
      "🖼️ Saved sample_118.png | Dice: 0.8950 | SSIM: 0.7161\n",
      "🖼️ Saved sample_119.png | Dice: 0.8848 | SSIM: 0.7115\n",
      "🖼️ Saved sample_120.png | Dice: 0.8711 | SSIM: 0.7163\n",
      "🖼️ Saved sample_121.png | Dice: 0.8604 | SSIM: 0.7134\n",
      "🖼️ Saved sample_122.png | Dice: 0.8384 | SSIM: 0.7084\n",
      "🖼️ Saved sample_123.png | Dice: 0.7974 | SSIM: 0.6967\n",
      "🖼️ Saved sample_124.png | Dice: 0.8140 | SSIM: 0.6985\n",
      "🖼️ Saved sample_125.png | Dice: 0.8306 | SSIM: 0.7023\n",
      "🖼️ Saved sample_126.png | Dice: 0.8311 | SSIM: 0.7159\n",
      "🖼️ Saved sample_127.png | Dice: 0.8228 | SSIM: 0.7180\n",
      "🖼️ Saved sample_128.png | Dice: 0.8154 | SSIM: 0.7177\n",
      "🖼️ Saved sample_129.png | Dice: 0.7993 | SSIM: 0.7246\n",
      "🖼️ Saved sample_130.png | Dice: 0.8311 | SSIM: 0.7313\n",
      "🖼️ Saved sample_131.png | Dice: 0.8550 | SSIM: 0.7291\n",
      "🖼️ Saved sample_132.png | Dice: 0.8496 | SSIM: 0.7192\n",
      "🖼️ Saved sample_133.png | Dice: 0.8579 | SSIM: 0.7238\n",
      "🖼️ Saved sample_134.png | Dice: 0.8677 | SSIM: 0.7095\n",
      "🖼️ Saved sample_135.png | Dice: 0.8477 | SSIM: 0.7068\n",
      "🖼️ Saved sample_136.png | Dice: 0.8525 | SSIM: 0.7071\n",
      "🖼️ Saved sample_137.png | Dice: 0.8687 | SSIM: 0.7202\n",
      "🖼️ Saved sample_138.png | Dice: 0.8672 | SSIM: 0.7097\n",
      "🖼️ Saved sample_139.png | Dice: 0.8594 | SSIM: 0.7062\n",
      "🖼️ Saved sample_140.png | Dice: 0.8799 | SSIM: 0.6852\n",
      "🖼️ Saved sample_141.png | Dice: 0.8789 | SSIM: 0.6869\n",
      "🖼️ Saved sample_142.png | Dice: 0.8516 | SSIM: 0.6764\n",
      "🖼️ Saved sample_143.png | Dice: 0.7969 | SSIM: 0.6682\n",
      "🖼️ Saved sample_144.png | Dice: 0.8330 | SSIM: 0.6598\n",
      "🖼️ Saved sample_145.png | Dice: 0.8442 | SSIM: 0.6604\n",
      "🖼️ Saved sample_146.png | Dice: 0.8442 | SSIM: 0.6665\n",
      "🖼️ Saved sample_147.png | Dice: 0.8389 | SSIM: 0.6640\n"
     ]
    },
    {
     "name": "stdout",
     "output_type": "stream",
     "text": [
      "🖼️ Saved sample_148.png | Dice: 0.8228 | SSIM: 0.6571\n",
      "🖼️ Saved sample_149.png | Dice: 0.8018 | SSIM: 0.6642\n",
      "🖼️ Saved sample_150.png | Dice: 0.8022 | SSIM: 0.6597\n",
      "🖼️ Saved sample_151.png | Dice: 0.8486 | SSIM: 0.6601\n",
      "🖼️ Saved sample_152.png | Dice: 0.8418 | SSIM: 0.6606\n",
      "🖼️ Saved sample_153.png | Dice: 0.8555 | SSIM: 0.6690\n",
      "🖼️ Saved sample_154.png | Dice: 0.8750 | SSIM: 0.6690\n",
      "🖼️ Saved sample_155.png | Dice: 0.8687 | SSIM: 0.6552\n",
      "🖼️ Saved sample_156.png | Dice: 0.8750 | SSIM: 0.6561\n",
      "🖼️ Saved sample_157.png | Dice: 0.8589 | SSIM: 0.6664\n",
      "🖼️ Saved sample_158.png | Dice: 0.8472 | SSIM: 0.6728\n",
      "🖼️ Saved sample_159.png | Dice: 0.8584 | SSIM: 0.6718\n",
      "🖼️ Saved sample_160.png | Dice: 0.8213 | SSIM: 0.7063\n",
      "🖼️ Saved sample_161.png | Dice: 0.8008 | SSIM: 0.7007\n",
      "🖼️ Saved sample_162.png | Dice: 0.7544 | SSIM: 0.6904\n",
      "🖼️ Saved sample_163.png | Dice: 0.7119 | SSIM: 0.6828\n",
      "🖼️ Saved sample_164.png | Dice: 0.7134 | SSIM: 0.6746\n",
      "🖼️ Saved sample_165.png | Dice: 0.7568 | SSIM: 0.6658\n",
      "🖼️ Saved sample_166.png | Dice: 0.7544 | SSIM: 0.6653\n",
      "🖼️ Saved sample_167.png | Dice: 0.7563 | SSIM: 0.6651\n",
      "🖼️ Saved sample_168.png | Dice: 0.7524 | SSIM: 0.6616\n",
      "🖼️ Saved sample_169.png | Dice: 0.7607 | SSIM: 0.6602\n",
      "🖼️ Saved sample_170.png | Dice: 0.7832 | SSIM: 0.6596\n",
      "🖼️ Saved sample_171.png | Dice: 0.8198 | SSIM: 0.6624\n",
      "🖼️ Saved sample_172.png | Dice: 0.8042 | SSIM: 0.6596\n",
      "🖼️ Saved sample_173.png | Dice: 0.8237 | SSIM: 0.6600\n",
      "🖼️ Saved sample_174.png | Dice: 0.8467 | SSIM: 0.6677\n",
      "🖼️ Saved sample_175.png | Dice: 0.8628 | SSIM: 0.6673\n",
      "🖼️ Saved sample_176.png | Dice: 0.8530 | SSIM: 0.6718\n",
      "🖼️ Saved sample_177.png | Dice: 0.8472 | SSIM: 0.6793\n",
      "🖼️ Saved sample_178.png | Dice: 0.8262 | SSIM: 0.6772\n",
      "🖼️ Saved sample_179.png | Dice: 0.8208 | SSIM: 0.6832\n",
      "🖼️ Saved sample_180.png | Dice: 0.7212 | SSIM: 0.6067\n",
      "🖼️ Saved sample_181.png | Dice: 0.7446 | SSIM: 0.6171\n",
      "🖼️ Saved sample_182.png | Dice: 0.7173 | SSIM: 0.6111\n",
      "🖼️ Saved sample_183.png | Dice: 0.7432 | SSIM: 0.6106\n",
      "🖼️ Saved sample_184.png | Dice: 0.7690 | SSIM: 0.6083\n",
      "🖼️ Saved sample_185.png | Dice: 0.7827 | SSIM: 0.5892\n",
      "🖼️ Saved sample_186.png | Dice: 0.7729 | SSIM: 0.5693\n",
      "🖼️ Saved sample_187.png | Dice: 0.7700 | SSIM: 0.5716\n",
      "🖼️ Saved sample_188.png | Dice: 0.7588 | SSIM: 0.5893\n",
      "🖼️ Saved sample_189.png | Dice: 0.7578 | SSIM: 0.5849\n",
      "🖼️ Saved sample_190.png | Dice: 0.7842 | SSIM: 0.5823\n",
      "🖼️ Saved sample_191.png | Dice: 0.7979 | SSIM: 0.5877\n",
      "🖼️ Saved sample_192.png | Dice: 0.8145 | SSIM: 0.5955\n",
      "🖼️ Saved sample_193.png | Dice: 0.8203 | SSIM: 0.5929\n",
      "🖼️ Saved sample_194.png | Dice: 0.8022 | SSIM: 0.5993\n",
      "🖼️ Saved sample_195.png | Dice: 0.8047 | SSIM: 0.5998\n",
      "🖼️ Saved sample_196.png | Dice: 0.8057 | SSIM: 0.6038\n",
      "🖼️ Saved sample_197.png | Dice: 0.7886 | SSIM: 0.6013\n",
      "🖼️ Saved sample_198.png | Dice: 0.7646 | SSIM: 0.5926\n",
      "🖼️ Saved sample_199.png | Dice: 0.7271 | SSIM: 0.5969\n",
      "🖼️ Saved sample_200.png | Dice: 0.9302 | SSIM: 0.8003\n",
      "🖼️ Saved sample_201.png | Dice: 0.9277 | SSIM: 0.7828\n",
      "🖼️ Saved sample_202.png | Dice: 0.9224 | SSIM: 0.7545\n",
      "🖼️ Saved sample_203.png | Dice: 0.9053 | SSIM: 0.7389\n",
      "🖼️ Saved sample_204.png | Dice: 0.8711 | SSIM: 0.7217\n",
      "🖼️ Saved sample_205.png | Dice: 0.8330 | SSIM: 0.7090\n",
      "🖼️ Saved sample_206.png | Dice: 0.8247 | SSIM: 0.7187\n",
      "🖼️ Saved sample_207.png | Dice: 0.7910 | SSIM: 0.7508\n",
      "🖼️ Saved sample_208.png | Dice: 0.8491 | SSIM: 0.7773\n",
      "🖼️ Saved sample_209.png | Dice: 0.8501 | SSIM: 0.7755\n",
      "🖼️ Saved sample_210.png | Dice: 0.8550 | SSIM: 0.7763\n",
      "🖼️ Saved sample_211.png | Dice: 0.8887 | SSIM: 0.7656\n",
      "🖼️ Saved sample_212.png | Dice: 0.8984 | SSIM: 0.7715\n",
      "🖼️ Saved sample_213.png | Dice: 0.9072 | SSIM: 0.7787\n",
      "🖼️ Saved sample_214.png | Dice: 0.9092 | SSIM: 0.7791\n",
      "🖼️ Saved sample_215.png | Dice: 0.9004 | SSIM: 0.7845\n",
      "🖼️ Saved sample_216.png | Dice: 0.9004 | SSIM: 0.7882\n",
      "🖼️ Saved sample_217.png | Dice: 0.9019 | SSIM: 0.7909\n",
      "🖼️ Saved sample_218.png | Dice: 0.9131 | SSIM: 0.7969\n",
      "🖼️ Saved sample_219.png | Dice: 0.9097 | SSIM: 0.7947\n",
      "🖼️ Saved sample_220.png | Dice: 0.9106 | SSIM: 0.7981\n",
      "🖼️ Saved sample_221.png | Dice: 0.9307 | SSIM: 0.7995\n",
      "🖼️ Saved sample_222.png | Dice: 0.9326 | SSIM: 0.7916\n",
      "🖼️ Saved sample_223.png | Dice: 0.9219 | SSIM: 0.8004\n",
      "🖼️ Saved sample_224.png | Dice: 0.8975 | SSIM: 0.7831\n",
      "🖼️ Saved sample_225.png | Dice: 0.8984 | SSIM: 0.7739\n",
      "🖼️ Saved sample_226.png | Dice: 0.9053 | SSIM: 0.7748\n",
      "🖼️ Saved sample_227.png | Dice: 0.9058 | SSIM: 0.7799\n",
      "🖼️ Saved sample_228.png | Dice: 0.9087 | SSIM: 0.8020\n",
      "🖼️ Saved sample_229.png | Dice: 0.9399 | SSIM: 0.8216\n",
      "🖼️ Saved sample_230.png | Dice: 0.9248 | SSIM: 0.8038\n",
      "🖼️ Saved sample_231.png | Dice: 0.9116 | SSIM: 0.7925\n",
      "🖼️ Saved sample_232.png | Dice: 0.8921 | SSIM: 0.7823\n",
      "🖼️ Saved sample_233.png | Dice: 0.8872 | SSIM: 0.7829\n",
      "🖼️ Saved sample_234.png | Dice: 0.8848 | SSIM: 0.7878\n",
      "🖼️ Saved sample_235.png | Dice: 0.8726 | SSIM: 0.7893\n",
      "🖼️ Saved sample_236.png | Dice: 0.8745 | SSIM: 0.7908\n",
      "🖼️ Saved sample_237.png | Dice: 0.8853 | SSIM: 0.7839\n",
      "🖼️ Saved sample_238.png | Dice: 0.8936 | SSIM: 0.7879\n",
      "🖼️ Saved sample_239.png | Dice: 0.8872 | SSIM: 0.7884\n",
      "🖼️ Saved sample_240.png | Dice: 0.9219 | SSIM: 0.8181\n",
      "🖼️ Saved sample_241.png | Dice: 0.9473 | SSIM: 0.8386\n",
      "🖼️ Saved sample_242.png | Dice: 0.9658 | SSIM: 0.8397\n",
      "🖼️ Saved sample_243.png | Dice: 0.9414 | SSIM: 0.8405\n",
      "🖼️ Saved sample_244.png | Dice: 0.9409 | SSIM: 0.8419\n",
      "🖼️ Saved sample_245.png | Dice: 0.9331 | SSIM: 0.8387\n",
      "🖼️ Saved sample_246.png | Dice: 0.9199 | SSIM: 0.8228\n",
      "🖼️ Saved sample_247.png | Dice: 0.9004 | SSIM: 0.8169\n",
      "🖼️ Saved sample_248.png | Dice: 0.9199 | SSIM: 0.8216\n",
      "🖼️ Saved sample_249.png | Dice: 0.9390 | SSIM: 0.8128\n",
      "🖼️ Saved sample_250.png | Dice: 0.9321 | SSIM: 0.8072\n",
      "🖼️ Saved sample_251.png | Dice: 0.9229 | SSIM: 0.8159\n",
      "🖼️ Saved sample_252.png | Dice: 0.9316 | SSIM: 0.8078\n",
      "🖼️ Saved sample_253.png | Dice: 0.9302 | SSIM: 0.8077\n",
      "🖼️ Saved sample_254.png | Dice: 0.9268 | SSIM: 0.8062\n",
      "🖼️ Saved sample_255.png | Dice: 0.9268 | SSIM: 0.8062\n",
      "🖼️ Saved sample_256.png | Dice: 0.9111 | SSIM: 0.8175\n",
      "🖼️ Saved sample_257.png | Dice: 0.9106 | SSIM: 0.8119\n",
      "🖼️ Saved sample_258.png | Dice: 0.9102 | SSIM: 0.8087\n",
      "🖼️ Saved sample_259.png | Dice: 0.9082 | SSIM: 0.8111\n",
      "🖼️ Saved sample_260.png | Dice: 0.9517 | SSIM: 0.8459\n",
      "🖼️ Saved sample_261.png | Dice: 0.9624 | SSIM: 0.8438\n",
      "🖼️ Saved sample_262.png | Dice: 0.9658 | SSIM: 0.8371\n",
      "🖼️ Saved sample_263.png | Dice: 0.9478 | SSIM: 0.8349\n",
      "🖼️ Saved sample_264.png | Dice: 0.9360 | SSIM: 0.8298\n",
      "🖼️ Saved sample_265.png | Dice: 0.9219 | SSIM: 0.8287\n",
      "🖼️ Saved sample_266.png | Dice: 0.9243 | SSIM: 0.8383\n",
      "🖼️ Saved sample_267.png | Dice: 0.9150 | SSIM: 0.8433\n",
      "🖼️ Saved sample_268.png | Dice: 0.9194 | SSIM: 0.8516\n",
      "🖼️ Saved sample_269.png | Dice: 0.9302 | SSIM: 0.8496\n",
      "🖼️ Saved sample_270.png | Dice: 0.9419 | SSIM: 0.8583\n",
      "🖼️ Saved sample_271.png | Dice: 0.9536 | SSIM: 0.8574\n",
      "🖼️ Saved sample_272.png | Dice: 0.9619 | SSIM: 0.8474\n",
      "🖼️ Saved sample_273.png | Dice: 0.9668 | SSIM: 0.8417\n",
      "🖼️ Saved sample_274.png | Dice: 0.9600 | SSIM: 0.8474\n",
      "🖼️ Saved sample_275.png | Dice: 0.9624 | SSIM: 0.8528\n",
      "🖼️ Saved sample_276.png | Dice: 0.9521 | SSIM: 0.8583\n",
      "🖼️ Saved sample_277.png | Dice: 0.9492 | SSIM: 0.8572\n",
      "🖼️ Saved sample_278.png | Dice: 0.9492 | SSIM: 0.8605\n",
      "🖼️ Saved sample_279.png | Dice: 0.9556 | SSIM: 0.8541\n",
      "🖼️ Saved sample_280.png | Dice: 0.9492 | SSIM: 0.8553\n",
      "🖼️ Saved sample_281.png | Dice: 0.9512 | SSIM: 0.8523\n",
      "🖼️ Saved sample_282.png | Dice: 0.9438 | SSIM: 0.8564\n",
      "🖼️ Saved sample_283.png | Dice: 0.9204 | SSIM: 0.8445\n",
      "🖼️ Saved sample_284.png | Dice: 0.9082 | SSIM: 0.8378\n",
      "🖼️ Saved sample_285.png | Dice: 0.9170 | SSIM: 0.8299\n",
      "🖼️ Saved sample_286.png | Dice: 0.9048 | SSIM: 0.8290\n",
      "🖼️ Saved sample_287.png | Dice: 0.9092 | SSIM: 0.8353\n",
      "🖼️ Saved sample_288.png | Dice: 0.9219 | SSIM: 0.8445\n",
      "🖼️ Saved sample_289.png | Dice: 0.8916 | SSIM: 0.8417\n",
      "🖼️ Saved sample_290.png | Dice: 0.8794 | SSIM: 0.8324\n",
      "🖼️ Saved sample_291.png | Dice: 0.9189 | SSIM: 0.8416\n",
      "🖼️ Saved sample_292.png | Dice: 0.9224 | SSIM: 0.8465\n",
      "🖼️ Saved sample_293.png | Dice: 0.9346 | SSIM: 0.8542\n",
      "🖼️ Saved sample_294.png | Dice: 0.9434 | SSIM: 0.8585\n",
      "🖼️ Saved sample_295.png | Dice: 0.9541 | SSIM: 0.8600\n",
      "🖼️ Saved sample_296.png | Dice: 0.9551 | SSIM: 0.8642\n"
     ]
    },
    {
     "name": "stdout",
     "output_type": "stream",
     "text": [
      "🖼️ Saved sample_297.png | Dice: 0.9458 | SSIM: 0.8630\n",
      "🖼️ Saved sample_298.png | Dice: 0.9424 | SSIM: 0.8629\n",
      "🖼️ Saved sample_299.png | Dice: 0.9507 | SSIM: 0.8576\n",
      "🖼️ Saved sample_300.png | Dice: 0.8169 | SSIM: 0.5057\n",
      "🖼️ Saved sample_301.png | Dice: 0.7930 | SSIM: 0.4857\n",
      "🖼️ Saved sample_302.png | Dice: 0.8188 | SSIM: 0.4812\n",
      "🖼️ Saved sample_303.png | Dice: 0.7749 | SSIM: 0.4781\n",
      "🖼️ Saved sample_304.png | Dice: 0.7505 | SSIM: 0.4536\n",
      "🖼️ Saved sample_305.png | Dice: 0.7520 | SSIM: 0.4305\n",
      "🖼️ Saved sample_306.png | Dice: 0.7314 | SSIM: 0.4393\n",
      "🖼️ Saved sample_307.png | Dice: 0.6631 | SSIM: 0.4123\n",
      "🖼️ Saved sample_308.png | Dice: 0.6436 | SSIM: 0.4402\n",
      "🖼️ Saved sample_309.png | Dice: 0.7617 | SSIM: 0.4715\n",
      "🖼️ Saved sample_310.png | Dice: 0.8340 | SSIM: 0.4707\n",
      "🖼️ Saved sample_311.png | Dice: 0.8364 | SSIM: 0.4830\n",
      "🖼️ Saved sample_312.png | Dice: 0.8311 | SSIM: 0.4681\n",
      "🖼️ Saved sample_313.png | Dice: 0.8291 | SSIM: 0.4443\n",
      "🖼️ Saved sample_314.png | Dice: 0.8633 | SSIM: 0.4728\n",
      "🖼️ Saved sample_315.png | Dice: 0.8291 | SSIM: 0.4831\n",
      "🖼️ Saved sample_316.png | Dice: 0.8535 | SSIM: 0.4852\n",
      "🖼️ Saved sample_317.png | Dice: 0.8364 | SSIM: 0.4933\n",
      "🖼️ Saved sample_318.png | Dice: 0.8555 | SSIM: 0.4807\n",
      "🖼️ Saved sample_319.png | Dice: 0.8716 | SSIM: 0.4927\n",
      "🖼️ Saved sample_320.png | Dice: 0.8335 | SSIM: 0.5214\n",
      "🖼️ Saved sample_321.png | Dice: 0.8413 | SSIM: 0.5531\n",
      "🖼️ Saved sample_322.png | Dice: 0.8550 | SSIM: 0.5803\n",
      "🖼️ Saved sample_323.png | Dice: 0.8657 | SSIM: 0.6028\n",
      "🖼️ Saved sample_324.png | Dice: 0.8379 | SSIM: 0.6009\n",
      "🖼️ Saved sample_325.png | Dice: 0.7896 | SSIM: 0.5883\n",
      "🖼️ Saved sample_326.png | Dice: 0.8413 | SSIM: 0.5991\n",
      "🖼️ Saved sample_327.png | Dice: 0.8101 | SSIM: 0.6000\n",
      "🖼️ Saved sample_328.png | Dice: 0.8306 | SSIM: 0.6103\n",
      "🖼️ Saved sample_329.png | Dice: 0.8252 | SSIM: 0.5893\n",
      "🖼️ Saved sample_330.png | Dice: 0.7427 | SSIM: 0.5603\n",
      "🖼️ Saved sample_331.png | Dice: 0.7700 | SSIM: 0.5598\n",
      "🖼️ Saved sample_332.png | Dice: 0.8184 | SSIM: 0.5474\n",
      "🖼️ Saved sample_333.png | Dice: 0.8164 | SSIM: 0.5478\n",
      "🖼️ Saved sample_334.png | Dice: 0.8232 | SSIM: 0.5548\n",
      "🖼️ Saved sample_335.png | Dice: 0.8594 | SSIM: 0.5742\n",
      "🖼️ Saved sample_336.png | Dice: 0.8989 | SSIM: 0.5596\n",
      "🖼️ Saved sample_337.png | Dice: 0.8770 | SSIM: 0.5714\n",
      "🖼️ Saved sample_338.png | Dice: 0.8721 | SSIM: 0.5579\n",
      "🖼️ Saved sample_339.png | Dice: 0.8081 | SSIM: 0.5160\n",
      "🖼️ Saved sample_340.png | Dice: 0.8145 | SSIM: 0.6801\n",
      "🖼️ Saved sample_341.png | Dice: 0.7593 | SSIM: 0.6556\n",
      "🖼️ Saved sample_342.png | Dice: 0.7847 | SSIM: 0.6735\n",
      "🖼️ Saved sample_343.png | Dice: 0.7983 | SSIM: 0.7013\n",
      "🖼️ Saved sample_344.png | Dice: 0.8701 | SSIM: 0.7211\n",
      "🖼️ Saved sample_345.png | Dice: 0.9038 | SSIM: 0.7159\n",
      "🖼️ Saved sample_346.png | Dice: 0.8628 | SSIM: 0.7141\n",
      "🖼️ Saved sample_347.png | Dice: 0.8740 | SSIM: 0.7170\n",
      "🖼️ Saved sample_348.png | Dice: 0.8628 | SSIM: 0.7457\n",
      "🖼️ Saved sample_349.png | Dice: 0.8516 | SSIM: 0.7327\n",
      "🖼️ Saved sample_350.png | Dice: 0.9341 | SSIM: 0.7267\n",
      "🖼️ Saved sample_351.png | Dice: 0.9180 | SSIM: 0.7027\n",
      "🖼️ Saved sample_352.png | Dice: 0.8462 | SSIM: 0.6799\n",
      "🖼️ Saved sample_353.png | Dice: 0.8066 | SSIM: 0.6600\n",
      "🖼️ Saved sample_354.png | Dice: 0.8442 | SSIM: 0.6924\n",
      "🖼️ Saved sample_355.png | Dice: 0.8398 | SSIM: 0.6939\n",
      "🖼️ Saved sample_356.png | Dice: 0.8252 | SSIM: 0.6895\n",
      "🖼️ Saved sample_357.png | Dice: 0.9058 | SSIM: 0.7074\n",
      "🖼️ Saved sample_358.png | Dice: 0.8628 | SSIM: 0.6828\n",
      "🖼️ Saved sample_359.png | Dice: 0.8140 | SSIM: 0.6658\n",
      "🖼️ Saved sample_360.png | Dice: 0.8213 | SSIM: 0.5790\n",
      "🖼️ Saved sample_361.png | Dice: 0.7871 | SSIM: 0.5832\n",
      "🖼️ Saved sample_362.png | Dice: 0.7886 | SSIM: 0.5998\n",
      "🖼️ Saved sample_363.png | Dice: 0.8564 | SSIM: 0.6027\n",
      "🖼️ Saved sample_364.png | Dice: 0.8579 | SSIM: 0.6148\n",
      "🖼️ Saved sample_365.png | Dice: 0.8438 | SSIM: 0.6079\n",
      "🖼️ Saved sample_366.png | Dice: 0.8174 | SSIM: 0.6161\n",
      "🖼️ Saved sample_367.png | Dice: 0.8789 | SSIM: 0.6277\n",
      "🖼️ Saved sample_368.png | Dice: 0.8945 | SSIM: 0.6199\n",
      "🖼️ Saved sample_369.png | Dice: 0.8882 | SSIM: 0.6255\n",
      "🖼️ Saved sample_370.png | Dice: 0.8345 | SSIM: 0.6280\n",
      "🖼️ Saved sample_371.png | Dice: 0.8833 | SSIM: 0.6241\n",
      "🖼️ Saved sample_372.png | Dice: 0.8940 | SSIM: 0.6183\n",
      "🖼️ Saved sample_373.png | Dice: 0.8677 | SSIM: 0.6007\n",
      "🖼️ Saved sample_374.png | Dice: 0.8770 | SSIM: 0.5937\n",
      "🖼️ Saved sample_375.png | Dice: 0.8667 | SSIM: 0.6081\n",
      "🖼️ Saved sample_376.png | Dice: 0.8120 | SSIM: 0.6056\n",
      "🖼️ Saved sample_377.png | Dice: 0.7871 | SSIM: 0.6114\n",
      "🖼️ Saved sample_378.png | Dice: 0.8936 | SSIM: 0.6034\n",
      "🖼️ Saved sample_379.png | Dice: 0.8315 | SSIM: 0.5691\n",
      "🖼️ Saved sample_380.png | Dice: 0.8711 | SSIM: 0.5140\n",
      "🖼️ Saved sample_381.png | Dice: 0.8647 | SSIM: 0.5220\n",
      "🖼️ Saved sample_382.png | Dice: 0.9082 | SSIM: 0.5290\n",
      "🖼️ Saved sample_383.png | Dice: 0.9150 | SSIM: 0.5323\n",
      "🖼️ Saved sample_384.png | Dice: 0.8716 | SSIM: 0.5509\n",
      "🖼️ Saved sample_385.png | Dice: 0.8521 | SSIM: 0.5387\n",
      "🖼️ Saved sample_386.png | Dice: 0.8257 | SSIM: 0.5493\n",
      "🖼️ Saved sample_387.png | Dice: 0.8613 | SSIM: 0.5511\n",
      "🖼️ Saved sample_388.png | Dice: 0.8599 | SSIM: 0.5266\n",
      "🖼️ Saved sample_389.png | Dice: 0.8770 | SSIM: 0.5287\n",
      "🖼️ Saved sample_390.png | Dice: 0.7842 | SSIM: 0.5727\n",
      "🖼️ Saved sample_391.png | Dice: 0.7827 | SSIM: 0.5633\n",
      "🖼️ Saved sample_392.png | Dice: 0.8320 | SSIM: 0.5546\n",
      "🖼️ Saved sample_393.png | Dice: 0.8379 | SSIM: 0.5415\n",
      "🖼️ Saved sample_394.png | Dice: 0.8569 | SSIM: 0.5427\n",
      "🖼️ Saved sample_395.png | Dice: 0.8638 | SSIM: 0.5360\n",
      "🖼️ Saved sample_396.png | Dice: 0.8569 | SSIM: 0.5549\n",
      "🖼️ Saved sample_397.png | Dice: 0.8491 | SSIM: 0.5433\n",
      "🖼️ Saved sample_398.png | Dice: 0.9146 | SSIM: 0.5418\n",
      "🖼️ Saved sample_399.png | Dice: 0.8877 | SSIM: 0.5049\n",
      "🖼️ Saved sample_400.png | Dice: 0.7856 | SSIM: 0.5963\n",
      "🖼️ Saved sample_401.png | Dice: 0.7300 | SSIM: 0.5798\n",
      "🖼️ Saved sample_402.png | Dice: 0.7769 | SSIM: 0.5793\n",
      "🖼️ Saved sample_403.png | Dice: 0.6484 | SSIM: 0.5750\n",
      "🖼️ Saved sample_404.png | Dice: 0.5996 | SSIM: 0.5614\n",
      "🖼️ Saved sample_405.png | Dice: 0.6211 | SSIM: 0.5601\n",
      "🖼️ Saved sample_406.png | Dice: 0.6543 | SSIM: 0.5661\n",
      "🖼️ Saved sample_407.png | Dice: 0.6553 | SSIM: 0.5837\n",
      "🖼️ Saved sample_408.png | Dice: 0.6592 | SSIM: 0.5899\n",
      "🖼️ Saved sample_409.png | Dice: 0.6782 | SSIM: 0.5866\n",
      "🖼️ Saved sample_410.png | Dice: 0.7573 | SSIM: 0.5885\n",
      "🖼️ Saved sample_411.png | Dice: 0.6729 | SSIM: 0.5859\n",
      "🖼️ Saved sample_412.png | Dice: 0.6113 | SSIM: 0.5692\n",
      "🖼️ Saved sample_413.png | Dice: 0.5938 | SSIM: 0.5557\n",
      "🖼️ Saved sample_414.png | Dice: 0.5957 | SSIM: 0.5617\n",
      "🖼️ Saved sample_415.png | Dice: 0.6216 | SSIM: 0.5750\n",
      "🖼️ Saved sample_416.png | Dice: 0.6641 | SSIM: 0.6049\n",
      "🖼️ Saved sample_417.png | Dice: 0.6973 | SSIM: 0.6119\n",
      "🖼️ Saved sample_418.png | Dice: 0.7368 | SSIM: 0.6088\n",
      "🖼️ Saved sample_419.png | Dice: 0.7710 | SSIM: 0.6107\n",
      "🖼️ Saved sample_420.png | Dice: 0.8213 | SSIM: 0.5457\n",
      "🖼️ Saved sample_421.png | Dice: 0.8052 | SSIM: 0.5272\n",
      "🖼️ Saved sample_422.png | Dice: 0.7710 | SSIM: 0.5243\n",
      "🖼️ Saved sample_423.png | Dice: 0.7422 | SSIM: 0.5285\n",
      "🖼️ Saved sample_424.png | Dice: 0.6968 | SSIM: 0.5151\n",
      "🖼️ Saved sample_425.png | Dice: 0.7104 | SSIM: 0.5180\n",
      "🖼️ Saved sample_426.png | Dice: 0.7349 | SSIM: 0.5126\n",
      "🖼️ Saved sample_427.png | Dice: 0.6694 | SSIM: 0.5231\n",
      "🖼️ Saved sample_428.png | Dice: 0.6768 | SSIM: 0.5251\n",
      "🖼️ Saved sample_429.png | Dice: 0.6284 | SSIM: 0.5225\n",
      "🖼️ Saved sample_430.png | Dice: 0.7095 | SSIM: 0.5224\n",
      "🖼️ Saved sample_431.png | Dice: 0.8101 | SSIM: 0.5362\n",
      "🖼️ Saved sample_432.png | Dice: 0.7661 | SSIM: 0.5598\n",
      "🖼️ Saved sample_433.png | Dice: 0.7710 | SSIM: 0.5500\n",
      "🖼️ Saved sample_434.png | Dice: 0.7705 | SSIM: 0.5516\n",
      "🖼️ Saved sample_435.png | Dice: 0.7588 | SSIM: 0.5467\n",
      "🖼️ Saved sample_436.png | Dice: 0.7437 | SSIM: 0.5420\n",
      "🖼️ Saved sample_437.png | Dice: 0.7417 | SSIM: 0.5437\n",
      "🖼️ Saved sample_438.png | Dice: 0.7832 | SSIM: 0.5437\n",
      "🖼️ Saved sample_439.png | Dice: 0.8042 | SSIM: 0.5453\n",
      "🖼️ Saved sample_440.png | Dice: 0.8174 | SSIM: 0.6142\n",
      "🖼️ Saved sample_441.png | Dice: 0.7832 | SSIM: 0.5912\n",
      "🖼️ Saved sample_442.png | Dice: 0.7729 | SSIM: 0.5801\n",
      "🖼️ Saved sample_443.png | Dice: 0.7617 | SSIM: 0.5719\n",
      "🖼️ Saved sample_444.png | Dice: 0.7676 | SSIM: 0.5770\n",
      "🖼️ Saved sample_445.png | Dice: 0.8223 | SSIM: 0.5900\n"
     ]
    },
    {
     "name": "stdout",
     "output_type": "stream",
     "text": [
      "🖼️ Saved sample_446.png | Dice: 0.8384 | SSIM: 0.5819\n",
      "🖼️ Saved sample_447.png | Dice: 0.8481 | SSIM: 0.5802\n",
      "🖼️ Saved sample_448.png | Dice: 0.8408 | SSIM: 0.5756\n",
      "🖼️ Saved sample_449.png | Dice: 0.7705 | SSIM: 0.5752\n",
      "🖼️ Saved sample_450.png | Dice: 0.7109 | SSIM: 0.5870\n",
      "🖼️ Saved sample_451.png | Dice: 0.7666 | SSIM: 0.5916\n",
      "🖼️ Saved sample_452.png | Dice: 0.8013 | SSIM: 0.5880\n",
      "🖼️ Saved sample_453.png | Dice: 0.7729 | SSIM: 0.5832\n",
      "🖼️ Saved sample_454.png | Dice: 0.7710 | SSIM: 0.5918\n",
      "🖼️ Saved sample_455.png | Dice: 0.7852 | SSIM: 0.6034\n",
      "🖼️ Saved sample_456.png | Dice: 0.8022 | SSIM: 0.5935\n",
      "🖼️ Saved sample_457.png | Dice: 0.8013 | SSIM: 0.5927\n",
      "🖼️ Saved sample_458.png | Dice: 0.8164 | SSIM: 0.5939\n",
      "🖼️ Saved sample_459.png | Dice: 0.8364 | SSIM: 0.6095\n",
      "🖼️ Saved sample_460.png | Dice: 0.7710 | SSIM: 0.6221\n",
      "🖼️ Saved sample_461.png | Dice: 0.7295 | SSIM: 0.6188\n",
      "🖼️ Saved sample_462.png | Dice: 0.7212 | SSIM: 0.6167\n",
      "🖼️ Saved sample_463.png | Dice: 0.7397 | SSIM: 0.6168\n",
      "🖼️ Saved sample_464.png | Dice: 0.7666 | SSIM: 0.6134\n",
      "🖼️ Saved sample_465.png | Dice: 0.7847 | SSIM: 0.6099\n",
      "🖼️ Saved sample_466.png | Dice: 0.8242 | SSIM: 0.6141\n",
      "🖼️ Saved sample_467.png | Dice: 0.7798 | SSIM: 0.6172\n",
      "🖼️ Saved sample_468.png | Dice: 0.7466 | SSIM: 0.6054\n",
      "🖼️ Saved sample_469.png | Dice: 0.6592 | SSIM: 0.5872\n",
      "🖼️ Saved sample_470.png | Dice: 0.6543 | SSIM: 0.5931\n",
      "🖼️ Saved sample_471.png | Dice: 0.7607 | SSIM: 0.6076\n",
      "🖼️ Saved sample_472.png | Dice: 0.8032 | SSIM: 0.6117\n",
      "🖼️ Saved sample_473.png | Dice: 0.7637 | SSIM: 0.6043\n",
      "🖼️ Saved sample_474.png | Dice: 0.7607 | SSIM: 0.6065\n",
      "🖼️ Saved sample_475.png | Dice: 0.7334 | SSIM: 0.6073\n",
      "🖼️ Saved sample_476.png | Dice: 0.7236 | SSIM: 0.5947\n",
      "🖼️ Saved sample_477.png | Dice: 0.7368 | SSIM: 0.5996\n",
      "🖼️ Saved sample_478.png | Dice: 0.7510 | SSIM: 0.6062\n",
      "🖼️ Saved sample_479.png | Dice: 0.7686 | SSIM: 0.6130\n",
      "🖼️ Saved sample_480.png | Dice: 0.7495 | SSIM: 0.6784\n",
      "🖼️ Saved sample_481.png | Dice: 0.7178 | SSIM: 0.6652\n",
      "🖼️ Saved sample_482.png | Dice: 0.6934 | SSIM: 0.6642\n",
      "🖼️ Saved sample_483.png | Dice: 0.6504 | SSIM: 0.6577\n",
      "🖼️ Saved sample_484.png | Dice: 0.6704 | SSIM: 0.6559\n",
      "🖼️ Saved sample_485.png | Dice: 0.6528 | SSIM: 0.6540\n",
      "🖼️ Saved sample_486.png | Dice: 0.6479 | SSIM: 0.6533\n",
      "🖼️ Saved sample_487.png | Dice: 0.6494 | SSIM: 0.6481\n",
      "🖼️ Saved sample_488.png | Dice: 0.6709 | SSIM: 0.6451\n",
      "🖼️ Saved sample_489.png | Dice: 0.6689 | SSIM: 0.6471\n",
      "🖼️ Saved sample_490.png | Dice: 0.6738 | SSIM: 0.6439\n",
      "🖼️ Saved sample_491.png | Dice: 0.7817 | SSIM: 0.6562\n",
      "🖼️ Saved sample_492.png | Dice: 0.7969 | SSIM: 0.6636\n",
      "🖼️ Saved sample_493.png | Dice: 0.7417 | SSIM: 0.6620\n",
      "🖼️ Saved sample_494.png | Dice: 0.7295 | SSIM: 0.6617\n",
      "🖼️ Saved sample_495.png | Dice: 0.7119 | SSIM: 0.6564\n",
      "🖼️ Saved sample_496.png | Dice: 0.6987 | SSIM: 0.6605\n",
      "🖼️ Saved sample_497.png | Dice: 0.7085 | SSIM: 0.6567\n",
      "🖼️ Saved sample_498.png | Dice: 0.7349 | SSIM: 0.6750\n",
      "🖼️ Saved sample_499.png | Dice: 0.7559 | SSIM: 0.6753\n",
      "🖼️ Saved sample_500.png | Dice: 0.8701 | SSIM: 0.8058\n",
      "🖼️ Saved sample_501.png | Dice: 0.9019 | SSIM: 0.8104\n",
      "🖼️ Saved sample_502.png | Dice: 0.8857 | SSIM: 0.7755\n",
      "🖼️ Saved sample_503.png | Dice: 0.8232 | SSIM: 0.7571\n",
      "🖼️ Saved sample_504.png | Dice: 0.8389 | SSIM: 0.7543\n",
      "🖼️ Saved sample_505.png | Dice: 0.8462 | SSIM: 0.7639\n",
      "🖼️ Saved sample_506.png | Dice: 0.8037 | SSIM: 0.7673\n",
      "🖼️ Saved sample_507.png | Dice: 0.7510 | SSIM: 0.7754\n",
      "🖼️ Saved sample_508.png | Dice: 0.7476 | SSIM: 0.7830\n",
      "🖼️ Saved sample_509.png | Dice: 0.8086 | SSIM: 0.7851\n",
      "🖼️ Saved sample_510.png | Dice: 0.7930 | SSIM: 0.7852\n",
      "🖼️ Saved sample_511.png | Dice: 0.8145 | SSIM: 0.7778\n",
      "🖼️ Saved sample_512.png | Dice: 0.8193 | SSIM: 0.7817\n",
      "🖼️ Saved sample_513.png | Dice: 0.8472 | SSIM: 0.7900\n",
      "🖼️ Saved sample_514.png | Dice: 0.8613 | SSIM: 0.7925\n",
      "🖼️ Saved sample_515.png | Dice: 0.8477 | SSIM: 0.7936\n",
      "🖼️ Saved sample_516.png | Dice: 0.8628 | SSIM: 0.7934\n",
      "🖼️ Saved sample_517.png | Dice: 0.8589 | SSIM: 0.7990\n",
      "🖼️ Saved sample_518.png | Dice: 0.8745 | SSIM: 0.8096\n",
      "🖼️ Saved sample_519.png | Dice: 0.8779 | SSIM: 0.8114\n",
      "🖼️ Saved sample_520.png | Dice: 0.8823 | SSIM: 0.7860\n",
      "🖼️ Saved sample_521.png | Dice: 0.8823 | SSIM: 0.7877\n",
      "🖼️ Saved sample_522.png | Dice: 0.8687 | SSIM: 0.7597\n",
      "🖼️ Saved sample_523.png | Dice: 0.8799 | SSIM: 0.7476\n",
      "🖼️ Saved sample_524.png | Dice: 0.8975 | SSIM: 0.7528\n",
      "🖼️ Saved sample_525.png | Dice: 0.8921 | SSIM: 0.7539\n",
      "🖼️ Saved sample_526.png | Dice: 0.8682 | SSIM: 0.7474\n",
      "🖼️ Saved sample_527.png | Dice: 0.8193 | SSIM: 0.7390\n",
      "🖼️ Saved sample_528.png | Dice: 0.8188 | SSIM: 0.7496\n",
      "🖼️ Saved sample_529.png | Dice: 0.9004 | SSIM: 0.7678\n",
      "🖼️ Saved sample_530.png | Dice: 0.8867 | SSIM: 0.7767\n",
      "🖼️ Saved sample_531.png | Dice: 0.8950 | SSIM: 0.7796\n",
      "🖼️ Saved sample_532.png | Dice: 0.8877 | SSIM: 0.7750\n",
      "🖼️ Saved sample_533.png | Dice: 0.8862 | SSIM: 0.7695\n",
      "🖼️ Saved sample_534.png | Dice: 0.9019 | SSIM: 0.7672\n",
      "🖼️ Saved sample_535.png | Dice: 0.9087 | SSIM: 0.7714\n",
      "🖼️ Saved sample_536.png | Dice: 0.8940 | SSIM: 0.7698\n",
      "🖼️ Saved sample_537.png | Dice: 0.9067 | SSIM: 0.7760\n",
      "🖼️ Saved sample_538.png | Dice: 0.8994 | SSIM: 0.7954\n",
      "🖼️ Saved sample_539.png | Dice: 0.8828 | SSIM: 0.7907\n",
      "🖼️ Saved sample_540.png | Dice: 0.9297 | SSIM: 0.7866\n",
      "🖼️ Saved sample_541.png | Dice: 0.9321 | SSIM: 0.7837\n",
      "🖼️ Saved sample_542.png | Dice: 0.9380 | SSIM: 0.7665\n",
      "🖼️ Saved sample_543.png | Dice: 0.9038 | SSIM: 0.7489\n",
      "🖼️ Saved sample_544.png | Dice: 0.8662 | SSIM: 0.7290\n",
      "🖼️ Saved sample_545.png | Dice: 0.8477 | SSIM: 0.7244\n",
      "🖼️ Saved sample_546.png | Dice: 0.8335 | SSIM: 0.7172\n",
      "🖼️ Saved sample_547.png | Dice: 0.8389 | SSIM: 0.7283\n",
      "🖼️ Saved sample_548.png | Dice: 0.8721 | SSIM: 0.7496\n",
      "🖼️ Saved sample_549.png | Dice: 0.9258 | SSIM: 0.7535\n",
      "🖼️ Saved sample_550.png | Dice: 0.9355 | SSIM: 0.7694\n",
      "🖼️ Saved sample_551.png | Dice: 0.9336 | SSIM: 0.7717\n",
      "🖼️ Saved sample_552.png | Dice: 0.9282 | SSIM: 0.7665\n",
      "🖼️ Saved sample_553.png | Dice: 0.9316 | SSIM: 0.7730\n",
      "🖼️ Saved sample_554.png | Dice: 0.9507 | SSIM: 0.7775\n",
      "🖼️ Saved sample_555.png | Dice: 0.9624 | SSIM: 0.7846\n",
      "🖼️ Saved sample_556.png | Dice: 0.9678 | SSIM: 0.7835\n",
      "🖼️ Saved sample_557.png | Dice: 0.9580 | SSIM: 0.7848\n",
      "🖼️ Saved sample_558.png | Dice: 0.9346 | SSIM: 0.7871\n",
      "🖼️ Saved sample_559.png | Dice: 0.9136 | SSIM: 0.7830\n",
      "🖼️ Saved sample_560.png | Dice: 0.9165 | SSIM: 0.7208\n",
      "🖼️ Saved sample_561.png | Dice: 0.9185 | SSIM: 0.7155\n",
      "🖼️ Saved sample_562.png | Dice: 0.9463 | SSIM: 0.7204\n",
      "🖼️ Saved sample_563.png | Dice: 0.9448 | SSIM: 0.7117\n",
      "🖼️ Saved sample_564.png | Dice: 0.9238 | SSIM: 0.7081\n",
      "🖼️ Saved sample_565.png | Dice: 0.9019 | SSIM: 0.7063\n",
      "🖼️ Saved sample_566.png | Dice: 0.8872 | SSIM: 0.7000\n",
      "🖼️ Saved sample_567.png | Dice: 0.8691 | SSIM: 0.6938\n",
      "🖼️ Saved sample_568.png | Dice: 0.8477 | SSIM: 0.7025\n",
      "🖼️ Saved sample_569.png | Dice: 0.8936 | SSIM: 0.7069\n",
      "🖼️ Saved sample_570.png | Dice: 0.9238 | SSIM: 0.7010\n",
      "🖼️ Saved sample_571.png | Dice: 0.9185 | SSIM: 0.6945\n",
      "🖼️ Saved sample_572.png | Dice: 0.9092 | SSIM: 0.6888\n",
      "🖼️ Saved sample_573.png | Dice: 0.9048 | SSIM: 0.6976\n",
      "🖼️ Saved sample_574.png | Dice: 0.9072 | SSIM: 0.6982\n",
      "🖼️ Saved sample_575.png | Dice: 0.9028 | SSIM: 0.7024\n",
      "🖼️ Saved sample_576.png | Dice: 0.9116 | SSIM: 0.7015\n",
      "🖼️ Saved sample_577.png | Dice: 0.9263 | SSIM: 0.7001\n",
      "🖼️ Saved sample_578.png | Dice: 0.9331 | SSIM: 0.7029\n",
      "🖼️ Saved sample_579.png | Dice: 0.9209 | SSIM: 0.7062\n",
      "🖼️ Saved sample_580.png | Dice: 0.9229 | SSIM: 0.6473\n",
      "🖼️ Saved sample_581.png | Dice: 0.9194 | SSIM: 0.6330\n",
      "🖼️ Saved sample_582.png | Dice: 0.9282 | SSIM: 0.6212\n",
      "🖼️ Saved sample_583.png | Dice: 0.9268 | SSIM: 0.6183\n",
      "🖼️ Saved sample_584.png | Dice: 0.9194 | SSIM: 0.6243\n",
      "🖼️ Saved sample_585.png | Dice: 0.9146 | SSIM: 0.6257\n",
      "🖼️ Saved sample_586.png | Dice: 0.9048 | SSIM: 0.6272\n",
      "🖼️ Saved sample_587.png | Dice: 0.8984 | SSIM: 0.6206\n",
      "🖼️ Saved sample_588.png | Dice: 0.8872 | SSIM: 0.6314\n",
      "🖼️ Saved sample_589.png | Dice: 0.8984 | SSIM: 0.6387\n",
      "🖼️ Saved sample_590.png | Dice: 0.9326 | SSIM: 0.6344\n",
      "🖼️ Saved sample_591.png | Dice: 0.9277 | SSIM: 0.6276\n",
      "🖼️ Saved sample_592.png | Dice: 0.9331 | SSIM: 0.6192\n",
      "🖼️ Saved sample_593.png | Dice: 0.9448 | SSIM: 0.6129\n",
      "🖼️ Saved sample_594.png | Dice: 0.9463 | SSIM: 0.6214\n"
     ]
    },
    {
     "name": "stdout",
     "output_type": "stream",
     "text": [
      "🖼️ Saved sample_595.png | Dice: 0.9507 | SSIM: 0.6269\n",
      "🖼️ Saved sample_596.png | Dice: 0.9453 | SSIM: 0.6253\n",
      "🖼️ Saved sample_597.png | Dice: 0.9424 | SSIM: 0.6228\n",
      "🖼️ Saved sample_598.png | Dice: 0.9282 | SSIM: 0.6438\n",
      "🖼️ Saved sample_599.png | Dice: 0.9141 | SSIM: 0.6554\n",
      "🖼️ Saved sample_600.png | Dice: 0.9429 | SSIM: 0.8283\n",
      "🖼️ Saved sample_601.png | Dice: 0.9604 | SSIM: 0.8330\n",
      "🖼️ Saved sample_602.png | Dice: 0.9565 | SSIM: 0.8356\n",
      "🖼️ Saved sample_603.png | Dice: 0.9478 | SSIM: 0.8209\n",
      "🖼️ Saved sample_604.png | Dice: 0.9302 | SSIM: 0.8150\n",
      "🖼️ Saved sample_605.png | Dice: 0.9141 | SSIM: 0.8161\n",
      "🖼️ Saved sample_606.png | Dice: 0.9155 | SSIM: 0.8171\n",
      "🖼️ Saved sample_607.png | Dice: 0.9209 | SSIM: 0.8305\n",
      "🖼️ Saved sample_608.png | Dice: 0.9194 | SSIM: 0.8363\n",
      "🖼️ Saved sample_609.png | Dice: 0.9141 | SSIM: 0.8360\n",
      "🖼️ Saved sample_610.png | Dice: 0.9531 | SSIM: 0.8432\n",
      "🖼️ Saved sample_611.png | Dice: 0.9556 | SSIM: 0.8465\n",
      "🖼️ Saved sample_612.png | Dice: 0.9551 | SSIM: 0.8425\n",
      "🖼️ Saved sample_613.png | Dice: 0.9399 | SSIM: 0.8386\n",
      "🖼️ Saved sample_614.png | Dice: 0.9521 | SSIM: 0.8360\n",
      "🖼️ Saved sample_615.png | Dice: 0.9487 | SSIM: 0.8325\n",
      "🖼️ Saved sample_616.png | Dice: 0.9561 | SSIM: 0.8367\n",
      "🖼️ Saved sample_617.png | Dice: 0.9561 | SSIM: 0.8399\n",
      "🖼️ Saved sample_618.png | Dice: 0.9351 | SSIM: 0.8272\n",
      "🖼️ Saved sample_619.png | Dice: 0.9321 | SSIM: 0.8274\n",
      "🖼️ Saved sample_620.png | Dice: 0.9146 | SSIM: 0.8133\n",
      "🖼️ Saved sample_621.png | Dice: 0.9219 | SSIM: 0.8159\n",
      "🖼️ Saved sample_622.png | Dice: 0.9302 | SSIM: 0.8111\n",
      "🖼️ Saved sample_623.png | Dice: 0.9688 | SSIM: 0.8091\n",
      "🖼️ Saved sample_624.png | Dice: 0.9497 | SSIM: 0.7981\n",
      "🖼️ Saved sample_625.png | Dice: 0.9355 | SSIM: 0.7950\n",
      "🖼️ Saved sample_626.png | Dice: 0.9150 | SSIM: 0.7973\n",
      "🖼️ Saved sample_627.png | Dice: 0.9121 | SSIM: 0.8024\n",
      "🖼️ Saved sample_628.png | Dice: 0.9253 | SSIM: 0.8111\n",
      "🖼️ Saved sample_629.png | Dice: 0.8838 | SSIM: 0.8247\n",
      "🖼️ Saved sample_630.png | Dice: 0.8721 | SSIM: 0.8319\n",
      "🖼️ Saved sample_631.png | Dice: 0.9253 | SSIM: 0.8356\n",
      "🖼️ Saved sample_632.png | Dice: 0.9307 | SSIM: 0.8219\n",
      "🖼️ Saved sample_633.png | Dice: 0.9331 | SSIM: 0.8090\n",
      "🖼️ Saved sample_634.png | Dice: 0.9448 | SSIM: 0.8163\n",
      "🖼️ Saved sample_635.png | Dice: 0.9424 | SSIM: 0.8127\n",
      "🖼️ Saved sample_636.png | Dice: 0.9497 | SSIM: 0.8081\n",
      "🖼️ Saved sample_637.png | Dice: 0.9331 | SSIM: 0.8006\n",
      "🖼️ Saved sample_638.png | Dice: 0.8960 | SSIM: 0.7888\n",
      "🖼️ Saved sample_639.png | Dice: 0.9004 | SSIM: 0.7979\n",
      "🖼️ Saved sample_640.png | Dice: 0.9307 | SSIM: 0.8501\n",
      "🖼️ Saved sample_641.png | Dice: 0.9385 | SSIM: 0.8563\n",
      "🖼️ Saved sample_642.png | Dice: 0.9521 | SSIM: 0.8607\n",
      "🖼️ Saved sample_643.png | Dice: 0.9468 | SSIM: 0.8546\n",
      "🖼️ Saved sample_644.png | Dice: 0.9272 | SSIM: 0.8487\n",
      "🖼️ Saved sample_645.png | Dice: 0.9219 | SSIM: 0.8383\n",
      "🖼️ Saved sample_646.png | Dice: 0.9399 | SSIM: 0.8492\n",
      "🖼️ Saved sample_647.png | Dice: 0.9355 | SSIM: 0.8441\n",
      "🖼️ Saved sample_648.png | Dice: 0.9375 | SSIM: 0.8435\n",
      "🖼️ Saved sample_649.png | Dice: 0.9336 | SSIM: 0.8575\n",
      "🖼️ Saved sample_650.png | Dice: 0.9067 | SSIM: 0.8564\n",
      "🖼️ Saved sample_651.png | Dice: 0.8989 | SSIM: 0.8562\n",
      "🖼️ Saved sample_652.png | Dice: 0.9136 | SSIM: 0.8609\n",
      "🖼️ Saved sample_653.png | Dice: 0.9272 | SSIM: 0.8589\n",
      "🖼️ Saved sample_654.png | Dice: 0.9287 | SSIM: 0.8617\n",
      "🖼️ Saved sample_655.png | Dice: 0.9189 | SSIM: 0.8593\n",
      "🖼️ Saved sample_656.png | Dice: 0.9229 | SSIM: 0.8559\n",
      "🖼️ Saved sample_657.png | Dice: 0.9224 | SSIM: 0.8600\n",
      "🖼️ Saved sample_658.png | Dice: 0.8994 | SSIM: 0.8483\n",
      "🖼️ Saved sample_659.png | Dice: 0.9043 | SSIM: 0.8458\n",
      "🖼️ Saved sample_660.png | Dice: 0.9160 | SSIM: 0.8214\n",
      "🖼️ Saved sample_661.png | Dice: 0.9204 | SSIM: 0.8255\n",
      "🖼️ Saved sample_662.png | Dice: 0.9277 | SSIM: 0.8328\n",
      "🖼️ Saved sample_663.png | Dice: 0.9121 | SSIM: 0.8285\n",
      "🖼️ Saved sample_664.png | Dice: 0.9028 | SSIM: 0.8091\n",
      "🖼️ Saved sample_665.png | Dice: 0.9263 | SSIM: 0.8054\n",
      "🖼️ Saved sample_666.png | Dice: 0.9185 | SSIM: 0.8035\n",
      "🖼️ Saved sample_667.png | Dice: 0.9160 | SSIM: 0.7977\n",
      "🖼️ Saved sample_668.png | Dice: 0.8979 | SSIM: 0.8046\n",
      "🖼️ Saved sample_669.png | Dice: 0.8984 | SSIM: 0.8007\n",
      "🖼️ Saved sample_670.png | Dice: 0.8633 | SSIM: 0.7885\n",
      "🖼️ Saved sample_671.png | Dice: 0.8809 | SSIM: 0.7835\n",
      "🖼️ Saved sample_672.png | Dice: 0.8936 | SSIM: 0.7920\n",
      "🖼️ Saved sample_673.png | Dice: 0.9116 | SSIM: 0.7981\n",
      "🖼️ Saved sample_674.png | Dice: 0.9160 | SSIM: 0.7998\n",
      "🖼️ Saved sample_675.png | Dice: 0.9199 | SSIM: 0.8056\n",
      "🖼️ Saved sample_676.png | Dice: 0.9194 | SSIM: 0.8182\n",
      "🖼️ Saved sample_677.png | Dice: 0.9097 | SSIM: 0.8212\n",
      "🖼️ Saved sample_678.png | Dice: 0.9058 | SSIM: 0.8258\n",
      "🖼️ Saved sample_679.png | Dice: 0.8916 | SSIM: 0.8146\n",
      "🖼️ Saved sample_680.png | Dice: 0.9043 | SSIM: 0.7113\n",
      "🖼️ Saved sample_681.png | Dice: 0.9165 | SSIM: 0.7242\n",
      "🖼️ Saved sample_682.png | Dice: 0.8979 | SSIM: 0.7374\n",
      "🖼️ Saved sample_683.png | Dice: 0.8457 | SSIM: 0.7444\n",
      "🖼️ Saved sample_684.png | Dice: 0.9136 | SSIM: 0.7236\n",
      "🖼️ Saved sample_685.png | Dice: 0.9004 | SSIM: 0.7090\n",
      "🖼️ Saved sample_686.png | Dice: 0.8242 | SSIM: 0.7088\n",
      "🖼️ Saved sample_687.png | Dice: 0.8154 | SSIM: 0.7102\n",
      "🖼️ Saved sample_688.png | Dice: 0.7632 | SSIM: 0.7092\n",
      "🖼️ Saved sample_689.png | Dice: 0.8174 | SSIM: 0.7009\n",
      "🖼️ Saved sample_690.png | Dice: 0.8496 | SSIM: 0.6973\n",
      "🖼️ Saved sample_691.png | Dice: 0.8423 | SSIM: 0.7041\n",
      "🖼️ Saved sample_692.png | Dice: 0.8975 | SSIM: 0.7017\n",
      "🖼️ Saved sample_693.png | Dice: 0.8975 | SSIM: 0.7017\n",
      "🖼️ Saved sample_694.png | Dice: 0.8940 | SSIM: 0.7023\n",
      "🖼️ Saved sample_695.png | Dice: 0.8760 | SSIM: 0.7056\n",
      "🖼️ Saved sample_696.png | Dice: 0.8608 | SSIM: 0.7013\n",
      "🖼️ Saved sample_697.png | Dice: 0.8760 | SSIM: 0.7041\n",
      "🖼️ Saved sample_698.png | Dice: 0.8960 | SSIM: 0.6995\n",
      "🖼️ Saved sample_699.png | Dice: 0.8999 | SSIM: 0.7007\n",
      "🖼️ Saved sample_700.png | Dice: 0.8491 | SSIM: 0.7408\n",
      "🖼️ Saved sample_701.png | Dice: 0.8760 | SSIM: 0.7433\n",
      "🖼️ Saved sample_702.png | Dice: 0.8164 | SSIM: 0.7079\n",
      "🖼️ Saved sample_703.png | Dice: 0.8247 | SSIM: 0.6817\n",
      "🖼️ Saved sample_704.png | Dice: 0.8843 | SSIM: 0.6839\n",
      "🖼️ Saved sample_705.png | Dice: 0.8755 | SSIM: 0.7034\n",
      "🖼️ Saved sample_706.png | Dice: 0.8247 | SSIM: 0.7221\n",
      "🖼️ Saved sample_707.png | Dice: 0.7876 | SSIM: 0.7289\n",
      "🖼️ Saved sample_708.png | Dice: 0.8237 | SSIM: 0.7207\n",
      "🖼️ Saved sample_709.png | Dice: 0.8354 | SSIM: 0.7175\n",
      "🖼️ Saved sample_710.png | Dice: 0.8271 | SSIM: 0.7175\n",
      "🖼️ Saved sample_711.png | Dice: 0.8003 | SSIM: 0.7223\n",
      "🖼️ Saved sample_712.png | Dice: 0.7358 | SSIM: 0.7239\n",
      "🖼️ Saved sample_713.png | Dice: 0.7217 | SSIM: 0.7351\n",
      "🖼️ Saved sample_714.png | Dice: 0.7402 | SSIM: 0.7545\n",
      "🖼️ Saved sample_715.png | Dice: 0.7383 | SSIM: 0.7487\n",
      "🖼️ Saved sample_716.png | Dice: 0.7734 | SSIM: 0.7420\n",
      "🖼️ Saved sample_717.png | Dice: 0.8271 | SSIM: 0.7428\n",
      "🖼️ Saved sample_718.png | Dice: 0.8506 | SSIM: 0.7311\n",
      "🖼️ Saved sample_719.png | Dice: 0.8462 | SSIM: 0.7287\n",
      "🖼️ Saved sample_720.png | Dice: 0.9414 | SSIM: 0.7757\n",
      "🖼️ Saved sample_721.png | Dice: 0.9434 | SSIM: 0.7838\n",
      "🖼️ Saved sample_722.png | Dice: 0.9146 | SSIM: 0.7503\n",
      "🖼️ Saved sample_723.png | Dice: 0.8843 | SSIM: 0.7139\n",
      "🖼️ Saved sample_724.png | Dice: 0.9014 | SSIM: 0.7076\n",
      "🖼️ Saved sample_725.png | Dice: 0.8687 | SSIM: 0.7034\n",
      "🖼️ Saved sample_726.png | Dice: 0.7930 | SSIM: 0.7132\n",
      "🖼️ Saved sample_727.png | Dice: 0.7935 | SSIM: 0.7179\n",
      "🖼️ Saved sample_728.png | Dice: 0.7930 | SSIM: 0.7339\n",
      "🖼️ Saved sample_729.png | Dice: 0.7910 | SSIM: 0.7419\n",
      "🖼️ Saved sample_730.png | Dice: 0.6963 | SSIM: 0.7386\n",
      "🖼️ Saved sample_731.png | Dice: 0.7534 | SSIM: 0.7408\n",
      "🖼️ Saved sample_732.png | Dice: 0.8359 | SSIM: 0.7412\n",
      "🖼️ Saved sample_733.png | Dice: 0.8652 | SSIM: 0.7437\n",
      "🖼️ Saved sample_734.png | Dice: 0.9038 | SSIM: 0.7413\n",
      "🖼️ Saved sample_735.png | Dice: 0.9165 | SSIM: 0.7400\n",
      "🖼️ Saved sample_736.png | Dice: 0.9165 | SSIM: 0.7432\n",
      "🖼️ Saved sample_737.png | Dice: 0.9038 | SSIM: 0.7473\n",
      "🖼️ Saved sample_738.png | Dice: 0.9316 | SSIM: 0.7702\n",
      "🖼️ Saved sample_739.png | Dice: 0.9336 | SSIM: 0.7706\n",
      "🖼️ Saved sample_740.png | Dice: 0.9409 | SSIM: 0.8214\n",
      "🖼️ Saved sample_741.png | Dice: 0.9355 | SSIM: 0.7993\n",
      "🖼️ Saved sample_742.png | Dice: 0.9365 | SSIM: 0.7855\n",
      "🖼️ Saved sample_743.png | Dice: 0.9150 | SSIM: 0.7748\n"
     ]
    },
    {
     "name": "stdout",
     "output_type": "stream",
     "text": [
      "🖼️ Saved sample_744.png | Dice: 0.9155 | SSIM: 0.7721\n",
      "🖼️ Saved sample_745.png | Dice: 0.9194 | SSIM: 0.7680\n",
      "🖼️ Saved sample_746.png | Dice: 0.9106 | SSIM: 0.7402\n",
      "🖼️ Saved sample_747.png | Dice: 0.9146 | SSIM: 0.7627\n",
      "🖼️ Saved sample_748.png | Dice: 0.9141 | SSIM: 0.7761\n",
      "🖼️ Saved sample_749.png | Dice: 0.9102 | SSIM: 0.7944\n",
      "🖼️ Saved sample_750.png | Dice: 0.9209 | SSIM: 0.8151\n",
      "🖼️ Saved sample_751.png | Dice: 0.9268 | SSIM: 0.8149\n",
      "🖼️ Saved sample_752.png | Dice: 0.9341 | SSIM: 0.8149\n",
      "🖼️ Saved sample_753.png | Dice: 0.9258 | SSIM: 0.7992\n",
      "🖼️ Saved sample_754.png | Dice: 0.9409 | SSIM: 0.7864\n",
      "🖼️ Saved sample_755.png | Dice: 0.9395 | SSIM: 0.7730\n",
      "🖼️ Saved sample_756.png | Dice: 0.9478 | SSIM: 0.7670\n",
      "🖼️ Saved sample_757.png | Dice: 0.9521 | SSIM: 0.7822\n",
      "🖼️ Saved sample_758.png | Dice: 0.9424 | SSIM: 0.8069\n",
      "🖼️ Saved sample_759.png | Dice: 0.9517 | SSIM: 0.8260\n",
      "🖼️ Saved sample_760.png | Dice: 0.9531 | SSIM: 0.6850\n",
      "🖼️ Saved sample_761.png | Dice: 0.9639 | SSIM: 0.7018\n",
      "🖼️ Saved sample_762.png | Dice: 0.9624 | SSIM: 0.6745\n",
      "🖼️ Saved sample_763.png | Dice: 0.9189 | SSIM: 0.6829\n",
      "🖼️ Saved sample_764.png | Dice: 0.9307 | SSIM: 0.6952\n",
      "🖼️ Saved sample_765.png | Dice: 0.9141 | SSIM: 0.6928\n",
      "🖼️ Saved sample_766.png | Dice: 0.9087 | SSIM: 0.6965\n",
      "🖼️ Saved sample_767.png | Dice: 0.9097 | SSIM: 0.7318\n",
      "🖼️ Saved sample_768.png | Dice: 0.8994 | SSIM: 0.7455\n",
      "🖼️ Saved sample_769.png | Dice: 0.9106 | SSIM: 0.7469\n",
      "🖼️ Saved sample_770.png | Dice: 0.9067 | SSIM: 0.7357\n",
      "🖼️ Saved sample_771.png | Dice: 0.8999 | SSIM: 0.7082\n",
      "🖼️ Saved sample_772.png | Dice: 0.9106 | SSIM: 0.6891\n",
      "🖼️ Saved sample_773.png | Dice: 0.9150 | SSIM: 0.6824\n",
      "🖼️ Saved sample_774.png | Dice: 0.9531 | SSIM: 0.6795\n",
      "🖼️ Saved sample_775.png | Dice: 0.9380 | SSIM: 0.6685\n",
      "🖼️ Saved sample_776.png | Dice: 0.9272 | SSIM: 0.6584\n",
      "🖼️ Saved sample_777.png | Dice: 0.9238 | SSIM: 0.6810\n",
      "🖼️ Saved sample_778.png | Dice: 0.9399 | SSIM: 0.6872\n",
      "🖼️ Saved sample_779.png | Dice: 0.9419 | SSIM: 0.6841\n",
      "🖼️ Saved sample_780.png | Dice: 0.9180 | SSIM: 0.7337\n",
      "🖼️ Saved sample_781.png | Dice: 0.9497 | SSIM: 0.7189\n",
      "🖼️ Saved sample_782.png | Dice: 0.9517 | SSIM: 0.7345\n",
      "🖼️ Saved sample_783.png | Dice: 0.9673 | SSIM: 0.7392\n",
      "🖼️ Saved sample_784.png | Dice: 0.9497 | SSIM: 0.7451\n",
      "🖼️ Saved sample_785.png | Dice: 0.9429 | SSIM: 0.7362\n",
      "🖼️ Saved sample_786.png | Dice: 0.9380 | SSIM: 0.7278\n",
      "🖼️ Saved sample_787.png | Dice: 0.9355 | SSIM: 0.7553\n",
      "🖼️ Saved sample_788.png | Dice: 0.9546 | SSIM: 0.7756\n",
      "🖼️ Saved sample_789.png | Dice: 0.9561 | SSIM: 0.7590\n",
      "🖼️ Saved sample_790.png | Dice: 0.9473 | SSIM: 0.7288\n",
      "🖼️ Saved sample_791.png | Dice: 0.9277 | SSIM: 0.7364\n",
      "🖼️ Saved sample_792.png | Dice: 0.9351 | SSIM: 0.7600\n",
      "🖼️ Saved sample_793.png | Dice: 0.9365 | SSIM: 0.7461\n",
      "🖼️ Saved sample_794.png | Dice: 0.9487 | SSIM: 0.7197\n",
      "🖼️ Saved sample_795.png | Dice: 0.9526 | SSIM: 0.7130\n",
      "🖼️ Saved sample_796.png | Dice: 0.9556 | SSIM: 0.7524\n",
      "🖼️ Saved sample_797.png | Dice: 0.9512 | SSIM: 0.7626\n",
      "🖼️ Saved sample_798.png | Dice: 0.9424 | SSIM: 0.7359\n",
      "🖼️ Saved sample_799.png | Dice: 0.9209 | SSIM: 0.7305\n",
      "🖼️ Saved sample_800.png | Dice: 0.8779 | SSIM: 0.5175\n",
      "🖼️ Saved sample_801.png | Dice: 0.8667 | SSIM: 0.5298\n",
      "🖼️ Saved sample_802.png | Dice: 0.8784 | SSIM: 0.5392\n",
      "🖼️ Saved sample_803.png | Dice: 0.9136 | SSIM: 0.5525\n",
      "🖼️ Saved sample_804.png | Dice: 0.9429 | SSIM: 0.5554\n",
      "🖼️ Saved sample_805.png | Dice: 0.9556 | SSIM: 0.5514\n",
      "🖼️ Saved sample_806.png | Dice: 0.9150 | SSIM: 0.5567\n",
      "🖼️ Saved sample_807.png | Dice: 0.9067 | SSIM: 0.5660\n",
      "🖼️ Saved sample_808.png | Dice: 0.9028 | SSIM: 0.5553\n",
      "🖼️ Saved sample_809.png | Dice: 0.9307 | SSIM: 0.5553\n",
      "🖼️ Saved sample_810.png | Dice: 0.9438 | SSIM: 0.5544\n",
      "🖼️ Saved sample_811.png | Dice: 0.9526 | SSIM: 0.5543\n",
      "🖼️ Saved sample_812.png | Dice: 0.9424 | SSIM: 0.5331\n",
      "🖼️ Saved sample_813.png | Dice: 0.9194 | SSIM: 0.5378\n",
      "🖼️ Saved sample_814.png | Dice: 0.9365 | SSIM: 0.5486\n",
      "🖼️ Saved sample_815.png | Dice: 0.9443 | SSIM: 0.5594\n",
      "🖼️ Saved sample_816.png | Dice: 0.9517 | SSIM: 0.5660\n",
      "🖼️ Saved sample_817.png | Dice: 0.9512 | SSIM: 0.5741\n",
      "🖼️ Saved sample_818.png | Dice: 0.9526 | SSIM: 0.5739\n",
      "🖼️ Saved sample_819.png | Dice: 0.9194 | SSIM: 0.5442\n",
      "🖼️ Saved sample_820.png | Dice: 0.8916 | SSIM: 0.8083\n",
      "🖼️ Saved sample_821.png | Dice: 0.8691 | SSIM: 0.7709\n",
      "🖼️ Saved sample_822.png | Dice: 0.8721 | SSIM: 0.7242\n",
      "🖼️ Saved sample_823.png | Dice: 0.8916 | SSIM: 0.6914\n",
      "🖼️ Saved sample_824.png | Dice: 0.8838 | SSIM: 0.7054\n",
      "🖼️ Saved sample_825.png | Dice: 0.8857 | SSIM: 0.7290\n",
      "🖼️ Saved sample_826.png | Dice: 0.8477 | SSIM: 0.7418\n",
      "🖼️ Saved sample_827.png | Dice: 0.7671 | SSIM: 0.7597\n",
      "🖼️ Saved sample_828.png | Dice: 0.7734 | SSIM: 0.7683\n",
      "🖼️ Saved sample_829.png | Dice: 0.8564 | SSIM: 0.7446\n",
      "🖼️ Saved sample_830.png | Dice: 0.8911 | SSIM: 0.7260\n",
      "🖼️ Saved sample_831.png | Dice: 0.9131 | SSIM: 0.7319\n",
      "🖼️ Saved sample_832.png | Dice: 0.9395 | SSIM: 0.7577\n",
      "🖼️ Saved sample_833.png | Dice: 0.9351 | SSIM: 0.7580\n",
      "🖼️ Saved sample_834.png | Dice: 0.9331 | SSIM: 0.7488\n",
      "🖼️ Saved sample_835.png | Dice: 0.9414 | SSIM: 0.7601\n",
      "🖼️ Saved sample_836.png | Dice: 0.9429 | SSIM: 0.7665\n",
      "🖼️ Saved sample_837.png | Dice: 0.9131 | SSIM: 0.7689\n",
      "🖼️ Saved sample_838.png | Dice: 0.9365 | SSIM: 0.7824\n",
      "🖼️ Saved sample_839.png | Dice: 0.9307 | SSIM: 0.7876\n",
      "🖼️ Saved sample_840.png | Dice: 0.8887 | SSIM: 0.5794\n",
      "🖼️ Saved sample_841.png | Dice: 0.8389 | SSIM: 0.5554\n",
      "🖼️ Saved sample_842.png | Dice: 0.8965 | SSIM: 0.5579\n",
      "🖼️ Saved sample_843.png | Dice: 0.9331 | SSIM: 0.5454\n",
      "🖼️ Saved sample_844.png | Dice: 0.9175 | SSIM: 0.5330\n",
      "🖼️ Saved sample_845.png | Dice: 0.9453 | SSIM: 0.5174\n",
      "🖼️ Saved sample_846.png | Dice: 0.9023 | SSIM: 0.5463\n",
      "🖼️ Saved sample_847.png | Dice: 0.8281 | SSIM: 0.5799\n",
      "🖼️ Saved sample_848.png | Dice: 0.8120 | SSIM: 0.6050\n",
      "🖼️ Saved sample_849.png | Dice: 0.8657 | SSIM: 0.6178\n",
      "🖼️ Saved sample_850.png | Dice: 0.8921 | SSIM: 0.5997\n",
      "🖼️ Saved sample_851.png | Dice: 0.8979 | SSIM: 0.5914\n",
      "🖼️ Saved sample_852.png | Dice: 0.9116 | SSIM: 0.6066\n",
      "🖼️ Saved sample_853.png | Dice: 0.9351 | SSIM: 0.5990\n",
      "🖼️ Saved sample_854.png | Dice: 0.9331 | SSIM: 0.6002\n",
      "🖼️ Saved sample_855.png | Dice: 0.9336 | SSIM: 0.6144\n",
      "🖼️ Saved sample_856.png | Dice: 0.9268 | SSIM: 0.6136\n",
      "🖼️ Saved sample_857.png | Dice: 0.8950 | SSIM: 0.6106\n",
      "🖼️ Saved sample_858.png | Dice: 0.9141 | SSIM: 0.6205\n",
      "🖼️ Saved sample_859.png | Dice: 0.9209 | SSIM: 0.5995\n",
      "🖼️ Saved sample_860.png | Dice: 0.9097 | SSIM: 0.5875\n",
      "🖼️ Saved sample_861.png | Dice: 0.8828 | SSIM: 0.5941\n",
      "🖼️ Saved sample_862.png | Dice: 0.9331 | SSIM: 0.6048\n",
      "🖼️ Saved sample_863.png | Dice: 0.9565 | SSIM: 0.5940\n",
      "🖼️ Saved sample_864.png | Dice: 0.9531 | SSIM: 0.6030\n",
      "🖼️ Saved sample_865.png | Dice: 0.9316 | SSIM: 0.5933\n",
      "🖼️ Saved sample_866.png | Dice: 0.8931 | SSIM: 0.6133\n",
      "🖼️ Saved sample_867.png | Dice: 0.8643 | SSIM: 0.6150\n",
      "🖼️ Saved sample_868.png | Dice: 0.8589 | SSIM: 0.6289\n",
      "🖼️ Saved sample_869.png | Dice: 0.8975 | SSIM: 0.6335\n",
      "🖼️ Saved sample_870.png | Dice: 0.9087 | SSIM: 0.6359\n",
      "🖼️ Saved sample_871.png | Dice: 0.9126 | SSIM: 0.6312\n",
      "🖼️ Saved sample_872.png | Dice: 0.9419 | SSIM: 0.6187\n",
      "🖼️ Saved sample_873.png | Dice: 0.9590 | SSIM: 0.6080\n",
      "🖼️ Saved sample_874.png | Dice: 0.9526 | SSIM: 0.6317\n",
      "🖼️ Saved sample_875.png | Dice: 0.9453 | SSIM: 0.6381\n",
      "🖼️ Saved sample_876.png | Dice: 0.9502 | SSIM: 0.6429\n",
      "🖼️ Saved sample_877.png | Dice: 0.9224 | SSIM: 0.6450\n",
      "🖼️ Saved sample_878.png | Dice: 0.9316 | SSIM: 0.6427\n",
      "🖼️ Saved sample_879.png | Dice: 0.9351 | SSIM: 0.6122\n",
      "🖼️ Saved sample_880.png | Dice: 0.9106 | SSIM: 0.5672\n",
      "🖼️ Saved sample_881.png | Dice: 0.8804 | SSIM: 0.5735\n",
      "🖼️ Saved sample_882.png | Dice: 0.9062 | SSIM: 0.5836\n",
      "🖼️ Saved sample_883.png | Dice: 0.9482 | SSIM: 0.5913\n",
      "🖼️ Saved sample_884.png | Dice: 0.9546 | SSIM: 0.5926\n",
      "🖼️ Saved sample_885.png | Dice: 0.9170 | SSIM: 0.5787\n",
      "🖼️ Saved sample_886.png | Dice: 0.8989 | SSIM: 0.5818\n",
      "🖼️ Saved sample_887.png | Dice: 0.8931 | SSIM: 0.5887\n",
      "🖼️ Saved sample_888.png | Dice: 0.8506 | SSIM: 0.5743\n",
      "🖼️ Saved sample_889.png | Dice: 0.8828 | SSIM: 0.5748\n",
      "🖼️ Saved sample_890.png | Dice: 0.9189 | SSIM: 0.5727\n",
      "🖼️ Saved sample_891.png | Dice: 0.9185 | SSIM: 0.5834\n",
      "🖼️ Saved sample_892.png | Dice: 0.9419 | SSIM: 0.5781\n"
     ]
    },
    {
     "name": "stdout",
     "output_type": "stream",
     "text": [
      "🖼️ Saved sample_893.png | Dice: 0.9512 | SSIM: 0.5732\n",
      "🖼️ Saved sample_894.png | Dice: 0.9570 | SSIM: 0.5875\n",
      "🖼️ Saved sample_895.png | Dice: 0.9492 | SSIM: 0.5886\n",
      "🖼️ Saved sample_896.png | Dice: 0.9512 | SSIM: 0.5891\n",
      "🖼️ Saved sample_897.png | Dice: 0.9258 | SSIM: 0.5911\n",
      "🖼️ Saved sample_898.png | Dice: 0.9282 | SSIM: 0.5786\n",
      "🖼️ Saved sample_899.png | Dice: 0.9458 | SSIM: 0.5754\n",
      "🖼️ Saved sample_900.png | Dice: 0.7808 | SSIM: 0.7198\n",
      "🖼️ Saved sample_901.png | Dice: 0.7505 | SSIM: 0.7114\n",
      "🖼️ Saved sample_902.png | Dice: 0.6855 | SSIM: 0.6793\n",
      "🖼️ Saved sample_903.png | Dice: 0.6880 | SSIM: 0.6855\n",
      "🖼️ Saved sample_904.png | Dice: 0.7148 | SSIM: 0.7024\n",
      "🖼️ Saved sample_905.png | Dice: 0.7241 | SSIM: 0.6995\n",
      "🖼️ Saved sample_906.png | Dice: 0.7158 | SSIM: 0.6967\n",
      "🖼️ Saved sample_907.png | Dice: 0.7231 | SSIM: 0.7005\n",
      "🖼️ Saved sample_908.png | Dice: 0.7271 | SSIM: 0.6939\n",
      "🖼️ Saved sample_909.png | Dice: 0.6987 | SSIM: 0.7035\n",
      "🖼️ Saved sample_910.png | Dice: 0.7915 | SSIM: 0.7256\n",
      "🖼️ Saved sample_911.png | Dice: 0.7456 | SSIM: 0.7115\n",
      "🖼️ Saved sample_912.png | Dice: 0.6958 | SSIM: 0.7201\n",
      "🖼️ Saved sample_913.png | Dice: 0.7119 | SSIM: 0.7037\n",
      "🖼️ Saved sample_914.png | Dice: 0.7480 | SSIM: 0.7015\n",
      "🖼️ Saved sample_915.png | Dice: 0.7964 | SSIM: 0.7074\n",
      "🖼️ Saved sample_916.png | Dice: 0.8228 | SSIM: 0.7118\n",
      "🖼️ Saved sample_917.png | Dice: 0.8096 | SSIM: 0.7184\n",
      "🖼️ Saved sample_918.png | Dice: 0.8330 | SSIM: 0.7123\n",
      "🖼️ Saved sample_919.png | Dice: 0.8076 | SSIM: 0.7051\n",
      "🖼️ Saved sample_920.png | Dice: 0.8262 | SSIM: 0.6936\n",
      "🖼️ Saved sample_921.png | Dice: 0.8477 | SSIM: 0.6849\n",
      "🖼️ Saved sample_922.png | Dice: 0.8301 | SSIM: 0.6754\n",
      "🖼️ Saved sample_923.png | Dice: 0.7988 | SSIM: 0.6699\n",
      "🖼️ Saved sample_924.png | Dice: 0.8315 | SSIM: 0.6754\n",
      "🖼️ Saved sample_925.png | Dice: 0.8584 | SSIM: 0.6775\n",
      "🖼️ Saved sample_926.png | Dice: 0.8315 | SSIM: 0.6814\n",
      "🖼️ Saved sample_927.png | Dice: 0.8394 | SSIM: 0.6778\n",
      "🖼️ Saved sample_928.png | Dice: 0.8574 | SSIM: 0.6665\n",
      "🖼️ Saved sample_929.png | Dice: 0.8218 | SSIM: 0.6610\n",
      "🖼️ Saved sample_930.png | Dice: 0.8364 | SSIM: 0.6616\n",
      "🖼️ Saved sample_931.png | Dice: 0.8687 | SSIM: 0.6603\n",
      "🖼️ Saved sample_932.png | Dice: 0.8442 | SSIM: 0.6761\n",
      "🖼️ Saved sample_933.png | Dice: 0.8081 | SSIM: 0.6731\n",
      "🖼️ Saved sample_934.png | Dice: 0.8232 | SSIM: 0.6650\n",
      "🖼️ Saved sample_935.png | Dice: 0.8296 | SSIM: 0.6766\n",
      "🖼️ Saved sample_936.png | Dice: 0.8564 | SSIM: 0.6874\n",
      "🖼️ Saved sample_937.png | Dice: 0.8496 | SSIM: 0.6862\n",
      "🖼️ Saved sample_938.png | Dice: 0.8276 | SSIM: 0.6814\n",
      "🖼️ Saved sample_939.png | Dice: 0.8179 | SSIM: 0.6849\n",
      "🖼️ Saved sample_940.png | Dice: 0.8223 | SSIM: 0.6768\n",
      "🖼️ Saved sample_941.png | Dice: 0.8198 | SSIM: 0.6762\n",
      "🖼️ Saved sample_942.png | Dice: 0.8110 | SSIM: 0.6812\n",
      "🖼️ Saved sample_943.png | Dice: 0.7993 | SSIM: 0.6807\n",
      "🖼️ Saved sample_944.png | Dice: 0.8203 | SSIM: 0.6843\n",
      "🖼️ Saved sample_945.png | Dice: 0.8403 | SSIM: 0.6877\n",
      "🖼️ Saved sample_946.png | Dice: 0.8325 | SSIM: 0.6903\n",
      "🖼️ Saved sample_947.png | Dice: 0.8408 | SSIM: 0.6981\n",
      "🖼️ Saved sample_948.png | Dice: 0.8428 | SSIM: 0.6988\n",
      "🖼️ Saved sample_949.png | Dice: 0.8311 | SSIM: 0.6931\n",
      "🖼️ Saved sample_950.png | Dice: 0.8271 | SSIM: 0.7027\n",
      "🖼️ Saved sample_951.png | Dice: 0.8418 | SSIM: 0.7143\n",
      "🖼️ Saved sample_952.png | Dice: 0.8232 | SSIM: 0.7112\n",
      "🖼️ Saved sample_953.png | Dice: 0.8140 | SSIM: 0.7006\n",
      "🖼️ Saved sample_954.png | Dice: 0.7822 | SSIM: 0.6887\n",
      "🖼️ Saved sample_955.png | Dice: 0.8076 | SSIM: 0.7001\n",
      "🖼️ Saved sample_956.png | Dice: 0.8408 | SSIM: 0.7085\n",
      "🖼️ Saved sample_957.png | Dice: 0.8540 | SSIM: 0.7043\n",
      "🖼️ Saved sample_958.png | Dice: 0.8486 | SSIM: 0.6887\n",
      "🖼️ Saved sample_959.png | Dice: 0.8335 | SSIM: 0.6896\n",
      "🖼️ Saved sample_960.png | Dice: 0.8032 | SSIM: 0.6500\n",
      "🖼️ Saved sample_961.png | Dice: 0.8135 | SSIM: 0.6511\n",
      "🖼️ Saved sample_962.png | Dice: 0.8052 | SSIM: 0.6556\n",
      "🖼️ Saved sample_963.png | Dice: 0.8232 | SSIM: 0.6545\n",
      "🖼️ Saved sample_964.png | Dice: 0.8325 | SSIM: 0.6590\n",
      "🖼️ Saved sample_965.png | Dice: 0.8242 | SSIM: 0.6490\n",
      "🖼️ Saved sample_966.png | Dice: 0.8296 | SSIM: 0.6532\n",
      "🖼️ Saved sample_967.png | Dice: 0.8486 | SSIM: 0.6538\n",
      "🖼️ Saved sample_968.png | Dice: 0.8213 | SSIM: 0.6478\n",
      "🖼️ Saved sample_969.png | Dice: 0.8218 | SSIM: 0.6492\n",
      "🖼️ Saved sample_970.png | Dice: 0.7856 | SSIM: 0.6541\n",
      "🖼️ Saved sample_971.png | Dice: 0.7617 | SSIM: 0.6505\n",
      "🖼️ Saved sample_972.png | Dice: 0.7544 | SSIM: 0.6443\n",
      "🖼️ Saved sample_973.png | Dice: 0.7598 | SSIM: 0.6511\n",
      "🖼️ Saved sample_974.png | Dice: 0.7544 | SSIM: 0.6410\n",
      "🖼️ Saved sample_975.png | Dice: 0.7788 | SSIM: 0.6457\n",
      "🖼️ Saved sample_976.png | Dice: 0.7920 | SSIM: 0.6521\n",
      "🖼️ Saved sample_977.png | Dice: 0.8032 | SSIM: 0.6517\n",
      "🖼️ Saved sample_978.png | Dice: 0.8076 | SSIM: 0.6478\n",
      "🖼️ Saved sample_979.png | Dice: 0.7866 | SSIM: 0.6459\n",
      "🖼️ Saved sample_980.png | Dice: 0.7583 | SSIM: 0.6451\n",
      "🖼️ Saved sample_981.png | Dice: 0.7544 | SSIM: 0.6365\n",
      "🖼️ Saved sample_982.png | Dice: 0.7344 | SSIM: 0.6300\n",
      "🖼️ Saved sample_983.png | Dice: 0.7554 | SSIM: 0.6363\n",
      "🖼️ Saved sample_984.png | Dice: 0.7656 | SSIM: 0.6406\n",
      "🖼️ Saved sample_985.png | Dice: 0.7583 | SSIM: 0.6445\n",
      "🖼️ Saved sample_986.png | Dice: 0.7651 | SSIM: 0.6461\n",
      "🖼️ Saved sample_987.png | Dice: 0.7124 | SSIM: 0.6393\n",
      "🖼️ Saved sample_988.png | Dice: 0.7295 | SSIM: 0.6364\n",
      "🖼️ Saved sample_989.png | Dice: 0.7197 | SSIM: 0.6454\n",
      "🖼️ Saved sample_990.png | Dice: 0.6914 | SSIM: 0.6460\n",
      "🖼️ Saved sample_991.png | Dice: 0.6719 | SSIM: 0.6441\n",
      "🖼️ Saved sample_992.png | Dice: 0.6743 | SSIM: 0.6407\n",
      "🖼️ Saved sample_993.png | Dice: 0.6587 | SSIM: 0.6373\n",
      "🖼️ Saved sample_994.png | Dice: 0.6538 | SSIM: 0.6346\n",
      "🖼️ Saved sample_995.png | Dice: 0.6943 | SSIM: 0.6344\n",
      "🖼️ Saved sample_996.png | Dice: 0.7686 | SSIM: 0.6480\n",
      "🖼️ Saved sample_997.png | Dice: 0.7871 | SSIM: 0.6509\n",
      "🖼️ Saved sample_998.png | Dice: 0.7930 | SSIM: 0.6354\n",
      "🖼️ Saved sample_999.png | Dice: 0.7646 | SSIM: 0.6296\n",
      "\n",
      "📈 Saved CSV summary to test_results/results.csv\n"
     ]
    }
   ],
   "source": [
    "\"\"\"\n",
    "Run Inference\n",
    "\"\"\"\n",
    "\n",
    "import os\n",
    "import re\n",
    "\n",
    "checkpoint_dir = \"checkpoints_mag2ssfp_pix2pix\"\n",
    "model_files = [f for f in os.listdir(checkpoint_dir) if f.startswith(\"generator_best_composite_epoch\")]\n",
    "\n",
    "# Extract epoch numbers correctly\n",
    "def extract_epoch(filename):\n",
    "    match = re.search(r'epoch_(\\d+)', filename)\n",
    "    return int(match.group(1)) if match else -1  # default -1 if no match\n",
    "\n",
    "# Sort and get the latest\n",
    "latest_model = sorted(model_files, key=extract_epoch)[-1]\n",
    "\n",
    "generator = tf.keras.models.load_model(os.path.join(checkpoint_dir, latest_model))\n",
    "print(f\"✅ Loaded best generator from {latest_model}\")\n",
    "\n",
    "import matplotlib.pyplot as plt\n",
    "import tensorflow as tf\n",
    "import os\n",
    "\n",
    "import csv\n",
    "\n",
    "def generate_and_save_all(generator, dataset, seg_model, out_dir='test_results'):\n",
    "    os.makedirs(out_dir, exist_ok=True)\n",
    "    csv_path = os.path.join(out_dir, \"results.csv\")\n",
    "\n",
    "    with open(csv_path, mode='w', newline='') as file:\n",
    "        writer = csv.writer(file)\n",
    "        writer.writerow([\"Sample\", \"Dice\", \"SSIM\"])\n",
    "\n",
    "        sample_idx = 0\n",
    "        dice_scores = []\n",
    "        ssim_scores = []\n",
    "\n",
    "        for i, (input_image, target) in enumerate(dataset):\n",
    "            mag_only = input_image[..., :1]\n",
    "            prediction = generator(input_image, training=False)\n",
    "\n",
    "            # Run all images through the frozen segmentation model\n",
    "            seg_input = seg_model(mag_only, training=False)\n",
    "            seg_target = seg_model(target, training=False)\n",
    "            seg_pred = seg_model(prediction, training=False)\n",
    "\n",
    "            # Extract from dicts if needed\n",
    "            if isinstance(seg_input, dict):   seg_input = list(seg_input.values())[0]\n",
    "            if isinstance(seg_pred, dict):   seg_pred = list(seg_pred.values())[0]\n",
    "            if isinstance(seg_target, dict): seg_target = list(seg_target.values())[0]\n",
    "\n",
    "            batch_size = input_image.shape[0]\n",
    "            for j in range(batch_size):\n",
    "                # Plot and save visualization\n",
    "                fig, ax = plt.subplots(2, 3, figsize=(12, 6))\n",
    "                imgs = [mag_only[j], prediction[j], target[j]]\n",
    "                segs = [seg_input[j], seg_pred[j], seg_target[j]]\n",
    "                titles = [\"Input (Ch.1)\", \"Generated\", \"Target (Ch.0)\"]\n",
    "                seg_titles = [\"Seg(Input)\", \"Seg(Generated)\", \"Seg(Target)\"]\n",
    "\n",
    "                for k in range(3):\n",
    "                    ax[0, k].imshow(tf.cast(tf.squeeze(imgs[k]), dtype=tf.float32), cmap='gray')\n",
    "                    ax[0, k].set_title(titles[k])\n",
    "                    ax[0, k].axis('off')\n",
    "\n",
    "                    ax[1, k].imshow(tf.cast(tf.squeeze(segs[k]), dtype=tf.float32), cmap='gray')\n",
    "                    ax[1, k].set_title(seg_titles[k])\n",
    "                    ax[1, k].axis('off')\n",
    "\n",
    "                plt.tight_layout()\n",
    "                filename = f\"sample_{sample_idx}.png\"\n",
    "                plt.savefig(os.path.join(out_dir, filename))\n",
    "                plt.close()\n",
    "\n",
    "                # Compute Dice\n",
    "                pred_flat = tf.reshape(seg_pred[j], [-1])\n",
    "                target_flat = tf.reshape(seg_target[j], [-1])\n",
    "                intersection = tf.reduce_sum(pred_flat * target_flat)\n",
    "                denominator = tf.reduce_sum(pred_flat) + tf.reduce_sum(target_flat)\n",
    "                dice = (2. * intersection + 1e-6) / (denominator + 1e-6)\n",
    "\n",
    "                # Compute SSIM\n",
    "                ssim = tf.image.ssim(tf.expand_dims(prediction[j], 0),\n",
    "                                     tf.expand_dims(target[j], 0),\n",
    "                                     max_val=2.0)  # [-1, 1] range\n",
    "\n",
    "                # Write to CSV\n",
    "                writer.writerow([filename, float(dice), float(ssim)])\n",
    "                dice_scores.append(float(dice))\n",
    "                ssim_scores.append(float(ssim))\n",
    "                sample_idx += 1\n",
    "                print(f\"🖼️ Saved {filename} | Dice: {dice:.4f} | SSIM: {ssim[0]:.4f}\")\n",
    "\n",
    "        # Summary row\n",
    "        writer.writerow([])\n",
    "        writer.writerow([\"Average\", f\"{np.mean(dice_scores):.4f}\", f\"{np.mean(ssim_scores):.4f}\"])\n",
    "        print(f\"\\n📈 Saved CSV summary to {csv_path}\")\n",
    "            \n",
    "test_dataset = get_dataset(test_data, shuffle=False)\n",
    "generate_and_save_all(generator, test_dataset, seg_unet, out_dir=\"test_results\")"
   ]
  },
  {
   "cell_type": "code",
   "execution_count": null,
   "id": "5d4e1f58",
   "metadata": {},
   "outputs": [],
   "source": []
  }
 ],
 "metadata": {
  "kernelspec": {
   "display_name": "Python 3 (ipykernel)",
   "language": "python",
   "name": "python3"
  },
  "language_info": {
   "codemirror_mode": {
    "name": "ipython",
    "version": 3
   },
   "file_extension": ".py",
   "mimetype": "text/x-python",
   "name": "python",
   "nbconvert_exporter": "python",
   "pygments_lexer": "ipython3",
   "version": "3.9.19"
  }
 },
 "nbformat": 4,
 "nbformat_minor": 5
}
