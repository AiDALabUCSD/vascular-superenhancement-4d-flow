{
 "cells": [
  {
   "cell_type": "code",
   "execution_count": 1,
   "metadata": {},
   "outputs": [
    {
     "name": "stdout",
     "output_type": "stream",
     "text": [
      "Base data dir: /home/ayeluru/mnt/fourier\n",
      "Base working dir: /home/ayeluru\n",
      "Project root: /home/ayeluru/mnt/fourier/projects/vascular_superenhancement-4d-flow/sample_patients\n",
      "Repository root: /home/ayeluru/mnt/fourier/repository/vascular_superenhancement-4d-flow/sample_patients\n",
      "Zipped dir: /home/ayeluru/mnt/fourier/repository/vascular_superenhancement-4d-flow/sample_patients/zipped_files\n",
      "Unzipped dir: /home/ayeluru/mnt/fourier/repository/vascular_superenhancement-4d-flow/sample_patients/unzipped_files\n",
      "Working dir: /home/ayeluru/vascular_superenhancement-4d-flow_working-dir/sample_patients\n"
     ]
    }
   ],
   "source": [
    "from vascular_superenhancement.utils.path_config import load_path_config\n",
    "\n",
    "paths = load_path_config(\"default\")\n",
    "\n",
    "print(\"Base data dir:\", paths.base_data_dir)\n",
    "print(\"Base working dir:\", paths.base_working_dir)\n",
    "print(\"Project root:\", paths.project_root)\n",
    "print(\"Repository root:\", paths.repository_root)\n",
    "print(\"Zipped dir:\", paths.zipped_dir)\n",
    "print(\"Unzipped dir:\", paths.unzipped_dir)\n",
    "print(\"Working dir:\", paths.working_dir)\n"
   ]
  },
  {
   "cell_type": "code",
   "execution_count": 2,
   "metadata": {},
   "outputs": [
    {
     "name": "stdout",
     "output_type": "stream",
     "text": [
      "Base data dir: /home/ayeluru/mnt/fourier\n",
      "Base working dir: /home/ayeluru\n",
      "Project root: /home/ayeluru/mnt/fourier/projects/vascular_superenhancement-4d-flow/all_patients\n",
      "Repository root: /home/ayeluru/mnt/fourier/repository/vascular_superenhancement-4d-flow/all_patients\n",
      "Zipped dir: /home/ayeluru/mnt/fourier/repository/vascular_superenhancement-4d-flow/all_patients/zipped_files\n",
      "Unzipped dir: /home/ayeluru/mnt/fourier/repository/vascular_superenhancement-4d-flow/all_patients/unzipped_files\n",
      "Working dir: /home/ayeluru/vascular_superenhancement-4d-flow_working-dir/all_patients\n"
     ]
    }
   ],
   "source": [
    "from vascular_superenhancement.utils.path_config import load_path_config\n",
    "\n",
    "paths = load_path_config(\"all_patients\")\n",
    "\n",
    "print(\"Base data dir:\", paths.base_data_dir)\n",
    "print(\"Base working dir:\", paths.base_working_dir)\n",
    "print(\"Project root:\", paths.project_root)\n",
    "print(\"Repository root:\", paths.repository_root)\n",
    "print(\"Zipped dir:\", paths.zipped_dir)\n",
    "print(\"Unzipped dir:\", paths.unzipped_dir)\n",
    "print(\"Working dir:\", paths.working_dir)\n"
   ]
  }
 ],
 "metadata": {
  "kernelspec": {
   "display_name": "Python 3",
   "language": "python",
   "name": "python3"
  },
  "language_info": {
   "codemirror_mode": {
    "name": "ipython",
    "version": 3
   },
   "file_extension": ".py",
   "mimetype": "text/x-python",
   "name": "python",
   "nbconvert_exporter": "python",
   "pygments_lexer": "ipython3",
   "version": "3.10.16"
  }
 },
 "nbformat": 4,
 "nbformat_minor": 2
}
