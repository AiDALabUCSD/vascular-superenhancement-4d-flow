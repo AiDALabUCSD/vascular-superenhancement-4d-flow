{
 "cells": [
  {
   "cell_type": "code",
   "execution_count": 4,
   "metadata": {},
   "outputs": [],
   "source": [
    "import pandas as pd\n",
    "import random\n",
    "from pathlib import Path\n",
    "from typing import List, Tuple, Optional\n",
    "\n",
    "\n",
    "def generate_split_csv(\n",
    "    all_patients: List[str],\n",
    "    split_percentages: Tuple[int, int, int],\n",
    "    output_csv: Path,\n",
    "    skip_patients: Optional[List[str]] = None,\n",
    "    seed: Optional[int] = None,\n",
    ") -> None:\n",
    "    \"\"\"\n",
    "    Generate or update a patient split CSV with train/val/test/skip assignments.\n",
    "\n",
    "    Patients already in the CSV retain their split.\n",
    "    New patients are randomized and assigned to splits using the input percentages.\n",
    "    Skipped patients are included in the randomization, but reassigned to 'skip' after.\n",
    "\n",
    "    Args:\n",
    "        all_patients: List of all patient IDs to consider.\n",
    "        split_percentages: Tuple of (train%, val%, test%) that sums to 100.\n",
    "        output_csv: Where to save the final CSV.\n",
    "        skip_patients: List of patient IDs to mark as 'skip'.\n",
    "        seed: Optional random seed for reproducibility.\n",
    "    \"\"\"\n",
    "    assert sum(split_percentages) == 100, \"Split percentages must sum to 100\"\n",
    "    skip_patients = set(skip_patients or [])\n",
    "    all_patients = sorted(set(all_patients))\n",
    "    rng = random.Random(seed)\n",
    "\n",
    "    # Load existing CSV if available\n",
    "    if output_csv.exists():\n",
    "        existing_df = pd.read_csv(output_csv)\n",
    "        existing_assignments = dict(zip(existing_df.patient_id, existing_df.split))\n",
    "        print(f\"Loaded existing split with {len(existing_assignments)} patients.\")\n",
    "    else:\n",
    "        existing_assignments = {}\n",
    "\n",
    "    # Determine new patients\n",
    "    fixed_patients = set(existing_assignments)\n",
    "    new_patients = [p for p in all_patients if p not in fixed_patients]\n",
    "\n",
    "    # Randomize all new patients (including skipped)\n",
    "    rng.shuffle(new_patients)\n",
    "\n",
    "    # Assign all new patients as if none are skipped\n",
    "    n_total = len(new_patients)\n",
    "    n_train = int(split_percentages[0] / 100 * n_total)\n",
    "    n_val = int(split_percentages[1] / 100 * n_total)\n",
    "    n_test = n_total - n_train - n_val\n",
    "\n",
    "    split_assignments = (\n",
    "        [\"train\"] * n_train +\n",
    "        [\"validation\"] * n_val +\n",
    "        [\"test\"] * n_test\n",
    "    )\n",
    "    new_assignments = dict(zip(new_patients, split_assignments))\n",
    "\n",
    "    # After assigning, change skipped patients to \"skip\"\n",
    "    for patient in skip_patients:\n",
    "        if patient in new_assignments:\n",
    "            new_assignments[patient] = \"skip\"\n",
    "\n",
    "    # Merge with existing assignments\n",
    "    combined = existing_assignments.copy()\n",
    "    combined.update(new_assignments)\n",
    "\n",
    "    # Output to DataFrame\n",
    "    df_out = pd.DataFrame(sorted(combined.items()), columns=[\"patient_id\", \"split\"])\n",
    "    output_csv.parent.mkdir(parents=True, exist_ok=True)\n",
    "    df_out.to_csv(output_csv, index=False)\n",
    "\n",
    "    # Report\n",
    "    split_counts = df_out[\"split\"].value_counts().to_dict()\n",
    "    print(\"Final split counts:\", split_counts)\n",
    "    print(f\"CSV written to {output_csv}\")\n"
   ]
  },
  {
   "cell_type": "code",
   "execution_count": 5,
   "metadata": {},
   "outputs": [
    {
     "name": "stdout",
     "output_type": "stream",
     "text": [
      "['Dinaspig', 'Rekana', 'Tehupoug', 'Tieriegi', 'Cornuefor', 'Cefaru', 'Tiepolem', 'Upbapit', 'Suedrurnep', 'Tupotu', 'Bibathot', 'Kusksusuth', 'Noyetut', 'Gudulung', 'Pemiggig', 'Ribieko', 'Kihaquo', 'Crutaswo', 'Slathalu', 'Sithiroo', 'Heynelap', 'Qualinad', 'Trecuquem', 'Badiswu', 'Osumud', 'Suquepog', 'Nocucuech', 'Omeflok', 'Hucisot', 'Mugukood', 'Bephedou', 'Frahidiel', 'Uzegbex', 'Jiesieja', 'Phidecro', 'Quogosi', 'Nosite', 'Kadiforn', 'Cadedag', 'Datokif', 'Phunitul', 'Hekita', 'Tatufok', 'Nounuri', 'Duquestank', 'Quehokee', 'Sahuhe', 'Rayoloth', 'Golotag', 'Quinudoul', 'Ostablip', 'Pibenos', 'Nufotoy', 'Otikek', 'Bovutou', 'Fisale', 'Gudabee', 'Getahig', 'Gemapoey', 'Jufamich', 'Hetoprist', 'Socrowa', 'Glomahe', 'Eporid', 'Dapafem', 'Ceymuslek', 'Diecudey', 'Johijap', 'Gujarjoy', 'Strousuhe', 'Preflefi', 'Urpofooy', 'Jenoomer', 'Githucu', 'Udmodas', 'Kopejek', 'Phahofi', 'Ceriba', 'Hicuhe', 'Fudoquo', 'Dalibul', 'Thameci', 'Pubayue', 'Waruese', 'Ekotey', 'Pegiqui', 'Kofudun', 'Ibdarnif', 'Jemeegu', 'Yobofre', 'Hokuepu', 'Tiphemik', 'Udutek', 'Molotoze', 'Grequafie', 'Dutungub', 'Swunufod', 'Bomatog', 'Geedefou', 'Erusar', 'Yidepi', 'Butiswu', 'Dujomal', 'Cemuquey', 'Stonscuetof', 'Ernegur', 'Apuefquor', 'Puquefre', 'Kuchefre', 'Kewasha', 'Hapase', 'Egumud', 'Grefuci', 'Loflaka', 'Irbrosgol', 'Selebes', 'Fliesiemo', 'Hidistoy', 'Dithigog', 'Kuebeeku', 'Ganage', 'Ikatus', 'Kistrolu', 'Fibrefob', 'Biswifo', 'Nufafe', 'Tadilsog', 'Kacague', 'Slesuegig', 'Drusdinut', 'Sipisa', 'Diequipi', 'Gobulou', 'Ifankab', 'Fuekeswa', 'Lueduri', 'Somenut', 'Teeroosay', 'Quofoustush', 'Jagluque', 'Sejile', 'Grouzahue', 'Bigeral', 'Iribar', 'Tubafu', 'Oduskueb', 'Quihoojol', 'Haseyad', 'Difresa', 'Quetode', 'Ururtos', 'Posbuten', 'Ubazquis', 'Wukazu', 'Senaniel', 'Jiquiler', 'Junicri', 'Phuquicha', 'Lielefak', 'Priseko', 'Quibanid', 'Fecoostra', 'Riqueli', 'Eyostoy', 'Amupam', 'Jousnisam', 'Desoomi', 'Bukrukesh', 'Fejoba', 'Epcedin', 'Thisuga', 'Pamennar', 'Talodut', 'Edengat', 'Kuedristip', 'Prosufu', 'Snonoque', 'Ugitat', 'Runusath', 'Fumtufoos', 'Japotorn']\n"
     ]
    }
   ],
   "source": [
    "from pathlib import Path\n",
    "import os\n",
    "\n",
    "all_patients_path = Path('/home/ayeluru/vascular-superenhancement-4d-flow/working_dir/all_patients/patient_data')\n",
    "\n",
    "all_patients = []\n",
    "for patient in os.listdir(all_patients_path):\n",
    "    all_patients.append(patient)\n",
    "\n",
    "print(all_patients)\n",
    "\n",
    "\n",
    "\n",
    "skip_patients = ['Amupam', 'Bephedou', 'Bigeral', 'Ceymuslek', 'Fisale', 'Ganage', 'Githucu', 'Gudabee', 'Gujarjoy', 'Hapase', 'Haseyad', 'Hidistoy', 'Ikatus', 'Johijap', 'Molotoze', 'Nocucuech', 'Nounuri', 'Otikek', 'Pegiqui', 'Pibenos', 'Qualinad', 'Quibanid', 'Quofoustush', 'Rekana', 'Riqueli', 'Swunufod', 'Teeroosay', 'Tehupoug', 'Ubazquis', 'Waruese', 'Wukazu', 'Yidepi']\n",
    "split_percentages = (80, 10, 10)\n",
    "output_csv = Path('/home/ayeluru/vascular-superenhancement-4d-flow/splits/splits_07-21-25.csv')\n"
   ]
  },
  {
   "cell_type": "code",
   "execution_count": 7,
   "metadata": {},
   "outputs": [
    {
     "name": "stdout",
     "output_type": "stream",
     "text": [
      "Final split counts: {'train': 117, 'skip': 32, 'test': 17, 'validation': 15}\n",
      "CSV written to /home/ayeluru/vascular-superenhancement-4d-flow/splits/splits_07-21-25.csv\n"
     ]
    }
   ],
   "source": [
    "generate_split_csv(\n",
    "    all_patients=all_patients,\n",
    "    split_percentages=split_percentages,\n",
    "    output_csv=output_csv,\n",
    "    skip_patients=skip_patients,\n",
    "    seed=42\n",
    ")"
   ]
  }
 ],
 "metadata": {
  "kernelspec": {
   "display_name": "Python 3 (ipykernel)",
   "language": "python",
   "name": "python3"
  },
  "language_info": {
   "codemirror_mode": {
    "name": "ipython",
    "version": 3
   },
   "file_extension": ".py",
   "mimetype": "text/x-python",
   "name": "python",
   "nbconvert_exporter": "python",
   "pygments_lexer": "ipython3",
   "version": "3.10.16"
  }
 },
 "nbformat": 4,
 "nbformat_minor": 2
}
